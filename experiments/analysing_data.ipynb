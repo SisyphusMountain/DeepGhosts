{
 "cells": [
  {
   "cell_type": "markdown",
   "metadata": {},
   "source": [
    "# Length of reconstructed tree"
   ]
  },
  {
   "cell_type": "code",
   "execution_count": 1,
   "metadata": {},
   "outputs": [
    {
     "name": "stdout",
     "output_type": "stream",
     "text": [
      "Collecting ete3\n",
      "  Downloading ete3-3.1.3.tar.gz (4.8 MB)\n",
      "\u001b[2K     \u001b[90m━━━━━━━━━━━━━━━━━━━━━━━━━━━━━━━━━━━━━━━━\u001b[0m \u001b[32m4.8/4.8 MB\u001b[0m \u001b[31m626.8 kB/s\u001b[0m eta \u001b[36m0:00:00\u001b[0ma \u001b[36m0:00:01\u001b[0m\n",
      "\u001b[?25h  Preparing metadata (setup.py) ... \u001b[?25ldone\n",
      "\u001b[?25hBuilding wheels for collected packages: ete3\n",
      "  Building wheel for ete3 (setup.py) ... \u001b[?25ldone\n",
      "\u001b[?25h  Created wheel for ete3: filename=ete3-3.1.3-py3-none-any.whl size=2273867 sha256=7063eb6736fddf888dcea1bcfd6f8298f7d3ac56b48d02c37c74f2663d0c5ca5\n",
      "  Stored in directory: /home/enzo/.cache/pip/wheels/4f/18/8d/3800b8b1dc7a8c1954eaa48424f639b2cfc760922cc3cee479\n",
      "Successfully built ete3\n",
      "Installing collected packages: ete3\n",
      "Successfully installed ete3-3.1.3\n"
     ]
    }
   ],
   "source": [
    "!pip install ete3"
   ]
  },
  {
   "cell_type": "code",
   "execution_count": 2,
   "metadata": {},
   "outputs": [
    {
     "name": "stdout",
     "output_type": "stream",
     "text": [
      "Average length for s1: 278.1518\n",
      "Average length for s2: 188.9950\n",
      "Average length for s3: 152.1999\n",
      "Average length for s4: 120.4838\n",
      "Average length for s5: 101.4690\n",
      "Average length for s6: 82.6084\n"
     ]
    }
   ],
   "source": [
    "import os\n",
    "from ete3 import Tree\n",
    "\n",
    "# Base directory for summaries\n",
    "BASE_DIR = \"/media/enzo/Stockage/new_output/summaries\"\n",
    "\n",
    "# Range for i and j\n",
    "i_range = range(1, 7)  # s1 to s6\n",
    "j_range = range(0, 150)  # 0 to 149\n",
    "\n",
    "# Dictionary to store average lengths for each dataset\n",
    "average_lengths = {}\n",
    "\n",
    "for i in i_range:\n",
    "    total_length = 0\n",
    "    count = 0\n",
    "    for j in j_range:\n",
    "        tree_file = f\"{BASE_DIR}/s{i}/processed_data_for_pytorch_{j}/sampled_species_tree.nwk\"\n",
    "        if os.path.exists(tree_file):\n",
    "            try:\n",
    "                # Load the tree\n",
    "                t = Tree(tree_file, format=1)\n",
    "                # Sum branch lengths\n",
    "                tree_length = sum(branch.dist for branch in t.traverse())\n",
    "                total_length += tree_length\n",
    "                count += 1\n",
    "            except Exception as e:\n",
    "                print(f\"Error reading tree {tree_file}: {e}\")\n",
    "        else:\n",
    "            print(f\"File not found: {tree_file}\")\n",
    "\n",
    "    # Compute the average length for s{i} if count > 0\n",
    "    if count > 0:\n",
    "        average_lengths[f\"s{i}\"] = total_length / count\n",
    "    else:\n",
    "        average_lengths[f\"s{i}\"] = None  # No trees found for this dataset\n",
    "\n",
    "# Display the results\n",
    "for dataset, avg_length in average_lengths.items():\n",
    "    if avg_length is not None:\n",
    "        print(f\"Average length for {dataset}: {avg_length:.4f}\")\n",
    "    else:\n",
    "        print(f\"No trees found for {dataset}.\")\n"
   ]
  },
  {
   "cell_type": "markdown",
   "metadata": {},
   "source": [
    "# Number of transfers to the future"
   ]
  },
  {
   "cell_type": "markdown",
   "metadata": {},
   "source": []
  }
 ],
 "metadata": {
  "kernelspec": {
   "display_name": "DeepGhosts",
   "language": "python",
   "name": "python3"
  },
  "language_info": {
   "codemirror_mode": {
    "name": "ipython",
    "version": 3
   },
   "file_extension": ".py",
   "mimetype": "text/x-python",
   "name": "python",
   "nbconvert_exporter": "python",
   "pygments_lexer": "ipython3",
   "version": "3.12.8"
  }
 },
 "nbformat": 4,
 "nbformat_minor": 2
}
