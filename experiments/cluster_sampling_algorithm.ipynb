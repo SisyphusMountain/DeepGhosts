{
 "cells": [
  {
   "cell_type": "code",
   "execution_count": 1,
   "metadata": {},
   "outputs": [
    {
     "name": "stdout",
     "output_type": "stream",
     "text": [
      "15\n",
      "11\n",
      "10\n",
      "9\n",
      "1\n",
      "2\n",
      "3\n",
      "4\n",
      "14\n",
      "12\n",
      "7\n",
      "8\n",
      "13\n",
      "5\n",
      "6\n"
     ]
    }
   ],
   "source": [
    "from ete3 import Tree\n",
    "tree_string = \"((((1:1.0, 2:1.0)9:1.0, 3:2.0)10:1.0,4:3.0)11:1.0,((7:1.2,8:1.2)12:1.8,(5:1.5,6:1.5)13:1.5)14:1.0)15:1.0;\"\n",
    "t = Tree(tree_string, format=1)\n",
    "t.show()\n",
    "\n",
    "\n",
    "def traverse_tree(node):\n",
    "    print(node.name)\n",
    "    for child in node.get_children():\n",
    "        traverse_tree(child)\n",
    "\n",
    "traverse_tree(t)"
   ]
  },
  {
   "cell_type": "code",
   "execution_count": null,
   "metadata": {},
   "outputs": [
    {
     "data": {
      "text/plain": [
       "{Tree node '1' (0x7c6d3fe3693),\n",
       " Tree node '2' (0x7c6d3fe360f),\n",
       " Tree node '3' (0x7c6d3fe3624),\n",
       " Tree node '7' (0x7c6d3fe361e),\n",
       " Tree node '8' (0x7c6d3fe361b)}"
      ]
     },
     "execution_count": 17,
     "metadata": {},
     "output_type": "execute_result"
    }
   ],
   "source": [
    "from ete3 import Tree\n",
    "tree_string = \"((((1:1.0, 2:1.0)9:1.0, 3:2.0)10:1.0,4:3.0)11:1.0,((7:1.2,8:1.2)12:1.8,(5:1.5,6:1.5)13:1.5)14:1.0)15:1.0;\"\n",
    "t = Tree(tree_string, format=1)\n",
    "t.show()\n",
    "\n",
    "\n",
    "def traverse_tree(node):\n",
    "    print(node.name)\n",
    "    for child in node.get_children():\n",
    "        traverse_tree(child)\n",
    "\n",
    "traverse_tree(t)\n",
    "\n",
    "def give_depth(tree):\n",
    "    for node in tree.traverse(strategy=\"postorder\"):\n",
    "        if node.is_leaf():\n",
    "            node.add_features(depth=0)\n",
    "        else:\n",
    "            node.add_features(depth=max(child.depth + child.dist for child in node.children))\n",
    "\n",
    "def compute_ltk_added(shallowest_node, internal_nodes_to_keep, root_left_children, root_right_children, \n",
    "                        root_has_left_children, root_has_right_children):\n",
    "    ltk_added = 2  # at the maximum, adding an internal node will require adding two leaves\n",
    "    \n",
    "    # Check if children are already in the set of internal nodes to keep\n",
    "    has_left_child = shallowest_node.get_children()[0] in internal_nodes_to_keep\n",
    "    has_right_child = shallowest_node.get_children()[1] in internal_nodes_to_keep\n",
    "    \n",
    "    if has_left_child:\n",
    "        ltk_added -= 1\n",
    "    if has_right_child:\n",
    "        ltk_added -= 1\n",
    "        \n",
    "    # Check if this node contributes to root's left or right children\n",
    "    if not root_has_left_children and shallowest_node in root_left_children:\n",
    "        ltk_added -= 1\n",
    "        root_has_left_children = True\n",
    "    if not root_has_right_children and shallowest_node in root_right_children:\n",
    "        ltk_added -= 1\n",
    "        root_has_right_children = True\n",
    "        \n",
    "    return ltk_added, has_left_child, has_right_child, root_has_left_children, root_has_right_children\n",
    "\n",
    "def cluster_sample_leaves(tree, nb_leaves_to_keep):\n",
    "    give_depth(tree)\n",
    "    nodes_with_depths = [(node, node.depth) for node in tree.traverse() if not node.is_leaf()]\n",
    "    nodes_with_depths.sort(key=lambda x: x[1], reverse=True)\n",
    "    internal_nodes_to_keep = {nodes_with_depths.pop(0)[0]: (False, False)} # Always keep the root\n",
    "    nb_sampled_leaves = 2 # If we keep the root, we need two leaves.\n",
    "    # Now choose the shallowest internal nodes in the tree, while keeping count of the current number of sampled leaves\n",
    "    # Once we reach the target number of sampled leaves -1, we have two possibilities:\n",
    "    # Either adding the shallowest nonsampling internal node would add a single leaf to the sample, in which case we add it\n",
    "    # Or it would add more than one leaf to the sample, in which case we don't add it, and instead find the internal node in the tree\n",
    "    # whose addition would add a branch with the smallest length to the constructed tree.\n",
    "    root_left_children = {node for node in (tree.get_children()[0]).iter_descendants()}\n",
    "    root_right_children = {node for node in (tree.get_children()[1]).iter_descendants()}\n",
    "\n",
    "    while nb_sampled_leaves < nb_leaves_to_keep:\n",
    "        ltk_added, has_left_child, has_right_child, root_has_left_children, root_has_right_children = compute_ltk_added(\n",
    "            nodes_with_depths[-1][0], internal_nodes_to_keep, root_left_children, root_right_children, internal_nodes_to_keep[tree][0], internal_nodes_to_keep[tree][1])\n",
    "        if ltk_added + nb_sampled_leaves <= nb_leaves_to_keep:\n",
    "            internal_nodes_to_keep[nodes_with_depths.pop()[0]] = (has_left_child, has_right_child)\n",
    "            nb_sampled_leaves += ltk_added\n",
    "            internal_nodes_to_keep[tree] = (root_has_left_children, root_has_right_children)\n",
    "        else:\n",
    "            # remove the shallowest node\n",
    "            nodes_with_depths.pop()\n",
    "    sampled_leaves = set()\n",
    "    # Now sample one leaf for each side of internal node that doesn't already have a leaf\n",
    "    for internal_node, (has_left_child, has_right_child) in internal_nodes_to_keep.items():\n",
    "        if not has_left_child:\n",
    "            sampled_leaves.add(internal_node.get_children()[0])\n",
    "        if not has_right_child:\n",
    "            sampled_leaves.add(internal_node.get_children()[1])\n",
    "    return sampled_leaves\n",
    "result = cluster_sample_leaves(t, 5)\n",
    "print([node.name for node in result])"
   ]
  },
  {
   "cell_type": "code",
   "execution_count": null,
   "metadata": {},
   "outputs": [],
   "source": []
  }
 ],
 "metadata": {
  "kernelspec": {
   "display_name": "DeepGhosts",
   "language": "python",
   "name": "python3"
  },
  "language_info": {
   "codemirror_mode": {
    "name": "ipython",
    "version": 3
   },
   "file_extension": ".py",
   "mimetype": "text/x-python",
   "name": "python",
   "nbconvert_exporter": "python",
   "pygments_lexer": "ipython3",
   "version": "3.12.8"
  }
 },
 "nbformat": 4,
 "nbformat_minor": 2
}
