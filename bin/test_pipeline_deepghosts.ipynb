{
 "cells": [
  {
   "cell_type": "markdown",
   "metadata": {},
   "source": [
    "# Generate species tree"
   ]
  },
  {
   "cell_type": "code",
   "execution_count": null,
   "metadata": {},
   "outputs": [],
   "source": [
    "from pathlib import Path\n",
    "import subprocess\n",
    "OUTPUT_FOLDER = Path(\"/home/enzo/Documents/git/WP1/DeepGhosts/Output_test\")"
   ]
  },
  {
   "cell_type": "code",
   "execution_count": null,
   "metadata": {},
   "outputs": [],
   "source": [
    "sp_tree_index = 0\n",
    "complete_tree = OUTPUT_FOLDER / f\"species_tree_{sp_tree_index}\" / \"complete_species_tree.nwk\"\n",
    "extant_tree = OUTPUT_FOLDER / f\"species_tree_{sp_tree_index}\" / \"extant_species_tree.nwk\""
   ]
  },
  {
   "cell_type": "code",
   "execution_count": null,
   "metadata": {},
   "outputs": [],
   "source": [
    "tree_output_folder = str(OUTPUT_FOLDER / f\"species_tree_{sp_tree_index}\")\n",
    "command = f\"python3 /home/enzo/Documents/git/Zombi_ale_friendly/Zombi.py T /home/enzo/Documents/git/Zombi_ale_friendly/Parameters/SpeciesTreeParameters.tsv {tree_output_folder}\"\n",
    "subprocess.run(command, shell=True)"
   ]
  },
  {
   "cell_type": "markdown",
   "metadata": {},
   "source": [
    "# Generate gene trees"
   ]
  },
  {
   "cell_type": "code",
   "execution_count": null,
   "metadata": {},
   "outputs": [],
   "source": [
    "command = f\"python3 /home/enzo/Documents/git/Zombi_ale_friendly/Zombi.py G /home/enzo/Documents/git/Zombi_ale_friendly/Parameters/GenomeParameters.tsv {tree_output_folder}\"\n",
    "subprocess.run(command, shell=True)"
   ]
  },
  {
   "cell_type": "markdown",
   "metadata": {},
   "source": [
    "# Sampling avec Zombi"
   ]
  },
  {
   "cell_type": "markdown",
   "metadata": {},
   "source": [
    "## Sampling uniforme"
   ]
  },
  {
   "cell_type": "code",
   "execution_count": null,
   "metadata": {},
   "outputs": [],
   "source": [
    "# sampled_species = 5\n",
    "# command = f\"python3 /home/enzo/Documents/git/Zombi_ale_friendly/SpeciesSampler.py n {sampled_species} {tree_output_folder}\"\n",
    "# subprocess.run(command, shell=True)"
   ]
  },
  {
   "cell_type": "markdown",
   "metadata": {},
   "source": [
    "## Sampling depuis une liste d'espèces"
   ]
  },
  {
   "cell_type": "code",
   "execution_count": null,
   "metadata": {},
   "outputs": [],
   "source": [
    "from ete3 import Tree\n",
    "import random\n",
    "sampled_species_path = \"/home/enzo/Documents/git/WP1/DeepGhosts/Output_test/sampled_leaves_list.txt\"\n",
    "extant_tree = Tree(\"/home/enzo/Documents/git/WP1/DeepGhosts/Output_test/species_tree_0/T/ExtantTree.nwk\", format = 1)\n",
    "list_leaf_names = [leaf.name for leaf in extant_tree.get_leaves()]\n",
    "sampled_species_names = random.sample(list_leaf_names, 4)\n",
    "print(f\"sampled_species {sampled_species_names}\")\n",
    "with open(sampled_species_path, \"w\") as f:\n",
    "    # write the list of species\n",
    "    for species in sampled_species_names:\n",
    "        f.write(f\"{species}\\n\")"
   ]
  },
  {
   "cell_type": "code",
   "execution_count": null,
   "metadata": {},
   "outputs": [],
   "source": [
    "command = f\"python3 /home/enzo/Documents/git/Zombi_ale_friendly/SpeciesSampler.py i {sampled_species_path} {tree_output_folder}\"\n",
    "subprocess.run(command, shell=True)"
   ]
  },
  {
   "cell_type": "markdown",
   "metadata": {},
   "source": [
    "# Autres tests de sampling"
   ]
  },
  {
   "cell_type": "code",
   "execution_count": null,
   "metadata": {},
   "outputs": [],
   "source": [
    "import ete3\n",
    "import random\n",
    "from ete3 import Tree\n",
    "\n",
    "# on commence par faire les versions les plus simples, et on les teste au lieu d'ajouter tout de suite une abstraction\n",
    "\n",
    "def sampling_diversified(tree, n_sampled, seed=1729):\n",
    "    # We follow the sampling strategies in the paper\n",
    "    # Inferring Speciation and Extinction Rates under Different Sampling Schemes by Höhna et al.\n",
    "    # The paper defines the diversified sampling strategy as maximizing the total branch length of the sampled species.\n",
    "    # This in turn is equivalent to taking the n_sampled-1 oldest bifurcations in the tree.\n",
    "    # To do that, we sort the bifurcations. Then we successively add nodes such that the new bifurcation is the youngest one\n",
    "    # among the bifurcations we must pick.\n",
    "\n",
    "\n",
    "    random.seed(seed)\n",
    "    sampled_leaves = []\n",
    "    node_depths = dict()\n",
    "    # Add depth attribute to each node\n",
    "    for node in tree.traverse():\n",
    "        if node.is_root():\n",
    "            node.depth = 0\n",
    "        else:\n",
    "            node.depth = node.up.depth + node.dist\n",
    "        node_depths[node] = node.depth\n",
    "\n",
    "    # Sort nodes by depth\n",
    "    nodes = sorted(node_depths.keys(), key=lambda x: x.depth, reverse=True)\n",
    "    # Now we want the n_sampled-1 oldest bifurcations\n",
    "    sampled_internal_nodes = nodes[:n_sampled]\n",
    "    # We need to make sure we have a leaf for each side of each chosen internal node. We can ensure that by starting with the least deep internal node.\n",
    "\n"
   ]
  },
  {
   "cell_type": "code",
   "execution_count": null,
   "metadata": {},
   "outputs": [],
   "source": [
    "!pip install ete3"
   ]
  },
  {
   "cell_type": "code",
   "execution_count": null,
   "metadata": {},
   "outputs": [],
   "source": [
    "from ete3 import Tree\n",
    "t = Tree()\n",
    "t.populate(10)"
   ]
  },
  {
   "cell_type": "code",
   "execution_count": null,
   "metadata": {},
   "outputs": [],
   "source": [
    "t.get_children()[0].get_leaves()"
   ]
  },
  {
   "cell_type": "code",
   "execution_count": null,
   "metadata": {},
   "outputs": [],
   "source": [
    "import random\n",
    "from ete3 import Tree\n",
    "\n",
    "def sampling(tree, n_sampled, seed=1729, strategy=\"uniform\"):\n",
    "    \"\"\"\n",
    "    Implements a diversified sampling strategy using a two-pass approach.\n",
    "    \n",
    "    First, it selects the deepest (oldest) n_sampled-1 non-overlapping internal nodes.\n",
    "    Then, it builds a dictionary mapping each chosen internal node to a tuple of booleans,\n",
    "    indicating for each child whether that child is itself chosen.\n",
    "    In the second pass, for every child marked False (i.e. not chosen as an internal node),\n",
    "    a representative leaf (picked at random from that child's descendant leaves) is added.\n",
    "    \n",
    "    The final list of sampled leaves should have size n_sampled.\n",
    "    \n",
    "    Parameters:\n",
    "      tree      : an ete3 Tree instance.\n",
    "      n_sampled : the desired number of sampled leaves.\n",
    "      seed      : random seed for reproducibility.\n",
    "      \n",
    "    Returns:\n",
    "      A list of sampled leaf nodes.\n",
    "    \"\"\"\n",
    "    random.seed(seed)\n",
    "\n",
    "    # Pass 0: Assign cumulative depth (distance from root) to every node.\n",
    "    for node in tree.traverse(\"preorder\"):\n",
    "        if node.is_root():\n",
    "            node.add_features(depth=0)\n",
    "        else:\n",
    "            node.add_features(depth=node.up.depth + node.dist)\n",
    "    if strategy == \"uniform\":\n",
    "        # Choose leaves randomly.\n",
    "        leaves = tree.get_leaves()\n",
    "        sampled_leaves = random.sample(leaves, n_sampled)\n",
    "    else:\n",
    "        # Pass 1: Select nonoverlapping internal nodes (excluding the root) by descending depth.\n",
    "        internals = [node for node in tree.traverse() if (not node.is_leaf())]\n",
    "\n",
    "        internals.sort(key=lambda n: n.depth, reverse=False)\n",
    "        if strategy == \"diversified\":\n",
    "            chosen_internals = internals[:n_sampled - 1]\n",
    "        elif strategy == \"clustered\":\n",
    "            chosen_internals = internals[-n_sampled + 1:]\n",
    "        else:\n",
    "            raise ValueError(\"Invalid sampling strategy.\")\n",
    "        chosen_set = set(chosen_internals)\n",
    "        \n",
    "        # Build a dictionary mapping chosen internal nodes to a tuple of booleans.\n",
    "        # Each boolean corresponds to a child: True if the child is also chosen, False otherwise.\n",
    "        chosen_dict = {}\n",
    "        for node in chosen_internals:\n",
    "            children = node.get_children()\n",
    "            flags = tuple(child in chosen_set for child in children)\n",
    "            chosen_dict[node] = flags\n",
    "\n",
    "        # Pass 2: For each chosen internal node, for each child not chosen, pick a random leaf from that branch.\n",
    "        sampled_leaves = []\n",
    "        for node, flags in chosen_dict.items():\n",
    "            children = node.get_children()\n",
    "            for flag, child in zip(flags, children):\n",
    "                if not flag:\n",
    "                    # Pick a random leaf from this child's descendants.\n",
    "                    leaves = child.get_leaves()\n",
    "                    if leaves:\n",
    "                        sampled_leaves.append(random.choice(leaves))\n",
    "    \n",
    "    return sampled_leaves\n",
    "\n",
    "# Example usage:\n",
    "if __name__ == '__main__':\n",
    "    # Example Newick tree (binary tree)\n",
    "    newick = \"((A:0.1,B:0.2):0.3,((C:0.2,D:0.3):0.4,E:0.5):0.6);\"\n",
    "    tree = Tree(newick, format=1)\n",
    "    n_sampled = 4\n",
    "    sampled = sampling(tree, n_sampled=n_sampled, seed=11110, strategy=\"clustered\")\n",
    "    print(\"Sampled leaves:\")\n",
    "    for leaf in sampled:\n",
    "        print(leaf.name, \"Depth:\", leaf.depth)\n"
   ]
  },
  {
   "cell_type": "code",
   "execution_count": null,
   "metadata": {},
   "outputs": [],
   "source": [
    "# Clustered does not work yet."
   ]
  },
  {
   "cell_type": "code",
   "execution_count": null,
   "metadata": {},
   "outputs": [],
   "source": [
    "# verify that leaf C appears in 50% of samples:\n",
    "c_appearances = 0\n",
    "for seed in range(100000):\n",
    "    sampled = sampling(tree, n_sampled=4, seed=seed, strategy=\"diversified\")\n",
    "    if \"C\" in [leaf.name for leaf in sampled]:\n",
    "        c_appearances += 1\n",
    "print(c_appearances / 100000)"
   ]
  },
  {
   "cell_type": "code",
   "execution_count": null,
   "metadata": {},
   "outputs": [],
   "source": [
    "tree.write(outfile=\"tree.nwk\", format=1)"
   ]
  },
  {
   "cell_type": "code",
   "execution_count": null,
   "metadata": {},
   "outputs": [],
   "source": [
    "from ete3 import Tree\n",
    "import itertools\n",
    "import copy\n",
    "\n",
    "def min_k_leaf_subtree(tree, k):\n",
    "    \"\"\"\n",
    "    Find a subset of k leaves such that the pruned tree has minimal branch length sum.\n",
    "    \n",
    "    Args:\n",
    "        tree: An ete3.Tree object representing the phylogenetic tree\n",
    "        k: Number of leaves to keep in the pruned tree\n",
    "    \n",
    "    Returns:\n",
    "        best_leaves: List of the k leaf names to keep\n",
    "        min_length: The minimum total branch length of the pruned tree\n",
    "        pruned_tree: The pruned tree with the k selected leaves\n",
    "    \"\"\"\n",
    "    # Get all leaf nodes\n",
    "    all_leaves = tree.get_leaves()\n",
    "    leaf_names = [leaf.name for leaf in all_leaves]\n",
    "    \n",
    "    # Check if k is valid\n",
    "    if k <= 0 or k > len(all_leaves):\n",
    "        raise ValueError(f\"k must be between 1 and {len(all_leaves)}\")\n",
    "    \n",
    "    # If k equals the number of leaves, return the original tree\n",
    "    if k == len(all_leaves):\n",
    "        return leaf_names, tree.get_distance(tree), copy.deepcopy(tree)\n",
    "    \n",
    "    min_length = float('inf')\n",
    "    best_leaves = None\n",
    "    best_pruned_tree = None\n",
    "    \n",
    "    # Try all possible combinations of k leaves\n",
    "    for leaf_subset in itertools.combinations(leaf_names, k):\n",
    "        # Create a copy of the tree to prune\n",
    "        pruned_tree = copy.deepcopy(tree)\n",
    "        \n",
    "        # Create a set of leaves to keep\n",
    "        leaves_to_keep = set(leaf_subset)\n",
    "        \n",
    "        # Get all leaves in the copied tree\n",
    "        pruned_leaves = pruned_tree.get_leaves()\n",
    "        \n",
    "        # Prune leaves not in our subset\n",
    "        for leaf in pruned_leaves:\n",
    "            if leaf.name not in leaves_to_keep:\n",
    "                leaf.delete()\n",
    "        \n",
    "        # Calculate total branch length\n",
    "        total_length = sum(node.dist for node in pruned_tree.traverse())\n",
    "        \n",
    "        # Update if this is better than our current best\n",
    "        if total_length < min_length:\n",
    "            min_length = total_length\n",
    "            best_leaves = leaf_subset\n",
    "            best_pruned_tree = pruned_tree\n",
    "    \n",
    "    return best_leaves, min_length, best_pruned_tree\n",
    "\n",
    "\n",
    "def min_k_leaf_subtree_greedy(tree, k):\n",
    "    \"\"\"\n",
    "    Find a subset of k leaves using a greedy algorithm.\n",
    "    This is more efficient for large trees but doesn't guarantee optimality.\n",
    "    \n",
    "    Args:\n",
    "        tree: An ete3.Tree object representing the phylogenetic tree\n",
    "        k: Number of leaves to keep in the pruned tree\n",
    "    \n",
    "    Returns:\n",
    "        best_leaves: List of the k leaf names to keep\n",
    "        total_length: The total branch length of the pruned tree\n",
    "        pruned_tree: The pruned tree with the k selected leaves\n",
    "    \"\"\"\n",
    "    # Get all leaf nodes\n",
    "    all_leaves = tree.get_leaves()\n",
    "    leaf_names = [leaf.name for leaf in all_leaves]\n",
    "    \n",
    "    # Check if k is valid\n",
    "    if k <= 0 or k > len(all_leaves):\n",
    "        raise ValueError(f\"k must be between 1 and {len(all_leaves)}\")\n",
    "    \n",
    "    # If k equals the number of leaves, return the original tree\n",
    "    if k == len(all_leaves):\n",
    "        return leaf_names, tree.get_distance(tree), copy.deepcopy(tree)\n",
    "    \n",
    "    # Start with all leaves and remove them one by one\n",
    "    leaves_to_remove = len(all_leaves) - k\n",
    "    current_tree = copy.deepcopy(tree)\n",
    "    current_leaves = current_tree.get_leaves()\n",
    "    \n",
    "    for _ in range(leaves_to_remove):\n",
    "        best_removal_length = float('inf')\n",
    "        best_leaf_to_remove = None\n",
    "        \n",
    "        # Try removing each leaf and see which one results in the smallest tree\n",
    "        for leaf in current_leaves:\n",
    "            # Make a copy of the current tree\n",
    "            test_tree = copy.deepcopy(current_tree)\n",
    "            \n",
    "            # Find the corresponding leaf in the test tree\n",
    "            test_leaf = test_tree.search_nodes(name=leaf.name)[0]\n",
    "            \n",
    "            # Remove this leaf\n",
    "            test_leaf.delete()\n",
    "            \n",
    "            # Calculate the total branch length\n",
    "            test_length = sum(node.dist for node in test_tree.traverse())\n",
    "            \n",
    "            # Update if this is better\n",
    "            if test_length < best_removal_length:\n",
    "                best_removal_length = test_length\n",
    "                best_leaf_to_remove = leaf.name\n",
    "        \n",
    "        # Remove the best leaf from our current tree\n",
    "        leaf_to_remove = current_tree.search_nodes(name=best_leaf_to_remove)[0]\n",
    "        leaf_to_remove.delete()\n",
    "        \n",
    "        # Update the current leaves\n",
    "        current_leaves = current_tree.get_leaves()\n",
    "    \n",
    "    # Get the names of the remaining leaves\n",
    "    remaining_leaves = [leaf.name for leaf in current_leaves]\n",
    "    total_length = sum(node.dist for node in current_tree.traverse())\n",
    "    \n",
    "    return remaining_leaves, total_length, current_tree\n",
    "\n",
    "\n",
    "def min_k_leaf_subtree_dp(tree, k):\n",
    "    \"\"\"\n",
    "    A dynamic programming approach for the minimum k-leaf subtree problem.\n",
    "    This works well for trees with special structure (like ultrametric trees).\n",
    "    \n",
    "    This implementation assumes binary trees for simplicity.\n",
    "    \n",
    "    Args:\n",
    "        tree: An ete3.Tree object representing the phylogenetic tree\n",
    "        k: Number of leaves to keep in the pruned tree\n",
    "    \n",
    "    Returns:\n",
    "        best_leaves: List of the k leaf names to keep\n",
    "        min_length: The minimum total branch length\n",
    "        pruned_tree: The pruned tree with k selected leaves\n",
    "    \"\"\"\n",
    "    # Check if tree is binary\n",
    "    for node in tree.traverse():\n",
    "        if not node.is_leaf() and len(node.children) != 2:\n",
    "            raise ValueError(\"This DP approach requires a binary tree\")\n",
    "    \n",
    "    # Dictionary to store optimal results for subtrees\n",
    "    memo = {}\n",
    "    \n",
    "    def dp(node, leaves_to_keep):\n",
    "        \"\"\"DP helper function that computes the minimum branch length\n",
    "        for keeping a certain number of leaves in the subtree rooted at node.\"\"\"\n",
    "        \n",
    "        # Base cases\n",
    "        if node.is_leaf():\n",
    "            if leaves_to_keep == 1:\n",
    "                return 0, [node.name]  # Keep this leaf, no additional length\n",
    "            elif leaves_to_keep == 0:\n",
    "                return 0, []  # Don't keep this leaf\n",
    "            else:\n",
    "                return float('inf'), []  # Invalid: can't keep more leaves than exist\n",
    "        \n",
    "        # Check if we've solved this subproblem before\n",
    "        if (id(node), leaves_to_keep) in memo:\n",
    "            return memo[(id(node), leaves_to_keep)]\n",
    "        \n",
    "        # If we need to keep 0 leaves, prune this entire subtree\n",
    "        if leaves_to_keep == 0:\n",
    "            return 0, []\n",
    "        \n",
    "        # Get the two children\n",
    "        left_child, right_child = node.children\n",
    "        \n",
    "        # Initialize best result\n",
    "        min_length = float('inf')\n",
    "        best_leaves = []\n",
    "        \n",
    "        # Try all ways to distribute the leaves_to_keep between the two children\n",
    "        for left_leaves in range(leaves_to_keep + 1):\n",
    "            right_leaves = leaves_to_keep - left_leaves\n",
    "            \n",
    "            # Skip invalid distributions\n",
    "            if right_leaves < 0:\n",
    "                continue\n",
    "            \n",
    "            # Recursive calls for left and right subtrees\n",
    "            left_length, left_selected = dp(left_child, left_leaves)\n",
    "            right_length, right_selected = dp(right_child, right_leaves)\n",
    "            \n",
    "            # Calculate total length including the current node's branches\n",
    "            current_length = left_length + right_length\n",
    "            \n",
    "            # Add branch lengths to children only if we're keeping at least one leaf in that subtree\n",
    "            if left_leaves > 0:\n",
    "                current_length += left_child.dist\n",
    "            if right_leaves > 0:\n",
    "                current_length += right_child.dist\n",
    "            \n",
    "            # Update if better than current best\n",
    "            if current_length < min_length:\n",
    "                min_length = current_length\n",
    "                best_leaves = left_selected + right_selected\n",
    "        \n",
    "        # Memoize and return the result\n",
    "        memo[(id(node), leaves_to_keep)] = (min_length, best_leaves)\n",
    "        return min_length, best_leaves\n",
    "    \n",
    "    # Start DP from the root\n",
    "    total_min_length, selected_leaves = dp(tree, k)\n",
    "    \n",
    "    # Create the pruned tree\n",
    "    pruned_tree = copy.deepcopy(tree)\n",
    "    for leaf in pruned_tree.get_leaves():\n",
    "        if leaf.name not in selected_leaves:\n",
    "            leaf.delete()\n",
    "    \n",
    "    return selected_leaves, total_min_length, pruned_tree\n",
    "\n",
    "\n",
    "# Example usage\n",
    "def example():\n",
    "    # Create a simple phylogenetic tree\n",
    "    newick_str = \"((A:9,B:9):2,(C:4,(D:2,E:2):2):7):2;\"\n",
    "    tree = Tree(newick_str)\n",
    "    \n",
    "    # Print the original tree\n",
    "    print(\"Original tree:\")\n",
    "    print(tree.get_ascii(show_internal=True))\n",
    "    \n",
    "    # Find the minimum 3-leaf subtree\n",
    "    k = 3\n",
    "    print(f\"\\nFinding minimum {k}-leaf subtree:\")\n",
    "    \n",
    "    # Use the exhaustive approach for small trees\n",
    "    best_leaves, min_length, pruned_tree = min_k_leaf_subtree(tree, k)\n",
    "    print(f\"Optimal leaves to keep: {best_leaves}\")\n",
    "    print(f\"Minimum branch length sum: {min_length}\")\n",
    "    print(\"Pruned tree:\")\n",
    "    print(pruned_tree.get_ascii(show_internal=True))\n",
    "    \n",
    "    # Compare with the greedy approach\n",
    "    greedy_leaves, greedy_length, greedy_tree = min_k_leaf_subtree_greedy(tree, k)\n",
    "    print(f\"\\nGreedy approach leaves: {greedy_leaves}\")\n",
    "    print(f\"Greedy approach length: {greedy_length}\")\n",
    "    print(\"Greedy pruned tree:\")\n",
    "    print(greedy_tree.get_ascii(show_internal=True))\n",
    "    \n",
    "    # Try the DP approach for binary trees\n",
    "    dp_leaves, dp_length, dp_tree = min_k_leaf_subtree_dp(tree, k)\n",
    "    print(f\"\\nDP approach leaves: {dp_leaves}\")\n",
    "    print(f\"DP approach length: {dp_length}\")\n",
    "    print(\"DP pruned tree:\")\n",
    "    print(dp_tree.get_ascii(show_internal=True))\n",
    "    tree.write(outfile=\"tree.nwk\", format=1)\n",
    "\n",
    "if __name__ == \"__main__\":\n",
    "    example()"
   ]
  },
  {
   "cell_type": "code",
   "execution_count": null,
   "metadata": {},
   "outputs": [],
   "source": [
    "tree.write(outfile=\"tree.nwk\", format=1)"
   ]
  },
  {
   "cell_type": "code",
   "execution_count": null,
   "metadata": {},
   "outputs": [],
   "source": [
    "import numpy as np\n",
    "from ete3 import Tree\n",
    "\n",
    "def min_pruned_tree(tree, k):\n",
    "    \"\"\"\n",
    "    Find a subset of k leaves in an ultrametric phylogenetic tree \n",
    "    that minimizes the sum of branch lengths in the pruned tree.\n",
    "    \n",
    "    Args:\n",
    "        tree (ete3.Tree): An ultrametric phylogenetic tree\n",
    "        k (int): Number of leaves to keep\n",
    "        \n",
    "    Returns:\n",
    "        tuple: (minimum sum of branch lengths, list of selected leaf names)\n",
    "    \"\"\"\n",
    "    # First ensure we're working with an ultrametric tree\n",
    "    if not is_ultrametric(tree):\n",
    "        raise ValueError(\"Input tree must be ultrametric\")\n",
    "    \n",
    "    # Get all leaf nodes\n",
    "    leaves = tree.get_leaves()\n",
    "    total_leaves = len(leaves)\n",
    "    \n",
    "    if k > total_leaves:\n",
    "        raise ValueError(f\"k ({k}) cannot be greater than the number of leaves ({total_leaves})\")\n",
    "    \n",
    "    if k == total_leaves:\n",
    "        # If k equals the number of leaves, return the original tree's branch length sum\n",
    "        return tree_length(tree), [leaf.name for leaf in leaves]\n",
    "    \n",
    "    # Create a post-order traversal of the tree\n",
    "    post_order_nodes = list(tree.traverse(\"postorder\"))\n",
    "    \n",
    "    # Initialize memoization table\n",
    "    # dp[node_idx][j] = min branch length sum when selecting j leaves from subtree rooted at node_idx\n",
    "    dp = {}\n",
    "    selected_leaves = {}  # To track which leaves are selected\n",
    "    \n",
    "    # Post-order traversal to fill the dp table\n",
    "    for node in post_order_nodes:\n",
    "        node_idx = id(node)\n",
    "        dp[node_idx] = {}\n",
    "        selected_leaves[node_idx] = {}\n",
    "        \n",
    "        if node.is_leaf():\n",
    "            # Base case: leaf node\n",
    "            dp[node_idx][0] = 0  # No leaves selected = 0 branch length\n",
    "            dp[node_idx][1] = 0  # One leaf selected = 0 additional branch length for ultrametric tree\n",
    "            selected_leaves[node_idx][0] = []\n",
    "            selected_leaves[node_idx][1] = [node.name]\n",
    "        else:\n",
    "            # Internal node\n",
    "            children = node.children\n",
    "            \n",
    "            # Initialize with \"infinity\" for this subtree\n",
    "            for j in range(k + 1):\n",
    "                dp[node_idx][j] = float('inf')\n",
    "                selected_leaves[node_idx][j] = []\n",
    "            \n",
    "            # Base case: no leaves selected from this subtree\n",
    "            dp[node_idx][0] = 0\n",
    "            selected_leaves[node_idx][0] = []\n",
    "            \n",
    "            if len(children) == 2:  # Binary tree\n",
    "                left_child, right_child = children\n",
    "                left_idx, right_idx = id(left_child), id(right_child)\n",
    "                \n",
    "                # Calculate max possible leaves from each child\n",
    "                max_left_leaves = len(left_child.get_leaves())\n",
    "                max_right_leaves = len(right_child.get_leaves())\n",
    "                \n",
    "                # For each possible number of leaves to select from this subtree\n",
    "                for j in range(1, min(k + 1, total_leaves + 1)):\n",
    "                    # Try different combinations of leaves from left and right children\n",
    "                    for left_leaves in range(min(j + 1, max_left_leaves + 1)):\n",
    "                        right_leaves = j - left_leaves\n",
    "                        \n",
    "                        if right_leaves > max_right_leaves or right_leaves < 0:\n",
    "                            continue\n",
    "                        \n",
    "                        # Skip if we don't have solutions for these subproblems\n",
    "                        if left_leaves not in dp[left_idx] or right_leaves not in dp[right_idx]:\n",
    "                            continue\n",
    "                        \n",
    "                        # Calculate branch length for this combination\n",
    "                        branch_sum = dp[left_idx][left_leaves] + dp[right_idx][right_leaves]\n",
    "                        \n",
    "                        # Add the branch length from the current node to its children\n",
    "                        # But only if we're selecting at least one leaf from each child\n",
    "                        if left_leaves > 0:\n",
    "                            branch_sum += left_child.dist\n",
    "                        if right_leaves > 0:\n",
    "                            branch_sum += right_child.dist\n",
    "                            \n",
    "                        # If this is better than our current best\n",
    "                        if branch_sum < dp[node_idx][j]:\n",
    "                            dp[node_idx][j] = branch_sum\n",
    "                            selected_leaves[node_idx][j] = (\n",
    "                                selected_leaves[left_idx][left_leaves] + \n",
    "                                selected_leaves[right_idx][right_leaves]\n",
    "                            )\n",
    "            else:\n",
    "                # Handle non-binary trees by considering all possible combinations\n",
    "                # This is a generalization of the binary tree case\n",
    "                combinations = generate_leaf_combinations(children, j, dp, selected_leaves)\n",
    "                for combo in combinations:\n",
    "                    branch_sum = sum(dp[id(child)][combo[i]] for i, child in enumerate(children))\n",
    "                    \n",
    "                    # Add branch length for each child with selected leaves\n",
    "                    for i, child in enumerate(children):\n",
    "                        if combo[i] > 0:\n",
    "                            branch_sum += child.dist\n",
    "                    \n",
    "                    if branch_sum < dp[node_idx][j]:\n",
    "                        dp[node_idx][j] = branch_sum\n",
    "                        selected_leaves[node_idx][j] = []\n",
    "                        for i, child in enumerate(children):\n",
    "                            selected_leaves[node_idx][j].extend(selected_leaves[id(child)][combo[i]])\n",
    "    \n",
    "    # Return the minimum branch length sum and the selected leaves\n",
    "    return dp[id(tree)][k], selected_leaves[id(tree)][k]\n",
    "\n",
    "\n",
    "def generate_leaf_combinations(children, j, dp, selected_leaves):\n",
    "    \"\"\"\n",
    "    Generate all valid combinations of selecting j leaves from the given children.\n",
    "    \n",
    "    Args:\n",
    "        children: List of child nodes\n",
    "        j: Number of leaves to select\n",
    "        dp: Dynamic programming table\n",
    "        selected_leaves: Dictionary to track selected leaves\n",
    "        \n",
    "    Returns:\n",
    "        List of valid combinations\n",
    "    \"\"\"\n",
    "    from itertools import product\n",
    "    \n",
    "    # Get the maximum number of leaves for each child\n",
    "    max_leaves = [len(child.get_leaves()) for child in children]\n",
    "    \n",
    "    # Generate all possible combinations\n",
    "    valid_combinations = []\n",
    "    \n",
    "    # Function to generate valid partitions recursively\n",
    "    def generate_partitions(child_idx, remaining, current_combo):\n",
    "        if child_idx == len(children):\n",
    "            if remaining == 0:\n",
    "                valid_combinations.append(current_combo[:])\n",
    "            return\n",
    "        \n",
    "        # Try different number of leaves for current child\n",
    "        max_for_child = min(max_leaves[child_idx], remaining)\n",
    "        \n",
    "        for i in range(max_for_child + 1):\n",
    "            # Check if this subproblem has a solution\n",
    "            if i in dp[id(children[child_idx])]:\n",
    "                current_combo.append(i)\n",
    "                generate_partitions(child_idx + 1, remaining - i, current_combo)\n",
    "                current_combo.pop()\n",
    "    \n",
    "    # Start the recursive generation\n",
    "    generate_partitions(0, j, [])\n",
    "    \n",
    "    return valid_combinations\n",
    "\n",
    "\n",
    "def is_ultrametric(tree, tolerance=1e-10):\n",
    "    \"\"\"\n",
    "    Check if a tree is ultrametric (all leaves are equidistant from the root).\n",
    "    \n",
    "    Args:\n",
    "        tree (ete3.Tree): A phylogenetic tree\n",
    "        tolerance (float): Tolerance for floating point comparisons\n",
    "        \n",
    "    Returns:\n",
    "        bool: True if the tree is ultrametric, False otherwise\n",
    "    \"\"\"\n",
    "    leaves = tree.get_leaves()\n",
    "    if not leaves:\n",
    "        return True\n",
    "    \n",
    "    # Get the distance from root to the first leaf\n",
    "    reference_dist = leaves[0].get_distance(tree)\n",
    "    \n",
    "    # Check if all leaves are at the same distance from the root\n",
    "    for leaf in leaves[1:]:\n",
    "        dist = leaf.get_distance(tree)\n",
    "        if abs(dist - reference_dist) > tolerance:\n",
    "            return False\n",
    "    \n",
    "    return True\n",
    "\n",
    "\n",
    "def tree_length(tree):\n",
    "    \"\"\"\n",
    "    Calculate the sum of all branch lengths in a tree.\n",
    "    \n",
    "    Args:\n",
    "        tree (ete3.Tree): A phylogenetic tree\n",
    "        \n",
    "    Returns:\n",
    "        float: Sum of all branch lengths\n",
    "    \"\"\"\n",
    "    return sum(node.dist for node in tree.traverse() if node is not tree)\n",
    "\n",
    "\n",
    "def prune_tree_with_leaves(tree, leaf_names):\n",
    "    \"\"\"\n",
    "    Prune a tree to keep only the specified leaves.\n",
    "    \n",
    "    Args:\n",
    "        tree (ete3.Tree): A phylogenetic tree\n",
    "        leaf_names (list): List of leaf names to keep\n",
    "        \n",
    "    Returns:\n",
    "        ete3.Tree: Pruned tree\n",
    "    \"\"\"\n",
    "    # Create a copy of the tree to avoid modifying the original\n",
    "    pruned_tree = tree.copy()\n",
    "    \n",
    "    # Get all leaves\n",
    "    leaves = pruned_tree.get_leaves()\n",
    "    \n",
    "    # Determine which leaves to remove\n",
    "    leaves_to_remove = [leaf for leaf in leaves if leaf.name not in leaf_names]\n",
    "    \n",
    "    # Remove unwanted leaves\n",
    "    for leaf in leaves_to_remove:\n",
    "        leaf.delete()\n",
    "    \n",
    "    return pruned_tree\n",
    "\n",
    "\n",
    "# Example usage\n",
    "def generate_yule_tree(n_leaves, birth_rate=1.0, seed=None):\n",
    "    \"\"\"\n",
    "    Generate a pure-birth (Yule) process tree with n_leaves.\n",
    "    \n",
    "    Args:\n",
    "        n_leaves (int): Number of leaves in the final tree\n",
    "        birth_rate (float): Rate of speciation events\n",
    "        seed (int): Random seed for reproducibility\n",
    "        \n",
    "    Returns:\n",
    "        ete3.Tree: An ultrametric phylogenetic tree\n",
    "    \"\"\"\n",
    "    import random\n",
    "    \n",
    "    if seed is not None:\n",
    "        random.seed(seed)\n",
    "    \n",
    "    # Start with a single node (root)\n",
    "    tree = Tree()\n",
    "    tree.name = \"Root\"\n",
    "    \n",
    "    # Add the first two leaves (first speciation event)\n",
    "    time_elapsed = random.expovariate(birth_rate)\n",
    "    leaf1 = tree.add_child(name=\"Leaf1\")\n",
    "    leaf1.dist = time_elapsed\n",
    "    leaf2 = tree.add_child(name=\"Leaf2\")\n",
    "    leaf2.dist = time_elapsed\n",
    "    \n",
    "    # Current leaves that can speciate\n",
    "    active_leaves = [leaf1, leaf2]\n",
    "    leaf_counter = 3  # Counter for naming new leaves\n",
    "    \n",
    "    # Continue until we reach n_leaves\n",
    "    while len(active_leaves) < n_leaves:\n",
    "        # Choose a random leaf to speciate\n",
    "        parent = random.choice(active_leaves)\n",
    "        active_leaves.remove(parent)\n",
    "        \n",
    "        # Generate waiting time until next speciation\n",
    "        waiting_time = random.expovariate(birth_rate * len(active_leaves))\n",
    "        \n",
    "        # Update all active leaf distances (simulation moves forward in time)\n",
    "        for leaf in active_leaves:\n",
    "            leaf.dist += waiting_time\n",
    "        \n",
    "        # Create two new leaves\n",
    "        child1 = parent.add_child(name=f\"Leaf{leaf_counter}\")\n",
    "        leaf_counter += 1\n",
    "        child2 = parent.add_child(name=f\"Leaf{leaf_counter}\")\n",
    "        leaf_counter += 1\n",
    "        \n",
    "        # Set the distances for new leaves to 0 (they'll accumulate time as we proceed)\n",
    "        child1.dist = 0\n",
    "        child2.dist = 0\n",
    "        \n",
    "        # Add new leaves to active set\n",
    "        active_leaves.append(child1)\n",
    "        active_leaves.append(child2)\n",
    "    \n",
    "    # Make sure the tree is ultrametric by adjusting terminal branch lengths\n",
    "    leaves = tree.get_leaves()\n",
    "    max_depth = max(leaf.get_distance(tree) for leaf in leaves)\n",
    "    \n",
    "    for leaf in leaves:\n",
    "        current_depth = leaf.get_distance(tree)\n",
    "        if current_depth < max_depth:\n",
    "            leaf.dist += (max_depth - current_depth)\n",
    "    \n",
    "    # Verify ultrametricity\n",
    "    assert is_ultrametric(tree), \"Generated tree is not ultrametric\"\n",
    "    \n",
    "    return tree\n",
    "\n",
    "\n",
    "if __name__ == \"__main__\":\n",
    "    # First test with a simple predefined tree\n",
    "    print(\"TEST 1: Simple predefined tree\")\n",
    "    newick_str = \"((A:1,B:1):2,(C:1.5,D:1.5):1.5);\"\n",
    "    tree = Tree(newick_str)\n",
    "    \n",
    "    # Find the minimum pruned tree with 3 leaves\n",
    "    k = 3\n",
    "    min_length, selected_leaves = min_pruned_tree(tree, k)\n",
    "    \n",
    "    print(f\"Minimum branch length: {min_length}\")\n",
    "    print(f\"Selected leaves: {selected_leaves}\")\n",
    "    \n",
    "    # Prune the tree to keep only the selected leaves\n",
    "    pruned_tree = prune_tree_with_leaves(tree, selected_leaves)\n",
    "    \n",
    "    # Print the pruned tree\n",
    "    print(\"Pruned tree:\")\n",
    "    print(pruned_tree.get_ascii())\n",
    "    \n",
    "    # Verify the branch length\n",
    "    actual_length = tree_length(pruned_tree)\n",
    "    print(f\"Actual branch length of pruned tree: {actual_length}\")\n",
    "    \n",
    "    # Now generate and test with a Yule tree\n",
    "    print(\"\\nTEST 2: Generated Yule tree\")\n",
    "    n_leaves = 20\n",
    "    k = 4\n",
    "    \n",
    "    # Generate a random Yule tree\n",
    "    yule_tree = generate_yule_tree(n_leaves, seed=420)\n",
    "    print(f\"Generated Yule tree with {len(yule_tree.get_leaves())} leaves\")\n",
    "    \n",
    "    # Verify ultrametricity\n",
    "    print(f\"Tree is ultrametric: {is_ultrametric(yule_tree)}\")\n",
    "    \n",
    "    # Calculate total branch length of original tree\n",
    "    original_length = tree_length(yule_tree)\n",
    "    print(f\"Original tree branch length: {original_length}\")\n",
    "    \n",
    "    # Find minimum pruned tree\n",
    "    print(f\"Finding minimum pruned tree with {k} leaves...\")\n",
    "    min_length, selected_leaves = min_pruned_tree(yule_tree, k)\n",
    "    print(f\"Minimum branch length: {min_length}\")\n",
    "    print(f\"Selected leaves: {selected_leaves}\")\n",
    "    \n",
    "    # Prune the tree\n",
    "    pruned_tree = prune_tree_with_leaves(yule_tree, selected_leaves)\n",
    "    yule_tree.write(outfile=\"yule_tree.nwk\", format=1)\n",
    "    # Verify the pruned tree has exactly k leaves\n",
    "    pruned_leaves = pruned_tree.get_leaves()\n",
    "    print(f\"Pruned tree has {len(pruned_leaves)} leaves\")\n",
    "    \n",
    "    # Verify ultrametricity of pruned tree\n",
    "    print(f\"Pruned tree is ultrametric: {is_ultrametric(pruned_tree)}\")\n",
    "    \n",
    "    # Calculate actual branch length of pruned tree\n",
    "    actual_length = tree_length(pruned_tree)\n",
    "    print(f\"Actual branch length of pruned tree: {actual_length}\")\n",
    "    \n",
    "    # Compare with a random selection of k leaves\n",
    "    import random\n",
    "    random.seed(42)\n",
    "    all_leaves = yule_tree.get_leaves()\n",
    "    random_leaves = random.sample([leaf.name for leaf in all_leaves], k)\n",
    "    random_tree = prune_tree_with_leaves(yule_tree, random_leaves)\n",
    "    random_length = tree_length(random_tree)\n",
    "    \n",
    "    print(\"\\nComparison:\")\n",
    "    print(f\"Optimal pruned tree length: {actual_length}\")\n",
    "    print(f\"Random pruned tree length: {random_length}\")\n",
    "    print(f\"Improvement: {(random_length - actual_length) / random_length * 100:.2f}%\")"
   ]
  },
  {
   "cell_type": "markdown",
   "metadata": {},
   "source": [
    "# Minimum pairwise distance subtree\n",
    "21 mars 2025 : on essaye de trouver le sous-arbre avec la somme de distances pairwise la plus faible"
   ]
  },
  {
   "cell_type": "code",
   "execution_count": null,
   "metadata": {},
   "outputs": [],
   "source": [
    "import dendropy\n",
    "from ete3 import Tree\n",
    "import math\n",
    "import itertools\n",
    "\n",
    "def give_depth(tree):\n",
    "    # First assign depth 0 to leaves.\n",
    "    for node in tree.traverse(strategy=\"postorder\"):\n",
    "        if node.is_leaf():\n",
    "            node.depth = 0\n",
    "    # Then assign depth for internal nodes: depth = max(child.depth + child.dist)\n",
    "    for node in tree.traverse(strategy=\"postorder\"):\n",
    "        if not node.is_leaf():\n",
    "            node.depth = max(child.depth + child.dist for child in node.get_children())\n",
    "\n",
    "\n",
    "def min_pairwise_sum(tree, k, take_root=True):\n",
    "    \"\"\"Outputs the set of k leaves such that the resulting tree has minimal sum\n",
    "    of pairwise distances. The tree is assumed to be ultrametric.\n",
    "    If take_root is True, we constrain the root to be in the selected set.\"\"\"\n",
    "\n",
    "\n",
    "    give_depth(tree)\n",
    "    \n",
    "    # dp will be a dictionary {node: {nb_spld: (min_cost, leaves_list)}}\n",
    "    dp = {}\n",
    "    \n",
    "    def compute_dp(node):\n",
    "        # Initialize dp table for node with keys 0..k.\n",
    "        dp_node = {n_spld: (math.inf, []) for n_spld in range(k+1)}\n",
    "        \n",
    "        # Base case: if node is a leaf.\n",
    "        if node.is_leaf():\n",
    "            dp_node[0] = (0, [])\n",
    "            dp_node[1] = (0, [node])\n",
    "            dp[node] = dp_node\n",
    "            return dp_node\n",
    "        \n",
    "        children = node.get_children()\n",
    "        left, right = children[0], children[1]\n",
    "        dp_left = compute_dp(left)\n",
    "        dp_right = compute_dp(right)\n",
    "        \n",
    "\n",
    "        node_depth = left.dist + left.depth\n",
    "        \n",
    "        if node.is_root() and take_root:\n",
    "            valid_j = lambda i, j: (i >= 2 and j >= 1 and (i - j) >= 1)\n",
    "        else:\n",
    "            valid_j = lambda i, j: True\n",
    "        \n",
    "        # Merge the two DP tables.\n",
    "        for i in range(k+1):\n",
    "            best_cost = math.inf\n",
    "            best_leaves = []\n",
    "            # Consider all splits j + (i-j) = i.\n",
    "            for j in range(i+1):\n",
    "                if not valid_j(i, j):\n",
    "                    continue\n",
    "                cost_left, leaves_left = dp_left.get(j, (math.inf, []))\n",
    "                cost_right, leaves_right = dp_right.get(i - j, (math.inf, []))\n",
    "                if cost_left == math.inf or cost_right == math.inf:\n",
    "                    continue\n",
    "\n",
    "                left_to_right_paths = j * (i - j) * (2 * node_depth)\n",
    "                total_cost = cost_left + cost_right + left_to_right_paths\n",
    "                if total_cost < best_cost:\n",
    "                    best_cost = total_cost\n",
    "                    best_leaves = leaves_left + leaves_right\n",
    "            dp_node[i] = (best_cost, best_leaves)\n",
    "        dp[node] = dp_node\n",
    "        return dp_node\n",
    "    \n",
    "\n",
    "    dp_table = compute_dp(tree)\n",
    "    min_cost, leaves_list = dp_table.get(k, (math.inf, []))\n",
    "    return min_cost, leaves_list\n",
    "\n",
    "def enumerate_subsets_dp_sanity(tree, k):\n",
    "    \"\"\"\n",
    "    For the sanity check: enumerate over all subsets of k leaves (from the tree's inherent root)\n",
    "    such that at least one leaf is taken from each of the two children of the root,\n",
    "    and return the minimum sum of pairwise distances and the subset achieving that.\n",
    "    \"\"\"\n",
    "    # The tree's inherent root.\n",
    "    root = tree\n",
    "    children = root.get_children()\n",
    "    if len(children) != 2:\n",
    "        raise ValueError(\"Sanity check expects a binary tree with exactly two children at the root.\")\n",
    "    left_leaves = children[0].get_leaves()\n",
    "    right_leaves = children[1].get_leaves()\n",
    "    \n",
    "    best_cost = math.inf\n",
    "    best_subset = None\n",
    "    # For each possible split: at least one from left, at least one from right.\n",
    "    for i in range(1, k):\n",
    "        if i > len(left_leaves) or (k - i) > len(right_leaves):\n",
    "            continue  # not enough leaves on one side.\n",
    "        for left_subset in itertools.combinations(left_leaves, i):\n",
    "            for right_subset in itertools.combinations(right_leaves, k - i):\n",
    "                subset = list(left_subset) + list(right_subset)\n",
    "                # Compute the sum of pairwise distances.\n",
    "                cost = 0\n",
    "                for u, v in itertools.combinations(subset, 2):\n",
    "                    cost += tree.get_distance(u, v)\n",
    "                if cost < best_cost:\n",
    "                    best_cost = cost\n",
    "                    best_subset = subset\n",
    "    return best_cost, best_subset\n",
    "\n",
    "n_trials = 100\n",
    "total_leaves = 12\n",
    "sampled_leaved = 6\n",
    "for i in range(n_trials):\n",
    "    tree = dendropy.model.birthdeath.birth_death_tree(birth_rate=1, death_rate=0, num_extant_tips=total_leaves)\n",
    "    tree.write(path=\"tree.nwk\", schema=\"newick\", suppress_rooting=True)\n",
    "    # Example Newick string of an ultrametric tree (binary tree).\n",
    "    # In an ultrametric tree, all leaves are equidistant from the root.\n",
    "    tree = Tree(\"/home/enzo/Documents/git/WP1/DeepGhosts/bin/tree.nwk\", format=1)\n",
    "    k = sampled_leaved  # number of leaves to select\n",
    "    \n",
    "    # Compute the DP solution using our function.\n",
    "    dp_cost, dp_leaves = min_pairwise_sum(tree, k, take_root=True)\n",
    "    # Sanity check: enumerate over all valid subsets.\n",
    "    sanity_cost, sanity_subset = enumerate_subsets_dp_sanity(tree, k)\n",
    "    print(f\"DP solution: {dp_cost}, Sanity check: {sanity_cost}\")\n",
    "    \n",
    "    # Compare the two.\n",
    "    if abs(dp_cost - sanity_cost) > 1e-9:\n",
    "        raise ValueError(\"Sanity check FAILED!\")\n",
    "    print(\"--------------------------------------------------\")"
   ]
  },
  {
   "cell_type": "code",
   "execution_count": null,
   "metadata": {},
   "outputs": [],
   "source": [
    "!pip install pyqt5"
   ]
  },
  {
   "cell_type": "code",
   "execution_count": null,
   "metadata": {},
   "outputs": [],
   "source": [
    "from ete3 import TreeStyle"
   ]
  },
  {
   "cell_type": "markdown",
   "metadata": {},
   "source": [
    "# Test du pipeline complet\n",
    "21 mars 2025"
   ]
  },
  {
   "cell_type": "markdown",
   "metadata": {},
   "source": [
    "Etape 1: générer les arbres d'espèces."
   ]
  },
  {
   "cell_type": "code",
   "execution_count": null,
   "metadata": {},
   "outputs": [],
   "source": [
    "from pathlib import Path\n",
    "import subprocess\n",
    "OUTPUT_FOLDER = Path(\"/home/enzo/Documents/git/WP1/DeepGhosts/Output_test\")"
   ]
  },
  {
   "cell_type": "code",
   "execution_count": null,
   "metadata": {},
   "outputs": [],
   "source": [
    "sp_tree_index = 0\n",
    "complete_tree = OUTPUT_FOLDER / f\"species_tree_{sp_tree_index}\" / \"complete_species_tree.nwk\"\n",
    "extant_tree = OUTPUT_FOLDER / f\"species_tree_{sp_tree_index}\" / \"extant_species_tree.nwk\""
   ]
  },
  {
   "cell_type": "code",
   "execution_count": null,
   "metadata": {},
   "outputs": [],
   "source": [
    "tree_output_folder = str(OUTPUT_FOLDER / f\"species_tree_{sp_tree_index}\")\n",
    "command = f\"python3 /home/enzo/Documents/git/Zombi_ale_friendly/Zombi.py T /home/enzo/Documents/git/Zombi_ale_friendly/Parameters/SpeciesTreeParameters.tsv {tree_output_folder}\"\n",
    "subprocess.run(command, shell=True)"
   ]
  },
  {
   "cell_type": "markdown",
   "metadata": {},
   "source": [
    "24 mars"
   ]
  },
  {
   "cell_type": "code",
   "execution_count": null,
   "metadata": {},
   "outputs": [],
   "source": [
    "import sys\n",
    "import os\n",
    "import re\n",
    "\n",
    "def modify_parameters(input_file_path: str,\n",
    "                             output_file_path: str,\n",
    "                             replacements: dict):\n",
    "    try:\n",
    "        # Read the file content\n",
    "        with open(input_file_path, 'r') as file:\n",
    "            content = file.read()\n",
    "\n",
    "        # Replace all parameters ending with '_SNAKEMAKE'\n",
    "        for key, value in replacements.items():\n",
    "            pattern = re.compile(rf\"{key}_SNAKEMAKE\")\n",
    "            content = pattern.sub(value, content)\n",
    "\n",
    "        # Write the modified content to the output file\n",
    "        with open(output_file_path, 'w') as file:\n",
    "            file.write(content)\n",
    "\n",
    "        print(f\"Successfully modified the file and saved to: {output_file_path}\")\n",
    "    except FileNotFoundError:\n",
    "        print(f\"Error: The file {input_file_path} was not found.\")\n",
    "    except Exception as e:\n",
    "        print(f\"An error occurred: {e}\")\n",
    "\n",
    "\n",
    "\n",
    "input_file_path = '/home/enzo/Documents/git/WP1/DeepGhosts/bin/zombi_configs/GenomeParametersTemplate.tsv'\n",
    "output_file_path = \"/home/enzo/Documents/git/WP1/DeepGhosts/bin/zombi_configs/GenomeParameters_2.tsv\"\n",
    "\n",
    "# Parse replacement arguments\n",
    "replacements_genome = {\"DUPLICATION_RATE\": \"0.1\",\n",
    "                \"LOSS_RATE\": \"0.2\",\n",
    "                \"TRANSFER_RATE\": \"0.3\",\n",
    "                \"ASSORTATIVE_TRANSFER\": \"False\",\n",
    "                \"ALPHA\": \"10\",\n",
    "                \"N_GENES\": \"1000\",\n",
    "                \"SEED\": \"4268\"}\n",
    "\n",
    "\n",
    "modify_parameters(input_file_path, output_file_path, replacements_genome)"
   ]
  },
  {
   "cell_type": "code",
   "execution_count": null,
   "metadata": {},
   "outputs": [],
   "source": [
    "replacements_species = {\"SPECIATION\": \"1\",\n",
    "                        \"EXTINCTION\": \"0\",\n",
    "                        \"MAX_LINEAGES\": \"10\",\n",
    "                        \"SEED\": \"4268\"}\n",
    "input_file_path = '/home/enzo/Documents/git/WP1/DeepGhosts/bin/zombi_configs/SpeciesTreeParametersTemplate.tsv'\n",
    "output_file_path = \"/home/enzo/Documents/git/WP1/DeepGhosts/bin/zombi_configs/SpeciesTreeParameters_2.tsv\"\n",
    "modify_parameters(input_file_path, output_file_path, replacements_species)"
   ]
  },
  {
   "cell_type": "markdown",
   "metadata": {},
   "source": [
    "# Transferts préférentiels vers les espèces proches\n",
    "24 mars"
   ]
  },
  {
   "cell_type": "markdown",
   "metadata": {},
   "source": [
    "On doit faire un code qui permet de biaiser la probabilité de transférer vers des espèces proches phylogénétiquement."
   ]
  },
  {
   "cell_type": "code",
   "execution_count": null,
   "metadata": {},
   "outputs": [],
   "source": [
    "from ete3 import Tree\n",
    "tree_path = \"/home/enzo/Documents/git/WP1/DeepGhosts/Output_test/species_tree_0/T/CompleteTree.nwk\"\n",
    "tree = Tree(tree_path, format=1)"
   ]
  },
  {
   "cell_type": "code",
   "execution_count": null,
   "metadata": {},
   "outputs": [],
   "source": [
    "def compute_total_branch_length(tree):\n",
    "    total_length = 0\n",
    "    for node in tree.traverse():\n",
    "        total_length += node.dist\n",
    "    return total_length"
   ]
  },
  {
   "cell_type": "code",
   "execution_count": null,
   "metadata": {},
   "outputs": [],
   "source": [
    "def compute_sampled_length(tree, sampled_leaves):\n",
    "    \"\"\"Compute the sum of branch lengths that the sampled tree will have.\"\"\"\n",
    "    sampled_tree = tree.copy()\n",
    "    sampled_tree = sampled_tree.prune(sampled_leaves, preserve_branch_length=True)\n",
    "    total_length = compute_total_branch_length(sampled_tree)\n",
    "    return total_length"
   ]
  },
  {
   "cell_type": "markdown",
   "metadata": {},
   "source": [
    "D'abord, on calcule les taux de transfert de toutes les espèces données, en les normalisant par la somme des longueurs de branches des arbres échantillonnés."
   ]
  },
  {
   "cell_type": "markdown",
   "metadata": {},
   "source": [
    "On normalise ensuite l'arbre d'espèces, en divisant sa taille par la somme des longueurs de branches de l'arbre d'espèces complet."
   ]
  },
  {
   "cell_type": "code",
   "execution_count": null,
   "metadata": {},
   "outputs": [],
   "source": [
    "tree.get_farthest_leaf()"
   ]
  },
  {
   "cell_type": "code",
   "execution_count": null,
   "metadata": {},
   "outputs": [],
   "source": [
    "extant_tree_path = \"/home/enzo/Documents/git/WP1/DeepGhosts/Output_test/species_tree_0/T/ExtantTree.nwk\"\n",
    "extant_tree = Tree(extant_tree_path, format=1)"
   ]
  },
  {
   "cell_type": "code",
   "execution_count": null,
   "metadata": {},
   "outputs": [],
   "source": [
    "def normalize_tree_height(tree):\n",
    "    \"\"\"Normalize the tree such that its height is 1.\"\"\"\n",
    "    copy_tree = tree.copy()\n",
    "    # We get the distance from the root to the farthest leaf, without counting the length of the root node.\n",
    "    max_height = copy_tree.get_farthest_leaf()[1] \n",
    "    for node in copy_tree.traverse():\n",
    "        node.dist /= max_height\n",
    "    return copy_tree"
   ]
  },
  {
   "cell_type": "code",
   "execution_count": null,
   "metadata": {},
   "outputs": [],
   "source": [
    "def compute_pairwise_distances(tree):\n",
    "    # compute pairwise distances between the species in the tree\n",
    "    pairwise_distances = {}\n",
    "    for leaf1 in tree:\n",
    "        for leaf2 in tree:\n",
    "            if leaf1 != leaf2:\n",
    "                pairwise_distances[(leaf1.name, leaf2.name)] = tree.get_distance(leaf1, leaf2)\n",
    "    return pairwise_distances\n",
    "\n",
    "distances = compute_pairwise_distances(tree)"
   ]
  },
  {
   "cell_type": "code",
   "execution_count": null,
   "metadata": {},
   "outputs": [],
   "source": [
    "import math\n",
    "def exponentiate_distances(distances, alpha):\n",
    "    # exponentiate the pairwise distances\n",
    "    exponentiated_distances = {}\n",
    "    for pair, distance in distances.items():\n",
    "        exponentiated_distances[pair] = math.exp(-alpha * distance)\n",
    "    return exponentiated_distances\n"
   ]
  },
  {
   "cell_type": "markdown",
   "metadata": {},
   "source": [
    "# On crée maintenant les fichiers.\n",
    "1. Taux de transfert des branches:\n",
    "On voulait normaliser le taux de transfert des branches. En effet, après avoir fait plusieurs types de sampling (60 feuilles parmi 120, 60 feuilles parmi 300, etc...), nous avons remarqué que plus le nombre total d'espèces était grand, plus le nombre total de transferts reçus par l'arbre samplé était grand. Cela est en fait dû au fait que lorsqu'on échantillonne un arbre d'espèces avec 60 feuilles d'un arbre plus grand, la hauteur totale de cet arbre d'espèces dépend du nombre total d'espèces au total.\n",
    "\n",
    "Est-ce qu'on peut calculer l'espérance de la longueur de l'arbre samplé grâce aux formules de Stadler ? "
   ]
  },
  {
   "cell_type": "code",
   "execution_count": null,
   "metadata": {},
   "outputs": [],
   "source": [
    "import pandas as pd\n",
    "# 1. \n",
    "\n",
    "# 1. On normalise l'arbre par sa hauteur.\n",
    "normalized_tree = normalize_tree_height(tree)\n"
   ]
  },
  {
   "cell_type": "code",
   "execution_count": null,
   "metadata": {},
   "outputs": [],
   "source": []
  },
  {
   "cell_type": "markdown",
   "metadata": {},
   "source": [
    "Il faut utiliser Zombi pour faire les transferts préférentiels entre espèces, et calculer les probabilités de transfert pairwise avec les distances au moment du transfert.\n",
    "\n",
    "C'est trop lent avec la version de Zombi de base, donc on doit trouver comment accélérer cette opération."
   ]
  },
  {
   "cell_type": "markdown",
   "metadata": {},
   "source": [
    "Je crois que j'ai trouvé comment faire: il faut utiliser une propriété de l'opération softmax. Soit $x = (x_1, ..., x_n)$. Alors\n",
    "$$\\mathrm{softmax}(x) = \\left(\\frac{\\exp(x_1)}{\\sum_{i=1}^{n}{\\exp(x_i)}}, \\frac{\\exp(x_2)}{\\sum_{i=1}^{n}{\\exp(x_i)}}, ..., \\frac{\\exp(x_n)}{\\sum_{i=1}^{n}{\\exp(x_i)}}\\right)$$\n",
    "\n",
    "On remarque alors que $\\mathrm{softmax}(x_1, ..., x_n) = \\mathrm{softmax}(x_1+t, x_2+t, ..., x_3+t)$. Lorsque le temps augmente dans l'arbre complet de $dt$ sans passer un noeud, les distances pairwise entre le donneur et le receveur augmentent toutes de $2dt$. En vertu de l'équation $\\mathrm{softmax}(x_1, ..., x_n) = \\mathrm{softmax}(x_1+2dt, x_2+2dt, ..., x_3+2dt)$, on peut calculer les distances pairwise une fois pour toutes à chaque intervalle de la subdivision. Ainsi, on obtient un tenseur de taille $(n_intervalles, n_{feuilles}, n_{feuilles})$, soit de taille $O(n_{feuilles}^3)$, que l'on peut calculer une fois pour toutes et qui donnera les probabilités qu'un transfert donné soit reçu par une espèce contemporaine."
   ]
  },
  {
   "cell_type": "code",
   "execution_count": null,
   "metadata": {},
   "outputs": [],
   "source": [
    "# On teste les deux versions du code, pour voir si elles donnent le même résultat.\n",
    "import sys\n",
    "import os\n",
    "import re\n",
    "\n",
    "def modify_parameters(input_file_path: str,\n",
    "                             output_file_path: str,\n",
    "                             replacements: dict):\n",
    "    try:\n",
    "        # Read the file content\n",
    "        with open(input_file_path, 'r') as file:\n",
    "            content = file.read()\n",
    "\n",
    "        # Replace all parameters ending with '_SNAKEMAKE'\n",
    "        for key, value in replacements.items():\n",
    "            pattern = re.compile(rf\"{key}_SNAKEMAKE\")\n",
    "            content = pattern.sub(value, content)\n",
    "\n",
    "        # Write the modified content to the output file\n",
    "        with open(output_file_path, 'w+') as file:\n",
    "            file.write(content)\n",
    "\n",
    "        print(f\"Successfully modified the file and saved to: {output_file_path}\")\n",
    "    except FileNotFoundError:\n",
    "        print(f\"Error: The file {input_file_path} was not found.\")\n",
    "    except Exception as e:\n",
    "        print(f\"An error occurred: {e}\")\n",
    "\n",
    "\n",
    "\n",
    "\n",
    "\n",
    "\n",
    "replacements_species = {\"SPECIATION\": \"1\",\n",
    "                        \"EXTINCTION\": \"0\",\n",
    "                        \"MAX_LINEAGES\": \"1000\",\n",
    "                        \"SEED\": \"46\"}\n",
    "input_file_path = '/home/enzo/Documents/git/WP1/DeepGhosts/bin/zombi_configs/SpeciesTreeParametersTemplate.tsv'\n",
    "output_file_path = \"/home/enzo/Documents/git/WP1/DeepGhosts/bin/zombi_configs/SpeciesTreeParameters_2.tsv\"\n",
    "modify_parameters(input_file_path, output_file_path, replacements_species)\n",
    "# Parse replacement arguments\n",
    "input_file_path = '/home/enzo/Documents/git/WP1/DeepGhosts/bin/zombi_configs/GenomeParametersTemplate.tsv'\n",
    "output_file_path = \"/home/enzo/Documents/git/WP1/DeepGhosts/bin/zombi_configs/GenomeParameters_2.tsv\"\n",
    "replacements_genome = {\"DUPLICATION_RATE\": \"0.0\",\n",
    "                \"LOSS_RATE\": \"0.0\",\n",
    "                \"TRANSFER_RATE\": \"25\",\n",
    "                \"ASSORTATIVE_TRANSFER\": \"True\",\n",
    "                \"ALPHA\": \"10\",\n",
    "                \"N_GENES\": \"1000\",\n",
    "                \"SEED\": \"48\"}\n",
    "\n",
    "\n",
    "modify_parameters(input_file_path, output_file_path, replacements_genome)"
   ]
  },
  {
   "cell_type": "code",
   "execution_count": null,
   "metadata": {},
   "outputs": [],
   "source": [
    "1000*0.025"
   ]
  },
  {
   "cell_type": "code",
   "execution_count": null,
   "metadata": {},
   "outputs": [],
   "source": [
    "120*0.025"
   ]
  },
  {
   "cell_type": "code",
   "execution_count": null,
   "metadata": {},
   "outputs": [],
   "source": [
    "tree_output_folder == \"/home/enzo/Documents/git/WP1/DeepGhosts/Output_test/species_tree_0\""
   ]
  },
  {
   "cell_type": "code",
   "execution_count": null,
   "metadata": {},
   "outputs": [],
   "source": [
    "# Maintenant, on génère l'arbre d'espèces\n",
    "import subprocess\n",
    "from pathlib import Path\n",
    "OUTPUT_FOLDER = Path(\"/home/enzo/Documents/git/WP1/DeepGhosts/Output_test\") \n",
    "sp_tree_index = 0\n",
    "tree_output_folder = str(OUTPUT_FOLDER / f\"species_tree_{sp_tree_index}\")\n",
    "command = f\"python3 /home/enzo/Documents/git/Zombi_ale_friendly/Zombi.py T /home/enzo/Documents/git/WP1/DeepGhosts/bin/zombi_configs/SpeciesTreeParameters_2.tsv {tree_output_folder}\"\n",
    "subprocess.run(command, shell=True)"
   ]
  },
  {
   "cell_type": "markdown",
   "metadata": {},
   "source": [
    "Avec assortative_transfer=True. 67 minutes pour 1000 gènes, taux 25, 1000 espèces."
   ]
  },
  {
   "cell_type": "code",
   "execution_count": null,
   "metadata": {},
   "outputs": [],
   "source": [
    "command = f\"python3 /home/enzo/Documents/git/Zombi_ale_friendly/Zombi.py G /home/enzo/Documents/git/WP1/DeepGhosts/bin/zombi_configs/GenomeParameters_2.tsv {tree_output_folder}\"\n",
    "subprocess.run(command, shell=True)"
   ]
  },
  {
   "cell_type": "markdown",
   "metadata": {},
   "source": [
    "Temps pour version d'Enzo:\n",
    "10 minutes"
   ]
  },
  {
   "cell_type": "code",
   "execution_count": null,
   "metadata": {},
   "outputs": [],
   "source": [
    "command = f\"python3 /home/enzo/Documents/git/Zombi_ale_friendly/Zombi.py G /home/enzo/Documents/git/WP1/DeepGhosts/bin/zombi_configs/GenomeParameters_2.tsv {tree_output_folder}\"\n",
    "subprocess.run(command, shell=True)"
   ]
  },
  {
   "cell_type": "markdown",
   "metadata": {},
   "source": [
    "On vérifie maintenant que les deux versions donnent les mêmes valeurs."
   ]
  },
  {
   "cell_type": "code",
   "execution_count": 270,
   "metadata": {},
   "outputs": [
    {
     "name": "stdout",
     "output_type": "stream",
     "text": [
      "Successfully modified the file and saved to: /home/enzo/Documents/git/WP1/DeepGhosts/bin/zombi_configs/SpeciesTreeParameters_2.tsv\n",
      "Successfully modified the file and saved to: /home/enzo/Documents/git/WP1/DeepGhosts/bin/zombi_configs/GenomeParameters_2.tsv\n"
     ]
    }
   ],
   "source": [
    "replacements_species = {\"SPECIATION\": \"1\",\n",
    "                        \"EXTINCTION\": \"0\",\n",
    "                        \"MAX_LINEAGES\": \"20\",\n",
    "                        \"SEED\": \"46\"}\n",
    "input_file_path = '/home/enzo/Documents/git/WP1/DeepGhosts/bin/zombi_configs/SpeciesTreeParametersTemplate.tsv'\n",
    "output_file_path = \"/home/enzo/Documents/git/WP1/DeepGhosts/bin/zombi_configs/SpeciesTreeParameters_2.tsv\"\n",
    "modify_parameters(input_file_path, output_file_path, replacements_species)\n",
    "# Parse replacement arguments\n",
    "input_file_path = '/home/enzo/Documents/git/WP1/DeepGhosts/bin/zombi_configs/GenomeParametersTemplate.tsv'\n",
    "output_file_path = \"/home/enzo/Documents/git/WP1/DeepGhosts/bin/zombi_configs/GenomeParameters_2.tsv\"\n",
    "replacements_genome = {\"DUPLICATION_RATE\": \"0.0\",\n",
    "                \"LOSS_RATE\": \"0.0\",\n",
    "                \"TRANSFER_RATE\": \"25\",\n",
    "                \"ASSORTATIVE_TRANSFER\": \"True\",\n",
    "                \"ALPHA\": \"10\",\n",
    "                \"N_GENES\": \"10\",\n",
    "                \"SEED\": \"46\"}\n",
    "\n",
    "\n",
    "modify_parameters(input_file_path, output_file_path, replacements_genome)"
   ]
  },
  {
   "cell_type": "code",
   "execution_count": 272,
   "metadata": {},
   "outputs": [
    {
     "name": "stdout",
     "output_type": "stream",
     "text": [
      "Computing Species Tree. Trial number 1\n",
      "Not testing Enzo\n",
      "Simulating genomes. Time 0.0\n",
      "Simulating genomes. Time 0.02836572470159681\n",
      "Simulating genomes. Time 0.05059514312230262\n",
      "Simulating genomes. Time 0.1313158765295284\n",
      "Simulating genomes. Time 0.13571179261634186\n",
      "Simulating genomes. Time 0.15580175619922215\n",
      "Simulating genomes. Time 0.15726784020760345\n",
      "Simulating genomes. Time 0.15922088202349907\n",
      "Simulating genomes. Time 0.1713958504028908\n",
      "Simulating genomes. Time 0.19150653418741667\n",
      "Simulating genomes. Time 0.20150149698624756\n",
      "Simulating genomes. Time 0.20388619770984973\n",
      "Simulating genomes. Time 0.21459878164594376\n",
      "Simulating genomes. Time 0.25284933356496186\n",
      "Simulating genomes. Time 0.25662550844464843\n",
      "Simulating genomes. Time 0.30128535431891423\n",
      "Simulating genomes. Time 0.30222525111347776\n",
      "Simulating genomes. Time 0.30461743038160044\n",
      "Simulating genomes. Time 0.3072887948035892\n",
      "Simulating genomes. Time 0.3147230794790639\n",
      "Simulating genomes. Time 0.31922998243171874\n",
      "Simulating genomes. Time 0.3194806170691861\n",
      "Simulating genomes. Time 0.325453620526628\n",
      "Simulating genomes. Time 0.34791039852104827\n",
      "Simulating genomes. Time 0.42018980526197286\n",
      "Simulating genomes. Time 0.4266117176178062\n",
      "Simulating genomes. Time 0.43300015756419136\n",
      "Simulating genomes. Time 0.46186088936995584\n",
      "Simulating genomes. Time 0.46262691280038365\n",
      "Simulating genomes. Time 0.5798427722563335\n",
      "Simulating genomes. Time 0.6007673986319629\n",
      "Simulating genomes. Time 0.6508400907965874\n",
      "Simulating genomes. Time 0.6614375023288589\n",
      "Simulating genomes. Time 0.6960096043209287\n",
      "Simulating genomes. Time 0.7303788985089854\n",
      "Simulating genomes. Time 0.7726092137906456\n",
      "Simulating genomes. Time 0.7909165086491532\n",
      "Simulating genomes. Time 0.8574962191633343\n",
      "Simulating genomes. Time 0.8966538959868684\n",
      "Simulating genomes. Time 0.9128078829538686\n",
      "Simulating genomes. Time 1.0066033886186077\n",
      "Simulating genomes. Time 1.0161537644732115\n",
      "Simulating genomes. Time 1.0587524553085932\n",
      "Simulating genomes. Time 1.0625899700529802\n",
      "Simulating genomes. Time 1.1142344244145068\n",
      "Simulating genomes. Time 1.157277382607906\n",
      "Simulating genomes. Time 1.1605596127378852\n",
      "Simulating genomes. Time 1.2119812708800528\n",
      "Simulating genomes. Time 1.2172284690956865\n",
      "Simulating genomes. Time 1.2325898720601092\n",
      "Simulating genomes. Time 1.232895487350069\n",
      "Simulating genomes. Time 1.2553857250032516\n",
      "Simulating genomes. Time 1.266355403996005\n",
      "Simulating genomes. Time 1.2698438442813302\n",
      "Simulating genomes. Time 1.313545100982583\n",
      "Simulating genomes. Time 1.4279263347122582\n",
      "Simulating genomes. Time 1.4452705076322567\n",
      "Simulating genomes. Time 1.520574267635871\n",
      "Simulating genomes. Time 1.5317010186723923\n",
      "Total transfers 1\n",
      "Simulating genomes. Time 1.5355563595301929\n",
      "Total transfers 2\n",
      "Simulating genomes. Time 1.5640430837821147\n",
      "Total transfers 3\n",
      "Simulating genomes. Time 1.6158043026034534\n",
      "Total transfers 4\n",
      "Simulating genomes. Time 1.657676972422077\n",
      "Total transfers 5\n",
      "Simulating genomes. Time 1.660443709601258\n",
      "Simulating genomes. Time 1.6749045225291077\n",
      "Total transfers 6\n",
      "Simulating genomes. Time 1.7391731636128442\n",
      "Total transfers 7\n",
      "Simulating genomes. Time 1.7489125884365717\n",
      "Total transfers 8\n",
      "Simulating genomes. Time 1.7566741376992812\n",
      "Total transfers 9\n",
      "Simulating genomes. Time 1.7599333030269693\n",
      "Total transfers 10\n",
      "Simulating genomes. Time 1.772571566502318\n",
      "Total transfers 11\n",
      "Simulating genomes. Time 1.7739534962025971\n",
      "Total transfers 12\n",
      "Simulating genomes. Time 1.7837170979748795\n",
      "Total transfers 13\n",
      "Simulating genomes. Time 1.7852737636456262\n",
      "Total transfers 14\n",
      "Simulating genomes. Time 1.795619347208199\n",
      "Total transfers 15\n",
      "Simulating genomes. Time 1.7967313682769823\n",
      "Simulating genomes. Time 1.8000821828124178\n",
      "Total transfers 16\n",
      "Simulating genomes. Time 1.8047035561110987\n",
      "Simulating genomes. Time 1.8110350078321689\n",
      "Total transfers 17\n",
      "Simulating genomes. Time 1.8150671412517099\n",
      "Total transfers 18\n",
      "Simulating genomes. Time 1.8198008092095768\n",
      "Total transfers 19\n",
      "Simulating genomes. Time 1.8370371831678336\n",
      "Total transfers 20\n",
      "Simulating genomes. Time 1.8417935577606268\n",
      "Total transfers 21\n",
      "Simulating genomes. Time 1.8454124912186072\n",
      "Total transfers 22\n",
      "Simulating genomes. Time 1.849324087358867\n",
      "Total transfers 23\n",
      "Simulating genomes. Time 1.8567584339424346\n",
      "Total transfers 24\n",
      "Simulating genomes. Time 1.8571851633258634\n",
      "Total transfers 25\n",
      "Simulating genomes. Time 1.8606309281043014\n",
      "Total transfers 26\n",
      "Simulating genomes. Time 1.861354461917551\n",
      "Total transfers 27\n",
      "Simulating genomes. Time 1.862061227402219\n",
      "Total transfers 28\n",
      "Simulating genomes. Time 1.8638422051688834\n",
      "Total transfers 29\n",
      "Simulating genomes. Time 1.893506945592669\n",
      "Total transfers 30\n",
      "Simulating genomes. Time 1.8958002086326171\n",
      "Total transfers 31\n",
      "Simulating genomes. Time 1.897617120779763\n",
      "Total transfers 32\n",
      "Simulating genomes. Time 1.9131315449420316\n",
      "Total transfers 33\n",
      "Simulating genomes. Time 1.9169281094939639\n",
      "Total transfers 34\n",
      "Simulating genomes. Time 1.917990898995705\n",
      "Total transfers 35\n",
      "Simulating genomes. Time 1.9384951841841769\n",
      "Total transfers 36\n",
      "Simulating genomes. Time 1.9417289107480826\n",
      "Total transfers 37\n",
      "Simulating genomes. Time 1.9508709185835433\n",
      "Total transfers 38\n",
      "Simulating genomes. Time 1.953483191473941\n",
      "Total transfers 39\n",
      "Simulating genomes. Time 1.9571665622128815\n",
      "Total transfers 40\n",
      "Simulating genomes. Time 1.9646638540739987\n",
      "Total transfers 41\n",
      "Simulating genomes. Time 1.9726968093406443\n",
      "Total transfers 42\n",
      "Simulating genomes. Time 1.9802791682008904\n",
      "Total transfers 43\n",
      "Simulating genomes. Time 1.989472108709908\n",
      "Total transfers 44\n",
      "Simulating genomes. Time 1.998289981443736\n",
      "Total transfers 45\n",
      "Simulating genomes. Time 2.00210267238066\n",
      "Total transfers 46\n",
      "Simulating genomes. Time 2.0088402008676907\n",
      "Total transfers 47\n",
      "Simulating genomes. Time 2.014513536782343\n",
      "Total transfers 48\n",
      "Simulating genomes. Time 2.047653556287239\n",
      "Total transfers 49\n",
      "Simulating genomes. Time 2.078192188178434\n",
      "Total transfers 50\n",
      "Simulating genomes. Time 2.0788645728393975\n",
      "Total transfers 51\n",
      "Simulating genomes. Time 2.0943644467050233\n",
      "Total transfers 52\n",
      "Simulating genomes. Time 2.1117446914399256\n",
      "Total transfers 53\n",
      "Simulating genomes. Time 2.127751936132349\n",
      "Total transfers 54\n",
      "Simulating genomes. Time 2.1280673723609493\n",
      "Total transfers 55\n",
      "Simulating genomes. Time 2.1441149057462865\n",
      "Total transfers 56\n",
      "Simulating genomes. Time 2.1499343859003415\n",
      "Total transfers 57\n",
      "Simulating genomes. Time 2.1506188319779667\n",
      "Total transfers 58\n",
      "Simulating genomes. Time 2.1559345248094273\n",
      "Total transfers 59\n",
      "Simulating genomes. Time 2.1562606043357135\n",
      "Total transfers 60\n",
      "Simulating genomes. Time 2.1595957662282483\n",
      "Total transfers 61\n",
      "Simulating genomes. Time 2.1715065118531185\n",
      "Total transfers 62\n",
      "Simulating genomes. Time 2.1724062567382667\n",
      "Total transfers 63\n",
      "Simulating genomes. Time 2.1759907996746546\n",
      "Total transfers 64\n",
      "Simulating genomes. Time 2.180409400742557\n",
      "Total transfers 65\n",
      "Simulating genomes. Time 2.183379749316566\n",
      "Total transfers 66\n",
      "Simulating genomes. Time 2.1880429320230785\n",
      "Total transfers 67\n",
      "Simulating genomes. Time 2.193085816720543\n",
      "Total transfers 68\n",
      "Simulating genomes. Time 2.197966075583259\n",
      "Total transfers 69\n",
      "Simulating genomes. Time 2.212111818882771\n",
      "Total transfers 70\n",
      "Simulating genomes. Time 2.2196232215676663\n",
      "Total transfers 71\n",
      "Simulating genomes. Time 2.2221528761580727\n",
      "Total transfers 72\n",
      "Simulating genomes. Time 2.231448833700308\n",
      "Total transfers 73\n",
      "Simulating genomes. Time 2.2360274720095186\n",
      "Total transfers 74\n",
      "Simulating genomes. Time 2.247708199897142\n",
      "Total transfers 75\n",
      "Simulating genomes. Time 2.2491605773174825\n",
      "Total transfers 76\n",
      "Simulating genomes. Time 2.2659099023844633\n",
      "Total transfers 77\n",
      "Simulating genomes. Time 2.2699042752452976\n",
      "Total transfers 78\n",
      "Simulating genomes. Time 2.270939199255046\n",
      "Total transfers 79\n",
      "Simulating genomes. Time 2.286183709302024\n",
      "Total transfers 80\n",
      "Simulating genomes. Time 2.2986066347448606\n",
      "Total transfers 81\n",
      "Simulating genomes. Time 2.298696051097089\n",
      "Simulating genomes. Time 2.2987670427233544\n",
      "Total transfers 82\n",
      "Simulating genomes. Time 2.2996841329100945\n",
      "Total transfers 83\n",
      "Simulating genomes. Time 2.31157716904755\n",
      "Total transfers 84\n",
      "Simulating genomes. Time 2.3164656704224784\n",
      "Total transfers 85\n",
      "Simulating genomes. Time 2.319148452467153\n",
      "Total transfers 86\n",
      "Simulating genomes. Time 2.32250310819844\n",
      "Total transfers 87\n",
      "Simulating genomes. Time 2.336949612427025\n",
      "Total transfers 88\n",
      "Simulating genomes. Time 2.3373528558610763\n",
      "Total transfers 89\n",
      "Simulating genomes. Time 2.3440337027848512\n",
      "Total transfers 90\n",
      "Simulating genomes. Time 2.344959093350237\n",
      "Total transfers 91\n",
      "Simulating genomes. Time 2.3555482896491187\n",
      "Total transfers 92\n",
      "Simulating genomes. Time 2.3831249548833924\n",
      "Total transfers 93\n",
      "Simulating genomes. Time 2.383870194242525\n",
      "Total transfers 94\n",
      "Simulating genomes. Time 2.4010351000550507\n",
      "Total transfers 95\n",
      "Simulating genomes. Time 2.4121468598171893\n",
      "Simulating genomes. Time 2.4169575623133412\n",
      "Total transfers 96\n",
      "Simulating genomes. Time 2.417901176570317\n",
      "Total transfers 97\n",
      "Simulating genomes. Time 2.4184902882640396\n",
      "Total transfers 98\n",
      "Simulating genomes. Time 2.4251673058742282\n",
      "Total transfers 99\n",
      "Simulating genomes. Time 2.428092817530772\n",
      "Total transfers 100\n",
      "Simulating genomes. Time 2.437157526089978\n",
      "Total transfers 101\n",
      "Simulating genomes. Time 2.4433564282452296\n",
      "Total transfers 102\n",
      "Simulating genomes. Time 2.4558373409474634\n",
      "Total transfers 103\n",
      "Simulating genomes. Time 2.4631210545453452\n",
      "Total transfers 104\n",
      "Simulating genomes. Time 2.4707637011475727\n",
      "Total transfers 105\n",
      "Simulating genomes. Time 2.4732266382292103\n",
      "Total transfers 106\n",
      "Simulating genomes. Time 2.4742769677098457\n",
      "Total transfers 107\n",
      "Simulating genomes. Time 2.487399190454048\n",
      "Total transfers 108\n",
      "Simulating genomes. Time 2.489786128686247\n",
      "Total transfers 109\n",
      "Simulating genomes. Time 2.4925654473367285\n",
      "Simulating genomes. Time 2.4963483423872908\n",
      "Total transfers 110\n",
      "Simulating genomes. Time 2.497052333701721\n",
      "Total transfers 111\n",
      "Simulating genomes. Time 2.5023335368358355\n",
      "Total transfers 112\n",
      "Simulating genomes. Time 2.511109604215617\n",
      "Total transfers 113\n",
      "Simulating genomes. Time 2.517388956897112\n",
      "Total transfers 114\n",
      "Simulating genomes. Time 2.5220624032093695\n",
      "Total transfers 115\n",
      "Simulating genomes. Time 2.52464926233762\n",
      "Total transfers 116\n",
      "Simulating genomes. Time 2.5268287096335182\n",
      "Total transfers 117\n",
      "Simulating genomes. Time 2.527516064469825\n",
      "Total transfers 118\n",
      "Simulating genomes. Time 2.5398018388825334\n",
      "Total transfers 119\n",
      "Simulating genomes. Time 2.5486570153220325\n",
      "Total transfers 120\n",
      "Simulating genomes. Time 2.556869287087961\n",
      "Total transfers 121\n",
      "Simulating genomes. Time 2.566693671134584\n",
      "Total transfers 122\n",
      "Simulating genomes. Time 2.5680027082368215\n",
      "Total transfers 123\n",
      "Simulating genomes. Time 2.568894382077352\n",
      "Total transfers 124\n",
      "Simulating genomes. Time 2.5715117946288406\n",
      "Total transfers 125\n",
      "Simulating genomes. Time 2.5728418506592643\n",
      "Total transfers 126\n",
      "Simulating genomes. Time 2.573066535994547\n",
      "Total transfers 127\n",
      "Simulating genomes. Time 2.5775614704117533\n",
      "Total transfers 128\n",
      "Simulating genomes. Time 2.5826486629502585\n",
      "Total transfers 129\n",
      "Simulating genomes. Time 2.59214503842959\n",
      "Total transfers 130\n",
      "Simulating genomes. Time 2.6004855414934482\n",
      "Total transfers 131\n",
      "Simulating genomes. Time 2.608077820892095\n",
      "Total transfers 132\n",
      "Simulating genomes. Time 2.612774891084665\n",
      "Total transfers 133\n",
      "Simulating genomes. Time 2.6165699313813384\n",
      "Total transfers 134\n",
      "Simulating genomes. Time 2.6214243547275813\n",
      "Total transfers 135\n",
      "Simulating genomes. Time 2.62764245787467\n",
      "Total transfers 136\n",
      "Simulating genomes. Time 2.6379290477189663\n",
      "Total transfers 137\n",
      "Simulating genomes. Time 2.6435927046891043\n",
      "Total transfers 138\n",
      "Simulating genomes. Time 2.6544088304231486\n",
      "Total transfers 139\n",
      "Simulating genomes. Time 2.6704823635966752\n",
      "Total transfers 140\n",
      "Simulating genomes. Time 2.671659597791894\n",
      "Total transfers 141\n",
      "Simulating genomes. Time 2.671787375481663\n",
      "Total transfers 142\n",
      "Simulating genomes. Time 2.681002050493391\n",
      "Total transfers 143\n",
      "Simulating genomes. Time 2.68762411886963\n",
      "Total transfers 144\n",
      "Simulating genomes. Time 2.699099886580779\n",
      "Total transfers 145\n",
      "Simulating genomes. Time 2.7288649021341063\n",
      "Total transfers 146\n",
      "Simulating genomes. Time 2.7301214789664034\n",
      "Total transfers 147\n",
      "Simulating genomes. Time 2.732532015570671\n",
      "Total transfers 148\n",
      "Simulating genomes. Time 2.736119236170767\n",
      "Total transfers 149\n",
      "Simulating genomes. Time 2.739154174217939\n",
      "Total transfers 150\n",
      "Simulating genomes. Time 2.7452611420316018\n",
      "Simulating genomes. Time 2.7486006342848714\n",
      "Simulating genomes. Time 2.760811512303798\n",
      "Total transfers 151\n",
      "Simulating genomes. Time 2.762108865202822\n",
      "Total transfers 152\n",
      "Simulating genomes. Time 2.7670299269145358\n",
      "Total transfers 153\n",
      "Simulating genomes. Time 2.782059519123028\n",
      "Total transfers 154\n",
      "Simulating genomes. Time 2.78228370469203\n",
      "Total transfers 155\n",
      "Simulating genomes. Time 2.782350794206988\n",
      "Total transfers 156\n",
      "Simulating genomes. Time 2.785801879632834\n",
      "Total transfers 157\n",
      "Simulating genomes. Time 2.7990164769703556\n",
      "Total transfers 158\n",
      "Simulating genomes. Time 2.799265547076792\n",
      "Total transfers 159\n",
      "Simulating genomes. Time 2.807726677688386\n",
      "Total transfers 160\n",
      "Simulating genomes. Time 2.810334166844612\n",
      "Simulating genomes. Time 2.8110364212609986\n",
      "Simulating genomes. Time 2.814368430370956\n",
      "Total transfers 161\n",
      "Simulating genomes. Time 2.8156944497235195\n",
      "Total transfers 162\n",
      "Simulating genomes. Time 2.8161783359712653\n",
      "Total transfers 163\n",
      "Simulating genomes. Time 2.8169782180500844\n",
      "Simulating genomes. Time 2.8184372674874054\n",
      "Total transfers 164\n",
      "Simulating genomes. Time 2.820468594099339\n",
      "Total transfers 165\n",
      "Simulating genomes. Time 2.8247740031080064\n",
      "Total transfers 166\n",
      "Simulating genomes. Time 2.8249945240962875\n",
      "Total transfers 167\n",
      "Simulating genomes. Time 2.836404019924554\n",
      "Simulating genomes. Time 2.841850668217005\n",
      "Total transfers 168\n",
      "Simulating genomes. Time 2.846387870657807\n",
      "Total transfers 169\n",
      "Simulating genomes. Time 2.84876819885369\n",
      "Total transfers 170\n",
      "Simulating genomes. Time 2.8544848775567875\n",
      "Total transfers 171\n",
      "Simulating genomes. Time 2.8603305854359293\n",
      "Total transfers 172\n",
      "Simulating genomes. Time 2.861311552065157\n",
      "Total transfers 173\n",
      "Simulating genomes. Time 2.861608301124303\n",
      "Total transfers 174\n",
      "Simulating genomes. Time 2.8645159942463265\n",
      "Total transfers 175\n",
      "Simulating genomes. Time 2.8652061903447574\n",
      "Total transfers 176\n",
      "Simulating genomes. Time 2.867906617698275\n",
      "Total transfers 177\n",
      "Simulating genomes. Time 2.873182440553932\n",
      "Total transfers 178\n",
      "Simulating genomes. Time 2.8731924831645306\n",
      "Total transfers 179\n",
      "Simulating genomes. Time 2.8753607374063788\n",
      "Simulating genomes. Time 2.877762603546515\n",
      "Total transfers 180\n",
      "Simulating genomes. Time 2.8819647970476887\n",
      "Total transfers 181\n",
      "Simulating genomes. Time 2.884179950057811\n",
      "Total transfers 182\n",
      "Simulating genomes. Time 2.890617900359984\n",
      "Total transfers 183\n",
      "Simulating genomes. Time 2.8910629328920994\n",
      "Total transfers 184\n",
      "Simulating genomes. Time 2.8925209341009936\n",
      "Total transfers 185\n",
      "Simulating genomes. Time 2.8930248236293843\n",
      "Total transfers 186\n",
      "Simulating genomes. Time 2.8931936877940188\n",
      "Total transfers 187\n",
      "Simulating genomes. Time 2.8933270537232327\n",
      "Simulating genomes. Time 2.8944208748779\n",
      "Total transfers 188\n",
      "Simulating genomes. Time 2.8944327540070955\n",
      "Total transfers 189\n",
      "Simulating genomes. Time 2.8945440004851726\n",
      "Total transfers 190\n",
      "Simulating genomes. Time 2.89791066515246\n",
      "Simulating genomes. Time 2.8981469697585287\n",
      "Total transfers 191\n",
      "Simulating genomes. Time 2.898219716099242\n",
      "Total transfers 192\n",
      "Simulating genomes. Time 2.9007387321488323\n",
      "Total transfers 193\n",
      "Simulating genomes. Time 2.900982085417893\n",
      "Total transfers 194\n",
      "Simulating genomes. Time 2.9018988638934164\n",
      "Total transfers 195\n",
      "Simulating genomes. Time 2.9064645442200723\n",
      "Total transfers 196\n",
      "Simulating genomes. Time 2.908655023486995\n",
      "Total transfers 197\n",
      "Simulating genomes. Time 2.912587196251714\n",
      "Simulating genomes. Time 2.9139007696645494\n",
      "Total transfers 198\n",
      "Simulating genomes. Time 2.9166194707793065\n",
      "Total transfers 199\n",
      "Simulating genomes. Time 2.9199150713159754\n",
      "Total transfers 200\n",
      "Simulating genomes. Time 2.9200033734294184\n",
      "Total transfers 201\n",
      "Simulating genomes. Time 2.9204737230311806\n",
      "Total transfers 202\n",
      "Simulating genomes. Time 2.924615510796325\n",
      "Total transfers 203\n",
      "Simulating genomes. Time 2.927625382137028\n",
      "Total transfers 204\n",
      "Simulating genomes. Time 2.9280584785657577\n",
      "Total transfers 205\n",
      "Simulating genomes. Time 2.9306699868471306\n",
      "Total transfers 206\n",
      "Simulating genomes. Time 2.930715277663619\n",
      "Total transfers 207\n",
      "Simulating genomes. Time 2.938823622363524\n",
      "Total transfers 208\n",
      "Simulating genomes. Time 2.9393511538652617\n",
      "Total transfers 209\n",
      "Simulating genomes. Time 2.9415807595959373\n",
      "Total transfers 210\n",
      "Simulating genomes. Time 2.94599661576113\n",
      "Total transfers 211\n",
      "Simulating genomes. Time 2.9471401883329897\n",
      "Total transfers 212\n",
      "Simulating genomes. Time 2.9506212934372256\n",
      "Total transfers 213\n",
      "Simulating genomes. Time 2.959987619290958\n",
      "Total transfers 214\n",
      "Simulating genomes. Time 2.960070070758032\n",
      "Total transfers 215\n",
      "Simulating genomes. Time 2.9612000489555452\n",
      "Total transfers 216\n",
      "Simulating genomes. Time 2.9615400237782152\n",
      "Total transfers 217\n",
      "Simulating genomes. Time 2.962484731868728\n",
      "Simulating genomes. Time 2.967026536218741\n",
      "Total transfers 218\n",
      "Simulating genomes. Time 2.96847559522977\n",
      "Total transfers 219\n",
      "Simulating genomes. Time 2.9704114061870217\n",
      "Simulating genomes. Time 2.9719951873762236\n",
      "Total transfers 220\n",
      "Simulating genomes. Time 2.972796088467358\n",
      "Total transfers 221\n",
      "Simulating genomes. Time 2.9743404921773315\n",
      "Total transfers 222\n",
      "Simulating genomes. Time 2.9750583965834054\n",
      "Total transfers 223\n",
      "Simulating genomes. Time 2.977803017139713\n",
      "Total transfers 224\n",
      "Simulating genomes. Time 2.978217038274047\n",
      "Total transfers 225\n",
      "Simulating genomes. Time 2.978851664130036\n",
      "Total transfers 226\n",
      "Simulating genomes. Time 2.9798480505537053\n",
      "Total transfers 227\n",
      "Simulating genomes. Time 2.9799043681702244\n",
      "Total transfers 228\n",
      "Simulating genomes. Time 2.98095282252366\n",
      "Total transfers 229\n",
      "Simulating genomes. Time 2.9811925619898716\n",
      "Total transfers 230\n",
      "Simulating genomes. Time 2.9814750754698527\n",
      "Total transfers 231\n",
      "Simulating genomes. Time 2.981985799374531\n",
      "Total transfers 232\n",
      "Simulating genomes. Time 2.983266333938989\n",
      "Total transfers 233\n",
      "Simulating genomes. Time 2.9838064504924735\n",
      "Total transfers 234\n",
      "Simulating genomes. Time 2.9868906906943145\n",
      "Total transfers 235\n",
      "Simulating genomes. Time 2.987966961554252\n",
      "Total transfers 236\n",
      "Simulating genomes. Time 2.988417289813777\n",
      "Total transfers 237\n",
      "Simulating genomes. Time 2.9884732345075915\n",
      "Total transfers 238\n",
      "Simulating genomes. Time 2.989734027711773\n",
      "Total transfers 239\n",
      "Simulating genomes. Time 2.99095748572881\n",
      "Total transfers 240\n",
      "Simulating genomes. Time 2.997197914077804\n",
      "Total transfers 241\n",
      "Simulating genomes. Time 2.998337272633781\n",
      "Total transfers 242\n",
      "Simulating genomes. Time 3.001475741758791\n",
      "Total transfers 243\n",
      "Simulating genomes. Time 3.0031948809308817\n",
      "Total transfers 244\n",
      "Simulating genomes. Time 3.0056083881936426\n",
      "Total transfers 245\n",
      "Simulating genomes. Time 3.0058431544365685\n",
      "Total transfers 246\n",
      "Simulating genomes. Time 3.0088195067751946\n",
      "Total transfers 247\n",
      "Simulating genomes. Time 3.010142943588464\n",
      "Total transfers 248\n",
      "Simulating genomes. Time 3.0142756460290636\n",
      "Total transfers 249\n",
      "Simulating genomes. Time 3.0186614789300887\n",
      "Total transfers 250\n",
      "Simulating genomes. Time 3.0187457191186127\n",
      "Total transfers 251\n",
      "Simulating genomes. Time 3.022675984213639\n",
      "Total transfers 252\n",
      "Simulating genomes. Time 3.0249083204117504\n",
      "Total transfers 253\n",
      "Simulating genomes. Time 3.0262718846828602\n",
      "Total transfers 254\n",
      "Simulating genomes. Time 3.027104831449332\n",
      "Writing Genomes\n",
      "Writing Gene Families\n",
      "Writing Profiles\n",
      "Writing Events Per Branch\n",
      "Writing Gene Trees\n"
     ]
    },
    {
     "data": {
      "text/plain": [
       "CompletedProcess(args='python3 /home/enzo/Documents/git/Zombi_ale_friendly/Zombi.py G /home/enzo/Documents/git/WP1/DeepGhosts/bin/zombi_configs/GenomeParameters_2.tsv /home/enzo/Documents/git/WP1/DeepGhosts/Output_test/species_tree_0', returncode=0)"
      ]
     },
     "execution_count": 272,
     "metadata": {},
     "output_type": "execute_result"
    }
   ],
   "source": [
    "# Maintenant, on génère l'arbre d'espèces\n",
    "import subprocess\n",
    "from pathlib import Path\n",
    "OUTPUT_FOLDER = Path(\"/home/enzo/Documents/git/WP1/DeepGhosts/Output_test\") \n",
    "sp_tree_index = 0\n",
    "tree_output_folder = str(OUTPUT_FOLDER / f\"species_tree_{sp_tree_index}\")\n",
    "command = f\"python3 /home/enzo/Documents/git/Zombi_ale_friendly/Zombi.py T /home/enzo/Documents/git/WP1/DeepGhosts/bin/zombi_configs/SpeciesTreeParameters_2.tsv {tree_output_folder}\"\n",
    "subprocess.run(command, shell=True)\n",
    "command = f\"python3 /home/enzo/Documents/git/Zombi_ale_friendly/Zombi.py G /home/enzo/Documents/git/WP1/DeepGhosts/bin/zombi_configs/GenomeParameters_2.tsv {tree_output_folder}\"\n",
    "subprocess.run(command, shell=True)"
   ]
  },
  {
   "cell_type": "code",
   "execution_count": 256,
   "metadata": {},
   "outputs": [],
   "source": [
    "import pandas as pd\n",
    "from glob import glob\n",
    "import os\n",
    "species_tree_index = 0\n",
    "# open every tsv file of the form *_branchevents.tsv in the folder, and concatenate them into a single dataframe with a new columns containing the * part of the filename.\n",
    "folder_path = f\"/home/enzo/Documents/git/WP1/DeepGhosts/Output_test/species_tree_{species_tree_index}/G/Gene_families/\"\n",
    "all_files = glob(os.path.join(folder_path, \"*_events.tsv\"))\n",
    "df_from_each_file = (pd.read_csv(f, sep=\"\\t\").assign(filename=os.path.basename(f).split(\"_\")[0]) for f in all_files)\n",
    "events_df_0 = pd.concat(df_from_each_file, ignore_index=True)"
   ]
  },
  {
   "cell_type": "code",
   "execution_count": 348,
   "metadata": {},
   "outputs": [
    {
     "data": {
      "application/vnd.microsoft.datawrangler.viewer.v0+json": {
       "columns": [
        {
         "name": "index",
         "rawType": "int64",
         "type": "integer"
        },
        {
         "name": "TIME",
         "rawType": "float64",
         "type": "float"
        },
        {
         "name": "EVENT",
         "rawType": "object",
         "type": "string"
        },
        {
         "name": "NODES",
         "rawType": "object",
         "type": "string"
        },
        {
         "name": "filename",
         "rawType": "object",
         "type": "string"
        }
       ],
       "conversionMethod": "pd.DataFrame",
       "ref": "9d81aac5-2f88-4ed5-a423-0c5463fc7ad5",
       "rows": [
        [
         "289",
         "1.5355563595301929",
         "T",
         "100002;3;100002;4;100001;5",
         "4"
        ],
        [
         "753",
         "1.5639265553679922",
         "T",
         "100001;2;100001;4;100002;5",
         "7"
        ],
        [
         "175",
         "1.5654000699869188",
         "T",
         "100001;2;100001;4;100002;5",
         "1"
        ],
        [
         "81",
         "1.6032594628119723",
         "T",
         "100001;2;100001;4;100002;5",
         "2"
        ],
        [
         "83",
         "1.6355502518405762",
         "T",
         "100002;5;100002;6;100001;7",
         "2"
        ],
        [
         "755",
         "1.6377471826687473",
         "T",
         "100001;4;100001;6;100002;7",
         "7"
        ],
        [
         "757",
         "1.6598043778178315",
         "T",
         "100001;6;100001;8;100002;9",
         "7"
        ],
        [
         "860",
         "1.7043183333118086",
         "T",
         "100004;5;100004;6;100003;7",
         "10"
        ],
        [
         "178",
         "1.7056929289078804",
         "T",
         "100004;7;100004;8;100003;9",
         "1"
        ],
        [
         "498",
         "1.7060542734286062",
         "T",
         "100001;2;100001;6;100004;7",
         "5"
        ],
        [
         "660",
         "1.7098616067381214",
         "T",
         "100001;2;100001;6;100004;7",
         "6"
        ],
        [
         "388",
         "1.7168781872787957",
         "T",
         "100001;2;100001;6;100004;7",
         "3"
        ],
        [
         "862",
         "1.7264651378717213",
         "T",
         "100001;2;100001;8;100003;9",
         "10"
        ],
        [
         "572",
         "1.7572561928674613",
         "T",
         "100003;4;100003;6;100004;7",
         "8"
        ],
        [
         "390",
         "1.7682377844626662",
         "T",
         "100001;6;100001;8;100003;9",
         "3"
        ],
        [
         "392",
         "1.7912267821619556",
         "T",
         "100003;9;100003;10;100004;11",
         "3"
        ],
        [
         "761",
         "1.8008119604006734",
         "T",
         "100004;11;100004;14;100003;15",
         "7"
        ],
        [
         "664",
         "1.8135283048279045",
         "T",
         "100003;4;100003;12;100007;13",
         "6"
        ],
        [
         "294",
         "1.8175727392552592",
         "T",
         "100003;6;100003;12;100007;13",
         "4"
        ],
        [
         "88",
         "1.831506432751556",
         "T",
         "100006;11;100006;14;100005;15",
         "2"
        ],
        [
         "296",
         "1.8418986020471533",
         "T",
         "100003;12;100003;14;100007;15",
         "4"
        ],
        [
         "576",
         "1.8514269266278136",
         "T",
         "100006;9;100006;12;100007;13",
         "8"
        ],
        [
         "6",
         "1.8519164157393484",
         "T",
         "100003;4;100003;10;100007;11",
         "9"
        ],
        [
         "182",
         "1.864556253060465",
         "T",
         "100006;11;100006;14;100005;15",
         "1"
        ],
        [
         "90",
         "1.8881841627358509",
         "T",
         "100008;13;100008;16;100007;17",
         "2"
        ],
        [
         "866",
         "1.9226197959436824",
         "T",
         "100007;12;100007;14;100005;15",
         "10"
        ],
        [
         "8",
         "1.9265313920839424",
         "T",
         "100007;11;100007;12;100003;13",
         "9"
        ],
        [
         "764",
         "1.937408983180388",
         "T",
         "100006;13;100006;18;100007;19",
         "7"
        ],
        [
         "92",
         "1.9444721359725496",
         "T",
         "100003;8;100003;18;100005;19",
         "2"
        ],
        [
         "868",
         "1.946676184416973",
         "T",
         "100008;13;100008;16;100006;17",
         "10"
        ],
        [
         "502",
         "1.9487729049653115",
         "T",
         "100006;9;100006;12;100005;13",
         "5"
        ],
        [
         "396",
         "1.954951846740761",
         "T",
         "100007;14;100007;16;100006;17",
         "3"
        ],
        [
         "766",
         "1.9611817241866476",
         "T",
         "100008;17;100008;20;100007;21",
         "7"
        ],
        [
         "298",
         "1.965668048617736",
         "T",
         "100007;15;100007;16;100008;17",
         "4"
        ],
        [
         "768",
         "1.9695300189981968",
         "T",
         "100008;20;100008;22;100007;23",
         "7"
        ],
        [
         "94",
         "1.996807208625439",
         "T",
         "100007;17;100007;20;100008;21",
         "2"
        ],
        [
         "504",
         "1.9981001183646616",
         "T",
         "100005;13;100005;14;100008;15",
         "5"
        ],
        [
         "666",
         "1.9987101309269737",
         "T",
         "100005;8;100005;14;100006;15",
         "6"
        ],
        [
         "184",
         "1.9988124881316551",
         "T",
         "100005;15;100005;16;100003;17",
         "1"
        ],
        [
         "398",
         "2.0010617660831818",
         "T",
         "100008;15;100008;18;100007;19",
         "3"
        ],
        [
         "300",
         "2.002678998703382",
         "T",
         "100005;8;100005;18;100006;19",
         "4"
        ],
        [
         "506",
         "2.003741788205124",
         "T",
         "100005;14;100005;16;100006;17",
         "5"
        ],
        [
         "96",
         "2.00746166935679",
         "T",
         "100003;18;100003;22;100006;23",
         "2"
        ],
        [
         "668",
         "2.0104047099440936",
         "T",
         "100007;13;100007;16;100008;17",
         "6"
        ],
        [
         "870",
         "2.01268153374521",
         "T",
         "100006;17;100006;18;100005;19",
         "10"
        ],
        [
         "578",
         "2.0134059463317766",
         "T",
         "100005;8;100005;14;100003;15",
         "8"
        ],
        [
         "508",
         "2.0171648378350957",
         "T",
         "100005;16;100005;18;100008;19",
         "5"
        ],
        [
         "302",
         "2.0179976436047364",
         "T",
         "100006;19;100006;20;100007;21",
         "4"
        ],
        [
         "670",
         "2.025663437666217",
         "T",
         "100003;12;100003;18;100006;19",
         "6"
        ],
        [
         "580",
         "2.028388218219168",
         "T",
         "100008;11;100008;16;100007;17",
         "8"
        ]
       ],
       "shape": {
        "columns": 4,
        "rows": 285
       }
      },
      "text/html": [
       "<div>\n",
       "<style scoped>\n",
       "    .dataframe tbody tr th:only-of-type {\n",
       "        vertical-align: middle;\n",
       "    }\n",
       "\n",
       "    .dataframe tbody tr th {\n",
       "        vertical-align: top;\n",
       "    }\n",
       "\n",
       "    .dataframe thead th {\n",
       "        text-align: right;\n",
       "    }\n",
       "</style>\n",
       "<table border=\"1\" class=\"dataframe\">\n",
       "  <thead>\n",
       "    <tr style=\"text-align: right;\">\n",
       "      <th></th>\n",
       "      <th>TIME</th>\n",
       "      <th>EVENT</th>\n",
       "      <th>NODES</th>\n",
       "      <th>filename</th>\n",
       "    </tr>\n",
       "  </thead>\n",
       "  <tbody>\n",
       "    <tr>\n",
       "      <th>289</th>\n",
       "      <td>1.535556</td>\n",
       "      <td>T</td>\n",
       "      <td>100002;3;100002;4;100001;5</td>\n",
       "      <td>4</td>\n",
       "    </tr>\n",
       "    <tr>\n",
       "      <th>753</th>\n",
       "      <td>1.563927</td>\n",
       "      <td>T</td>\n",
       "      <td>100001;2;100001;4;100002;5</td>\n",
       "      <td>7</td>\n",
       "    </tr>\n",
       "    <tr>\n",
       "      <th>175</th>\n",
       "      <td>1.565400</td>\n",
       "      <td>T</td>\n",
       "      <td>100001;2;100001;4;100002;5</td>\n",
       "      <td>1</td>\n",
       "    </tr>\n",
       "    <tr>\n",
       "      <th>81</th>\n",
       "      <td>1.603259</td>\n",
       "      <td>T</td>\n",
       "      <td>100001;2;100001;4;100002;5</td>\n",
       "      <td>2</td>\n",
       "    </tr>\n",
       "    <tr>\n",
       "      <th>83</th>\n",
       "      <td>1.635550</td>\n",
       "      <td>T</td>\n",
       "      <td>100002;5;100002;6;100001;7</td>\n",
       "      <td>2</td>\n",
       "    </tr>\n",
       "    <tr>\n",
       "      <th>...</th>\n",
       "      <td>...</td>\n",
       "      <td>...</td>\n",
       "      <td>...</td>\n",
       "      <td>...</td>\n",
       "    </tr>\n",
       "    <tr>\n",
       "      <th>835</th>\n",
       "      <td>3.021590</td>\n",
       "      <td>T</td>\n",
       "      <td>100034;87;100034;104;100019;105</td>\n",
       "      <td>7</td>\n",
       "    </tr>\n",
       "    <tr>\n",
       "      <th>265</th>\n",
       "      <td>3.021679</td>\n",
       "      <td>T</td>\n",
       "      <td>100035;111;100035;112;100020;113</td>\n",
       "      <td>1</td>\n",
       "    </tr>\n",
       "    <tr>\n",
       "      <th>363</th>\n",
       "      <td>3.026598</td>\n",
       "      <td>T</td>\n",
       "      <td>100034;91;100034;96;100023;97</td>\n",
       "      <td>4</td>\n",
       "    </tr>\n",
       "    <tr>\n",
       "      <th>949</th>\n",
       "      <td>3.027679</td>\n",
       "      <td>T</td>\n",
       "      <td>100028;75;100028;112;100031;113</td>\n",
       "      <td>10</td>\n",
       "    </tr>\n",
       "    <tr>\n",
       "      <th>151</th>\n",
       "      <td>3.027735</td>\n",
       "      <td>T</td>\n",
       "      <td>100014;71;100014;92;100018;93</td>\n",
       "      <td>2</td>\n",
       "    </tr>\n",
       "  </tbody>\n",
       "</table>\n",
       "<p>285 rows × 4 columns</p>\n",
       "</div>"
      ],
      "text/plain": [
       "         TIME EVENT                             NODES filename\n",
       "289  1.535556     T        100002;3;100002;4;100001;5        4\n",
       "753  1.563927     T        100001;2;100001;4;100002;5        7\n",
       "175  1.565400     T        100001;2;100001;4;100002;5        1\n",
       "81   1.603259     T        100001;2;100001;4;100002;5        2\n",
       "83   1.635550     T        100002;5;100002;6;100001;7        2\n",
       "..        ...   ...                               ...      ...\n",
       "835  3.021590     T   100034;87;100034;104;100019;105        7\n",
       "265  3.021679     T  100035;111;100035;112;100020;113        1\n",
       "363  3.026598     T     100034;91;100034;96;100023;97        4\n",
       "949  3.027679     T   100028;75;100028;112;100031;113       10\n",
       "151  3.027735     T     100014;71;100014;92;100018;93        2\n",
       "\n",
       "[285 rows x 4 columns]"
      ]
     },
     "execution_count": 348,
     "metadata": {},
     "output_type": "execute_result"
    }
   ],
   "source": [
    "# Maintenant, on génère l'arbre d'espèces\n",
    "from IPython.display import clear_output\n",
    "import subprocess\n",
    "from pathlib import Path\n",
    "OUTPUT_FOLDER = Path(\"/home/enzo/Documents/git/WP1/DeepGhosts/Output_test\") \n",
    "sp_tree_index = 0\n",
    "tree_output_folder = str(OUTPUT_FOLDER / f\"species_tree_{sp_tree_index}\")\n",
    "command = f\"python3 /home/enzo/Documents/git/Zombi_ale_friendly/Zombi.py T /home/enzo/Documents/git/WP1/DeepGhosts/bin/zombi_configs/SpeciesTreeParameters_2.tsv {tree_output_folder}\"\n",
    "subprocess.run(command, shell=True)\n",
    "command = f\"python3 /home/enzo/Documents/git/Zombi_ale_friendly/Zombi.py G /home/enzo/Documents/git/WP1/DeepGhosts/bin/zombi_configs/GenomeParameters_2.tsv {tree_output_folder}\"\n",
    "subprocess.run(command, shell=True)\n",
    "clear_output()\n",
    "import pandas as pd\n",
    "from glob import glob\n",
    "import os\n",
    "species_tree_index = 0\n",
    "# open every tsv file of the form *_branchevents.tsv in the folder, and concatenate them into a single dataframe with a new columns containing the * part of the filename.\n",
    "folder_path = f\"/home/enzo/Documents/git/WP1/DeepGhosts/Output_test/species_tree_{species_tree_index}/G/Gene_families/\"\n",
    "all_files = glob(os.path.join(folder_path, \"*_events.tsv\"))\n",
    "df_from_each_file = (pd.read_csv(f, sep=\"\\t\").assign(filename=os.path.basename(f).split(\"_\")[0]) for f in all_files)\n",
    "events_df_0 = pd.concat(df_from_each_file, ignore_index=True)\n",
    "events_df_0[events_df_0[\"EVENT\"]==\"T\"].sort_values(by=\"TIME\")"
   ]
  },
  {
   "cell_type": "code",
   "execution_count": 355,
   "metadata": {},
   "outputs": [
    {
     "name": "stdout",
     "output_type": "stream",
     "text": [
      "Computing Species Tree. Trial number 1\n",
      "Setting seed to 46\n",
      "Simulating genomes. Time 0.0\n",
      "Simulating genomes. Time 0.02836572470159681\n",
      "Simulating genomes. Time 0.05059514312230262\n",
      "Simulating genomes. Time 0.1313158765295284\n",
      "Simulating genomes. Time 0.13571179261634186\n",
      "Simulating genomes. Time 0.15580175619922215\n",
      "Simulating genomes. Time 0.15726784020760345\n",
      "Simulating genomes. Time 0.15922088202349907\n",
      "Simulating genomes. Time 0.1713958504028908\n",
      "Simulating genomes. Time 0.19150653418741667\n",
      "Simulating genomes. Time 0.20150149698624756\n",
      "Simulating genomes. Time 0.20388619770984973\n",
      "Simulating genomes. Time 0.21459878164594376\n",
      "Simulating genomes. Time 0.25284933356496186\n",
      "Simulating genomes. Time 0.25662550844464843\n",
      "Simulating genomes. Time 0.30128535431891423\n",
      "Simulating genomes. Time 0.30222525111347776\n",
      "Simulating genomes. Time 0.30461743038160044\n",
      "Simulating genomes. Time 0.3072887948035892\n",
      "Simulating genomes. Time 0.3147230794790639\n",
      "Simulating genomes. Time 0.31922998243171874\n",
      "Simulating genomes. Time 0.3194806170691861\n",
      "Simulating genomes. Time 0.325453620526628\n",
      "Simulating genomes. Time 0.34791039852104827\n",
      "Simulating genomes. Time 0.42018980526197286\n",
      "Simulating genomes. Time 0.4266117176178062\n",
      "Simulating genomes. Time 0.43300015756419136\n",
      "Simulating genomes. Time 0.46186088936995584\n",
      "Simulating genomes. Time 0.46262691280038365\n",
      "Simulating genomes. Time 0.5798427722563335\n",
      "Simulating genomes. Time 0.6007673986319629\n",
      "Simulating genomes. Time 0.6508400907965874\n",
      "Simulating genomes. Time 0.6614375023288589\n",
      "Simulating genomes. Time 0.6960096043209287\n",
      "Simulating genomes. Time 0.7303788985089854\n",
      "Simulating genomes. Time 0.7726092137906456\n",
      "Simulating genomes. Time 0.7909165086491532\n",
      "Simulating genomes. Time 0.8574962191633343\n",
      "Simulating genomes. Time 0.8966538959868684\n",
      "Simulating genomes. Time 0.9128078829538686\n",
      "Simulating genomes. Time 1.0066033886186077\n",
      "Simulating genomes. Time 1.0161537644732115\n",
      "Simulating genomes. Time 1.0587524553085932\n",
      "Simulating genomes. Time 1.0625899700529802\n",
      "Simulating genomes. Time 1.1142344244145068\n",
      "Simulating genomes. Time 1.157277382607906\n",
      "Simulating genomes. Time 1.1605596127378852\n",
      "Simulating genomes. Time 1.2119812708800528\n",
      "Simulating genomes. Time 1.2172284690956865\n",
      "Simulating genomes. Time 1.2325898720601092\n",
      "Simulating genomes. Time 1.232895487350069\n",
      "Simulating genomes. Time 1.2553857250032516\n",
      "Simulating genomes. Time 1.266355403996005\n",
      "Simulating genomes. Time 1.2698438442813302\n",
      "Simulating genomes. Time 1.313545100982583\n",
      "Simulating genomes. Time 1.4279263347122582\n",
      "Simulating genomes. Time 1.4452705076322567\n",
      "Simulating genomes. Time 1.520574267635871\n",
      "Simulating genomes. Time 1.5317010186723923\n"
     ]
    },
    {
     "name": "stderr",
     "output_type": "stream",
     "text": [
      "Traceback (most recent call last):\n",
      "  File \"/home/enzo/Documents/git/Zombi_ale_friendly/Zombi.py\", line 443, in <module>\n",
      "    Z.G(parameters_file, experiment_folder, advanced_mode)\n",
      "  File \"/home/enzo/Documents/git/Zombi_ale_friendly/Zombi.py\", line 146, in G\n",
      "    gss.run()\n",
      "  File \"/home/enzo/Documents/git/Zombi_ale_friendly/GenomeSimulator.py\", line 503, in run\n",
      "    self.evolve_genomes(d, t, l, i, c, o, current_time)\n",
      "  File \"/home/enzo/Documents/git/Zombi_ale_friendly/GenomeSimulator.py\", line 899, in evolve_genomes\n",
      "    self.make_transfer(t_e, donor, recipient, time)\n",
      "    ^^^^^^^^^^^^^^^^^^\n",
      "AttributeError: 'GenomeSimulator' object has no attribute 'make_transfer'\n"
     ]
    },
    {
     "ename": "ValueError",
     "evalue": "No objects to concatenate",
     "output_type": "error",
     "traceback": [
      "\u001b[0;31m---------------------------------------------------------------------------\u001b[0m",
      "\u001b[0;31mValueError\u001b[0m                                Traceback (most recent call last)",
      "Cell \u001b[0;32mIn[355], line 21\u001b[0m\n\u001b[1;32m     19\u001b[0m all_files \u001b[38;5;241m=\u001b[39m glob(os\u001b[38;5;241m.\u001b[39mpath\u001b[38;5;241m.\u001b[39mjoin(folder_path, \u001b[38;5;124m\"\u001b[39m\u001b[38;5;124m*_events.tsv\u001b[39m\u001b[38;5;124m\"\u001b[39m))\n\u001b[1;32m     20\u001b[0m df_from_each_file \u001b[38;5;241m=\u001b[39m (pd\u001b[38;5;241m.\u001b[39mread_csv(f, sep\u001b[38;5;241m=\u001b[39m\u001b[38;5;124m\"\u001b[39m\u001b[38;5;130;01m\\t\u001b[39;00m\u001b[38;5;124m\"\u001b[39m)\u001b[38;5;241m.\u001b[39massign(filename\u001b[38;5;241m=\u001b[39mos\u001b[38;5;241m.\u001b[39mpath\u001b[38;5;241m.\u001b[39mbasename(f)\u001b[38;5;241m.\u001b[39msplit(\u001b[38;5;124m\"\u001b[39m\u001b[38;5;124m_\u001b[39m\u001b[38;5;124m\"\u001b[39m)[\u001b[38;5;241m0\u001b[39m]) \u001b[38;5;28;01mfor\u001b[39;00m f \u001b[38;5;129;01min\u001b[39;00m all_files)\n\u001b[0;32m---> 21\u001b[0m events_df_1 \u001b[38;5;241m=\u001b[39m \u001b[43mpd\u001b[49m\u001b[38;5;241;43m.\u001b[39;49m\u001b[43mconcat\u001b[49m\u001b[43m(\u001b[49m\u001b[43mdf_from_each_file\u001b[49m\u001b[43m,\u001b[49m\u001b[43m \u001b[49m\u001b[43mignore_index\u001b[49m\u001b[38;5;241;43m=\u001b[39;49m\u001b[38;5;28;43;01mTrue\u001b[39;49;00m\u001b[43m)\u001b[49m\n\u001b[1;32m     22\u001b[0m events_df_1[events_df_1[\u001b[38;5;124m\"\u001b[39m\u001b[38;5;124mEVENT\u001b[39m\u001b[38;5;124m\"\u001b[39m]\u001b[38;5;241m==\u001b[39m\u001b[38;5;124m\"\u001b[39m\u001b[38;5;124mT\u001b[39m\u001b[38;5;124m\"\u001b[39m]\u001b[38;5;241m.\u001b[39msort_values(by\u001b[38;5;241m=\u001b[39m\u001b[38;5;124m\"\u001b[39m\u001b[38;5;124mTIME\u001b[39m\u001b[38;5;124m\"\u001b[39m)\n",
      "File \u001b[0;32m~/miniforge3/envs/DeepGhosts/lib/python3.12/site-packages/pandas/core/reshape/concat.py:382\u001b[0m, in \u001b[0;36mconcat\u001b[0;34m(objs, axis, join, ignore_index, keys, levels, names, verify_integrity, sort, copy)\u001b[0m\n\u001b[1;32m    379\u001b[0m \u001b[38;5;28;01melif\u001b[39;00m copy \u001b[38;5;129;01mand\u001b[39;00m using_copy_on_write():\n\u001b[1;32m    380\u001b[0m     copy \u001b[38;5;241m=\u001b[39m \u001b[38;5;28;01mFalse\u001b[39;00m\n\u001b[0;32m--> 382\u001b[0m op \u001b[38;5;241m=\u001b[39m \u001b[43m_Concatenator\u001b[49m\u001b[43m(\u001b[49m\n\u001b[1;32m    383\u001b[0m \u001b[43m    \u001b[49m\u001b[43mobjs\u001b[49m\u001b[43m,\u001b[49m\n\u001b[1;32m    384\u001b[0m \u001b[43m    \u001b[49m\u001b[43maxis\u001b[49m\u001b[38;5;241;43m=\u001b[39;49m\u001b[43maxis\u001b[49m\u001b[43m,\u001b[49m\n\u001b[1;32m    385\u001b[0m \u001b[43m    \u001b[49m\u001b[43mignore_index\u001b[49m\u001b[38;5;241;43m=\u001b[39;49m\u001b[43mignore_index\u001b[49m\u001b[43m,\u001b[49m\n\u001b[1;32m    386\u001b[0m \u001b[43m    \u001b[49m\u001b[43mjoin\u001b[49m\u001b[38;5;241;43m=\u001b[39;49m\u001b[43mjoin\u001b[49m\u001b[43m,\u001b[49m\n\u001b[1;32m    387\u001b[0m \u001b[43m    \u001b[49m\u001b[43mkeys\u001b[49m\u001b[38;5;241;43m=\u001b[39;49m\u001b[43mkeys\u001b[49m\u001b[43m,\u001b[49m\n\u001b[1;32m    388\u001b[0m \u001b[43m    \u001b[49m\u001b[43mlevels\u001b[49m\u001b[38;5;241;43m=\u001b[39;49m\u001b[43mlevels\u001b[49m\u001b[43m,\u001b[49m\n\u001b[1;32m    389\u001b[0m \u001b[43m    \u001b[49m\u001b[43mnames\u001b[49m\u001b[38;5;241;43m=\u001b[39;49m\u001b[43mnames\u001b[49m\u001b[43m,\u001b[49m\n\u001b[1;32m    390\u001b[0m \u001b[43m    \u001b[49m\u001b[43mverify_integrity\u001b[49m\u001b[38;5;241;43m=\u001b[39;49m\u001b[43mverify_integrity\u001b[49m\u001b[43m,\u001b[49m\n\u001b[1;32m    391\u001b[0m \u001b[43m    \u001b[49m\u001b[43mcopy\u001b[49m\u001b[38;5;241;43m=\u001b[39;49m\u001b[43mcopy\u001b[49m\u001b[43m,\u001b[49m\n\u001b[1;32m    392\u001b[0m \u001b[43m    \u001b[49m\u001b[43msort\u001b[49m\u001b[38;5;241;43m=\u001b[39;49m\u001b[43msort\u001b[49m\u001b[43m,\u001b[49m\n\u001b[1;32m    393\u001b[0m \u001b[43m\u001b[49m\u001b[43m)\u001b[49m\n\u001b[1;32m    395\u001b[0m \u001b[38;5;28;01mreturn\u001b[39;00m op\u001b[38;5;241m.\u001b[39mget_result()\n",
      "File \u001b[0;32m~/miniforge3/envs/DeepGhosts/lib/python3.12/site-packages/pandas/core/reshape/concat.py:445\u001b[0m, in \u001b[0;36m_Concatenator.__init__\u001b[0;34m(self, objs, axis, join, keys, levels, names, ignore_index, verify_integrity, copy, sort)\u001b[0m\n\u001b[1;32m    442\u001b[0m \u001b[38;5;28mself\u001b[39m\u001b[38;5;241m.\u001b[39mverify_integrity \u001b[38;5;241m=\u001b[39m verify_integrity\n\u001b[1;32m    443\u001b[0m \u001b[38;5;28mself\u001b[39m\u001b[38;5;241m.\u001b[39mcopy \u001b[38;5;241m=\u001b[39m copy\n\u001b[0;32m--> 445\u001b[0m objs, keys \u001b[38;5;241m=\u001b[39m \u001b[38;5;28;43mself\u001b[39;49m\u001b[38;5;241;43m.\u001b[39;49m\u001b[43m_clean_keys_and_objs\u001b[49m\u001b[43m(\u001b[49m\u001b[43mobjs\u001b[49m\u001b[43m,\u001b[49m\u001b[43m \u001b[49m\u001b[43mkeys\u001b[49m\u001b[43m)\u001b[49m\n\u001b[1;32m    447\u001b[0m \u001b[38;5;66;03m# figure out what our result ndim is going to be\u001b[39;00m\n\u001b[1;32m    448\u001b[0m ndims \u001b[38;5;241m=\u001b[39m \u001b[38;5;28mself\u001b[39m\u001b[38;5;241m.\u001b[39m_get_ndims(objs)\n",
      "File \u001b[0;32m~/miniforge3/envs/DeepGhosts/lib/python3.12/site-packages/pandas/core/reshape/concat.py:507\u001b[0m, in \u001b[0;36m_Concatenator._clean_keys_and_objs\u001b[0;34m(self, objs, keys)\u001b[0m\n\u001b[1;32m    504\u001b[0m     objs_list \u001b[38;5;241m=\u001b[39m \u001b[38;5;28mlist\u001b[39m(objs)\n\u001b[1;32m    506\u001b[0m \u001b[38;5;28;01mif\u001b[39;00m \u001b[38;5;28mlen\u001b[39m(objs_list) \u001b[38;5;241m==\u001b[39m \u001b[38;5;241m0\u001b[39m:\n\u001b[0;32m--> 507\u001b[0m     \u001b[38;5;28;01mraise\u001b[39;00m \u001b[38;5;167;01mValueError\u001b[39;00m(\u001b[38;5;124m\"\u001b[39m\u001b[38;5;124mNo objects to concatenate\u001b[39m\u001b[38;5;124m\"\u001b[39m)\n\u001b[1;32m    509\u001b[0m \u001b[38;5;28;01mif\u001b[39;00m keys \u001b[38;5;129;01mis\u001b[39;00m \u001b[38;5;28;01mNone\u001b[39;00m:\n\u001b[1;32m    510\u001b[0m     objs_list \u001b[38;5;241m=\u001b[39m \u001b[38;5;28mlist\u001b[39m(com\u001b[38;5;241m.\u001b[39mnot_none(\u001b[38;5;241m*\u001b[39mobjs_list))\n",
      "\u001b[0;31mValueError\u001b[0m: No objects to concatenate"
     ]
    }
   ],
   "source": [
    "# Maintenant, on génère l'arbre d'espèces\n",
    "from IPython.display import clear_output\n",
    "import subprocess\n",
    "from pathlib import Path\n",
    "OUTPUT_FOLDER = Path(\"/home/enzo/Documents/git/WP1/DeepGhosts/Output_test\") \n",
    "sp_tree_index = 1\n",
    "tree_output_folder = str(OUTPUT_FOLDER / f\"species_tree_{sp_tree_index}\")\n",
    "command = f\"python3 /home/enzo/Documents/git/Zombi_ale_friendly/Zombi.py T /home/enzo/Documents/git/WP1/DeepGhosts/bin/zombi_configs/SpeciesTreeParameters_2.tsv {tree_output_folder}\"\n",
    "subprocess.run(command, shell=True)\n",
    "command = f\"python3 /home/enzo/Documents/git/Zombi_ale_friendly/Zombi.py G /home/enzo/Documents/git/WP1/DeepGhosts/bin/zombi_configs/GenomeParameters_2.tsv {tree_output_folder}\"\n",
    "subprocess.run(command, shell=True)\n",
    "#clear_output()\n",
    "import pandas as pd\n",
    "from glob import glob\n",
    "import os\n",
    "species_tree_index = 1\n",
    "# open every tsv file of the form *_branchevents.tsv in the folder, and concatenate them into a single dataframe with a new columns containing the * part of the filename.\n",
    "folder_path = f\"/home/enzo/Documents/git/WP1/DeepGhosts/Output_test/species_tree_{species_tree_index}/G/Gene_families/\"\n",
    "all_files = glob(os.path.join(folder_path, \"*_events.tsv\"))\n",
    "df_from_each_file = (pd.read_csv(f, sep=\"\\t\").assign(filename=os.path.basename(f).split(\"_\")[0]) for f in all_files)\n",
    "events_df_1 = pd.concat(df_from_each_file, ignore_index=True)\n",
    "events_df_1[events_df_1[\"EVENT\"]==\"T\"].sort_values(by=\"TIME\")"
   ]
  },
  {
   "cell_type": "code",
   "execution_count": null,
   "metadata": {},
   "outputs": [
    {
     "data": {
      "application/vnd.microsoft.datawrangler.viewer.v0+json": {
       "columns": [
        {
         "name": "index",
         "rawType": "int64",
         "type": "integer"
        },
        {
         "name": "TIME",
         "rawType": "bool",
         "type": "boolean"
        },
        {
         "name": "EVENT",
         "rawType": "bool",
         "type": "boolean"
        },
        {
         "name": "NODES",
         "rawType": "bool",
         "type": "boolean"
        },
        {
         "name": "filename",
         "rawType": "bool",
         "type": "boolean"
        }
       ],
       "conversionMethod": "pd.DataFrame",
       "ref": "9f4eb4e2-1efc-42a6-8cef-a2a0649bbec4",
       "rows": [
        [
         "289",
         "True",
         "True",
         "True",
         "True"
        ],
        [
         "753",
         "True",
         "True",
         "True",
         "True"
        ],
        [
         "175",
         "True",
         "True",
         "True",
         "True"
        ],
        [
         "81",
         "True",
         "True",
         "True",
         "True"
        ],
        [
         "83",
         "True",
         "True",
         "True",
         "True"
        ],
        [
         "755",
         "True",
         "True",
         "True",
         "True"
        ],
        [
         "757",
         "True",
         "True",
         "True",
         "True"
        ],
        [
         "860",
         "True",
         "True",
         "True",
         "True"
        ],
        [
         "178",
         "True",
         "True",
         "True",
         "True"
        ],
        [
         "498",
         "True",
         "True",
         "True",
         "True"
        ],
        [
         "660",
         "True",
         "True",
         "True",
         "True"
        ],
        [
         "388",
         "True",
         "True",
         "True",
         "True"
        ],
        [
         "862",
         "True",
         "True",
         "True",
         "True"
        ],
        [
         "572",
         "True",
         "True",
         "True",
         "True"
        ],
        [
         "390",
         "True",
         "True",
         "True",
         "True"
        ],
        [
         "392",
         "True",
         "True",
         "True",
         "True"
        ],
        [
         "761",
         "True",
         "True",
         "True",
         "True"
        ],
        [
         "664",
         "True",
         "True",
         "True",
         "True"
        ],
        [
         "294",
         "True",
         "True",
         "True",
         "True"
        ],
        [
         "88",
         "True",
         "True",
         "True",
         "True"
        ],
        [
         "296",
         "True",
         "True",
         "True",
         "True"
        ],
        [
         "576",
         "True",
         "True",
         "False",
         "True"
        ],
        [
         "6",
         "True",
         "True",
         "True",
         "True"
        ],
        [
         "182",
         "True",
         "True",
         "True",
         "True"
        ],
        [
         "90",
         "True",
         "True",
         "True",
         "True"
        ],
        [
         "866",
         "True",
         "True",
         "True",
         "True"
        ],
        [
         "8",
         "True",
         "True",
         "True",
         "True"
        ],
        [
         "764",
         "True",
         "True",
         "False",
         "True"
        ],
        [
         "92",
         "True",
         "True",
         "True",
         "True"
        ],
        [
         "868",
         "True",
         "True",
         "False",
         "True"
        ],
        [
         "502",
         "True",
         "True",
         "True",
         "True"
        ],
        [
         "396",
         "True",
         "True",
         "True",
         "True"
        ],
        [
         "766",
         "True",
         "True",
         "True",
         "True"
        ],
        [
         "298",
         "True",
         "True",
         "True",
         "True"
        ],
        [
         "768",
         "True",
         "True",
         "True",
         "True"
        ],
        [
         "94",
         "True",
         "True",
         "True",
         "True"
        ],
        [
         "504",
         "True",
         "True",
         "True",
         "True"
        ],
        [
         "666",
         "True",
         "True",
         "True",
         "True"
        ],
        [
         "184",
         "True",
         "True",
         "True",
         "True"
        ],
        [
         "398",
         "True",
         "True",
         "True",
         "True"
        ],
        [
         "300",
         "True",
         "True",
         "True",
         "True"
        ],
        [
         "506",
         "True",
         "True",
         "True",
         "True"
        ],
        [
         "96",
         "True",
         "True",
         "False",
         "True"
        ],
        [
         "668",
         "True",
         "True",
         "True",
         "True"
        ],
        [
         "870",
         "True",
         "True",
         "False",
         "True"
        ],
        [
         "578",
         "True",
         "True",
         "False",
         "True"
        ],
        [
         "508",
         "True",
         "True",
         "True",
         "True"
        ],
        [
         "302",
         "True",
         "True",
         "False",
         "True"
        ],
        [
         "670",
         "True",
         "True",
         "False",
         "True"
        ],
        [
         "580",
         "True",
         "True",
         "True",
         "True"
        ]
       ],
       "shape": {
        "columns": 4,
        "rows": 285
       }
      },
      "text/html": [
       "<div>\n",
       "<style scoped>\n",
       "    .dataframe tbody tr th:only-of-type {\n",
       "        vertical-align: middle;\n",
       "    }\n",
       "\n",
       "    .dataframe tbody tr th {\n",
       "        vertical-align: top;\n",
       "    }\n",
       "\n",
       "    .dataframe thead th {\n",
       "        text-align: right;\n",
       "    }\n",
       "</style>\n",
       "<table border=\"1\" class=\"dataframe\">\n",
       "  <thead>\n",
       "    <tr style=\"text-align: right;\">\n",
       "      <th></th>\n",
       "      <th>TIME</th>\n",
       "      <th>EVENT</th>\n",
       "      <th>NODES</th>\n",
       "      <th>filename</th>\n",
       "    </tr>\n",
       "  </thead>\n",
       "  <tbody>\n",
       "    <tr>\n",
       "      <th>289</th>\n",
       "      <td>True</td>\n",
       "      <td>True</td>\n",
       "      <td>True</td>\n",
       "      <td>True</td>\n",
       "    </tr>\n",
       "    <tr>\n",
       "      <th>753</th>\n",
       "      <td>True</td>\n",
       "      <td>True</td>\n",
       "      <td>True</td>\n",
       "      <td>True</td>\n",
       "    </tr>\n",
       "    <tr>\n",
       "      <th>175</th>\n",
       "      <td>True</td>\n",
       "      <td>True</td>\n",
       "      <td>True</td>\n",
       "      <td>True</td>\n",
       "    </tr>\n",
       "    <tr>\n",
       "      <th>81</th>\n",
       "      <td>True</td>\n",
       "      <td>True</td>\n",
       "      <td>True</td>\n",
       "      <td>True</td>\n",
       "    </tr>\n",
       "    <tr>\n",
       "      <th>83</th>\n",
       "      <td>True</td>\n",
       "      <td>True</td>\n",
       "      <td>True</td>\n",
       "      <td>True</td>\n",
       "    </tr>\n",
       "    <tr>\n",
       "      <th>...</th>\n",
       "      <td>...</td>\n",
       "      <td>...</td>\n",
       "      <td>...</td>\n",
       "      <td>...</td>\n",
       "    </tr>\n",
       "    <tr>\n",
       "      <th>835</th>\n",
       "      <td>True</td>\n",
       "      <td>True</td>\n",
       "      <td>True</td>\n",
       "      <td>True</td>\n",
       "    </tr>\n",
       "    <tr>\n",
       "      <th>265</th>\n",
       "      <td>True</td>\n",
       "      <td>True</td>\n",
       "      <td>True</td>\n",
       "      <td>True</td>\n",
       "    </tr>\n",
       "    <tr>\n",
       "      <th>363</th>\n",
       "      <td>True</td>\n",
       "      <td>True</td>\n",
       "      <td>True</td>\n",
       "      <td>True</td>\n",
       "    </tr>\n",
       "    <tr>\n",
       "      <th>949</th>\n",
       "      <td>True</td>\n",
       "      <td>True</td>\n",
       "      <td>True</td>\n",
       "      <td>True</td>\n",
       "    </tr>\n",
       "    <tr>\n",
       "      <th>151</th>\n",
       "      <td>True</td>\n",
       "      <td>True</td>\n",
       "      <td>True</td>\n",
       "      <td>True</td>\n",
       "    </tr>\n",
       "  </tbody>\n",
       "</table>\n",
       "<p>285 rows × 4 columns</p>\n",
       "</div>"
      ],
      "text/plain": [
       "     TIME  EVENT  NODES  filename\n",
       "289  True   True   True      True\n",
       "753  True   True   True      True\n",
       "175  True   True   True      True\n",
       "81   True   True   True      True\n",
       "83   True   True   True      True\n",
       "..    ...    ...    ...       ...\n",
       "835  True   True   True      True\n",
       "265  True   True   True      True\n",
       "363  True   True   True      True\n",
       "949  True   True   True      True\n",
       "151  True   True   True      True\n",
       "\n",
       "[285 rows x 4 columns]"
      ]
     },
     "execution_count": 352,
     "metadata": {},
     "output_type": "execute_result"
    }
   ],
   "source": [
    "events_df_1[events_df_1[\"EVENT\"]==\"T\"].sort_values(by=\"TIME\") == events_df_0[events_df_0[\"EVENT\"]==\"T\"].sort_values(by=\"TIME\")"
   ]
  },
  {
   "cell_type": "code",
   "execution_count": 316,
   "metadata": {},
   "outputs": [],
   "source": [
    "import numpy as np\n",
    "l1 = [('100002', np.str_('100001')), ('100001', np.str_('100002')), ('100001', np.str_('100002')), ('100001', np.str_('100002')), ('100002', np.str_('100001')), ('100001', np.str_('100002')), ('100001', np.str_('100002')), ('100004', np.str_('100003')), ('100004', np.str_('100003')), ('100001', np.str_('100004')), ('100001', np.str_('100004')), ('100001', np.str_('100004')), ('100001', np.str_('100003')), ('100003', np.str_('100004')), ('100001', np.str_('100003')), ('100003', np.str_('100004')), ('100004', np.str_('100003')), ('100003', np.str_('100007')), ('100003', np.str_('100007')), ('100006', np.str_('100005')), ('100003', np.str_('100007')), ('100006', np.str_('100005')), ('100003', np.str_('100007')), ('100006', np.str_('100005')), ('100008', np.str_('100007')), ('100007', np.str_('100005')), ('100007', np.str_('100003')), ('100006', np.str_('100005')), ('100003', np.str_('100005')), ('100008', np.str_('100007')), ('100006', np.str_('100005')), ('100007', np.str_('100006')), ('100008', np.str_('100007')), ('100007', np.str_('100008')), ('100008', np.str_('100007')), ('100007', np.str_('100008')), ('100005', np.str_('100008')), ('100005', np.str_('100006')), ('100005', np.str_('100003')), ('100008', np.str_('100007')), ('100005', np.str_('100006')), ('100005', np.str_('100006')), ('100003', np.str_('100007')), ('100007', np.str_('100008')), ('100006', np.str_('100005')), ('100005', np.str_('100003')), ('100005', np.str_('100008')), ('100006', np.str_('100005')), ('100003', np.str_('100007')), ('100008', np.str_('100007')), ('100008', np.str_('100007')), ('100006', np.str_('100005')), ('100006', np.str_('100005')), ('100007', np.str_('100008')), ('100005', np.str_('100006')), ('100006', np.str_('100005')), ('100005', np.str_('100006')), ('100006', np.str_('100005')), ('100003', np.str_('100006')), ('100008', np.str_('100007')), ('100005', np.str_('100008')), ('100006', np.str_('100008')), ('100006', np.str_('100005')), ('100005', np.str_('100006')), ('100007', np.str_('100008')), ('100006', np.str_('100005')), ('100006', np.str_('100005')), ('100007', np.str_('100008')), ('100005', np.str_('100007')), ('100005', np.str_('100003')), ('100008', np.str_('100003')), ('100007', np.str_('100008')), ('100008', np.str_('100007')), ('100005', np.str_('100006')), ('100007', np.str_('100003')), ('100003', np.str_('100006')), ('100006', np.str_('100005')), ('100006', np.str_('100005')), ('100003', np.str_('100007')), ('100007', np.str_('100003')), ('100005', np.str_('100007')), ('100003', np.str_('100008')), ('100003', np.str_('100007')), ('100008', np.str_('100007')), ('100003', np.str_('100008')), ('100003', np.str_('100008')), ('100003', np.str_('100007')), ('100008', np.str_('100007')), ('100007', np.str_('100003')), ('100003', np.str_('100005')), ('100009', np.str_('100007')), ('100003', np.str_('100010')), ('100007', np.str_('100009')), ('100007', np.str_('100009')), ('100006', np.str_('100003')), ('100003', np.str_('100010')), ('100007', np.str_('100005')), ('100006', np.str_('100005')), ('100005', np.str_('100007')), ('100010', np.str_('100005')), ('100007', np.str_('100009')), ('100010', np.str_('100009')), ('100006', np.str_('100007')), ('100009', np.str_('100003')), ('100003', np.str_('100007')), ('100005', np.str_('100010')), ('100006', np.str_('100011')), ('100010', np.str_('100009')), ('100003', np.str_('100009')), ('100010', np.str_('100006')), ('100007', np.str_('100010')), ('100011', np.str_('100003')), ('100010', np.str_('100009')), ('100003', np.str_('100006')), ('100007', np.str_('100012')), ('100012', np.str_('100011')), ('100010', np.str_('100009')), ('100003', np.str_('100006')), ('100003', np.str_('100009')), ('100012', np.str_('100011')), ('100003', np.str_('100010')), ('100009', np.str_('100007')), ('100013', np.str_('100009')), ('100014', np.str_('100007')), ('100012', np.str_('100013')), ('100007', np.str_('100012')), ('100003', np.str_('100006')), ('100009', np.str_('100014')), ('100006', np.str_('100012')), ('100011', np.str_('100006')), ('100006', np.str_('100011')), ('100013', np.str_('100006')), ('100009', np.str_('100011')), ('100007', np.str_('100003')), ('100011', np.str_('100012')), ('100003', np.str_('100013')), ('100011', np.str_('100012')), ('100011', np.str_('100012')), ('100011', np.str_('100012')), ('100007', np.str_('100009')), ('100013', np.str_('100009')), ('100003', np.str_('100006')), ('100007', np.str_('100011')), ('100014', np.str_('100003')), ('100014', np.str_('100007')), ('100012', np.str_('100011')), ('100012', np.str_('100011')), ('100009', np.str_('100007')), ('100012', np.str_('100011')), ('100013', np.str_('100009')), ('100012', np.str_('100011')), ('100013', np.str_('100009')), ('100006', np.str_('100012')), ('100013', np.str_('100009')), ('100007', np.str_('100006')), ('100009', np.str_('100014')), ('100013', np.str_('100007')), ('100009', np.str_('100007')), ('100014', np.str_('100009')), ('100012', np.str_('100011')), ('100007', np.str_('100006')), ('100014', np.str_('100013')), ('100014', np.str_('100013')), ('100007', np.str_('100014')), ('100006', np.str_('100009')), ('100011', np.str_('100007')), ('100013', np.str_('100014')), ('100007', np.str_('100013')), ('100011', np.str_('100014')), ('100012', np.str_('100013')), ('100012', np.str_('100006')), ('100007', np.str_('100003')), ('100003', np.str_('100012')), ('100011', np.str_('100012')), ('100007', np.str_('100013')), ('100015', np.str_('100014')), ('100018', np.str_('100011')), ('100015', np.str_('100011')), ('100014', np.str_('100013')), ('100016', np.str_('100012')), ('100013', np.str_('100009')), ('100018', np.str_('100014')), ('100016', np.str_('100012')), ('100014', np.str_('100015')), ('100012', np.str_('100011')), ('100007', np.str_('100013')), ('100013', np.str_('100009')), ('100011', np.str_('100007')), ('100012', np.str_('100020')), ('100007', np.str_('100022')), ('100018', np.str_('100022')), ('100013', np.str_('100019')), ('100013', np.str_('100020')), ('100013', np.str_('100019')), ('100014', np.str_('100017')), ('100017', np.str_('100011')), ('100014', np.str_('100007')), ('100012', np.str_('100014')), ('100017', np.str_('100018')), ('100016', np.str_('100024')), ('100024', np.str_('100019')), ('100026', np.str_('100014')), ('100012', np.str_('100011')), ('100019', np.str_('100020')), ('100017', np.str_('100014')), ('100013', np.str_('100027')), ('100022', np.str_('100025')), ('100011', np.str_('100017')), ('100025', np.str_('100022')), ('100028', np.str_('100016')), ('100020', np.str_('100012')), ('100022', np.str_('100014')), ('100024', np.str_('100020')), ('100024', np.str_('100020')), ('100028', np.str_('100012')), ('100018', np.str_('100022')), ('100013', np.str_('100027')), ('100025', np.str_('100016')), ('100023', np.str_('100018')), ('100025', np.str_('100031')), ('100027', np.str_('100019')), ('100019', np.str_('100020')), ('100019', np.str_('100014')), ('100014', np.str_('100013')), ('100029', np.str_('100012')), ('100031', np.str_('100012')), ('100032', np.str_('100020')), ('100013', np.str_('100025')), ('100028', np.str_('100027')), ('100028', np.str_('100029')), ('100031', np.str_('100029')), ('100013', np.str_('100032')), ('100016', np.str_('100020')), ('100032', np.str_('100019')), ('100014', np.str_('100020')), ('100031', np.str_('100027')), ('100025', np.str_('100032')), ('100023', np.str_('100033')), ('100012', np.str_('100018')), ('100025', np.str_('100020')), ('100032', np.str_('100028')), ('100032', np.str_('100031')), ('100019', np.str_('100014')), ('100025', np.str_('100018')), ('100031', np.str_('100033')), ('100034', np.str_('100027')), ('100016', np.str_('100031')), ('100029', np.str_('100031')), ('100028', np.str_('100018')), ('100028', np.str_('100018')), ('100030', np.str_('100023')), ('100034', np.str_('100023')), ('100034', np.str_('100036')), ('100035', np.str_('100034')), ('100028', np.str_('100019')), ('100029', np.str_('100034')), ('100014', np.str_('100025')), ('100019', np.str_('100029')), ('100031', np.str_('100025')), ('100037', np.str_('100022')), ('100018', np.str_('100016')), ('100032', np.str_('100013')), ('100016', np.str_('100036')), ('100022', np.str_('100020')), ('100025', np.str_('100019')), ('100016', np.str_('100023')), ('100030', np.str_('100013')), ('100037', np.str_('100014')), ('100020', np.str_('100013')), ('100035', np.str_('100019')), ('100029', np.str_('100022')), ('100031', np.str_('100013')), ('100012', np.str_('100032')), ('100029', np.str_('100018')), ('100018', np.str_('100031')), ('100037', np.str_('100038')), ('100035', np.str_('100023')), ('100012', np.str_('100035')), ('100036', np.str_('100035')), ('100028', np.str_('100018')), ('100034', np.str_('100019')), ('100035', np.str_('100020')), ('100034', np.str_('100023')), ('100028', np.str_('100031')), ('100014', np.str_('100018'))]\n"
   ]
  },
  {
   "cell_type": "code",
   "execution_count": 317,
   "metadata": {},
   "outputs": [],
   "source": [
    "l2 = [('100002', np.str_('100001')), ('100001', np.str_('100002')), ('100001', np.str_('100002')), ('100001', np.str_('100002')), ('100002', np.str_('100001')), ('100001', np.str_('100002')), ('100001', np.str_('100002')), ('100004', np.str_('100003')), ('100004', np.str_('100003')), ('100001', np.str_('100004')), ('100001', np.str_('100004')), ('100001', np.str_('100004')), ('100001', np.str_('100003')), ('100003', np.str_('100004')), ('100001', np.str_('100003')), ('100003', np.str_('100004')), ('100004', np.str_('100003')), ('100003', np.str_('100007')), ('100003', np.str_('100007')), ('100006', np.str_('100005')), ('100003', np.str_('100007')), ('100006', np.str_('100005')), ('100003', np.str_('100007')), ('100006', np.str_('100005')), ('100008', np.str_('100007')), ('100007', np.str_('100005')), ('100007', np.str_('100003')), ('100006', np.str_('100005')), ('100003', np.str_('100005')), ('100008', np.str_('100007')), ('100006', np.str_('100005')), ('100007', np.str_('100006')), ('100008', np.str_('100007')), ('100007', np.str_('100008')), ('100008', np.str_('100007')), ('100007', np.str_('100008')), ('100005', np.str_('100008')), ('100005', np.str_('100006')), ('100005', np.str_('100003')), ('100008', np.str_('100007')), ('100005', np.str_('100006')), ('100005', np.str_('100006')), ('100003', np.str_('100007')), ('100007', np.str_('100008')), ('100006', np.str_('100005')), ('100005', np.str_('100003')), ('100005', np.str_('100008')), ('100006', np.str_('100005')), ('100003', np.str_('100007')), ('100008', np.str_('100007')), ('100008', np.str_('100007')), ('100006', np.str_('100005')), ('100006', np.str_('100005')), ('100007', np.str_('100008')), ('100005', np.str_('100006')), ('100006', np.str_('100005')), ('100005', np.str_('100006')), ('100006', np.str_('100005')), ('100003', np.str_('100006')), ('100008', np.str_('100007')), ('100005', np.str_('100008')), ('100006', np.str_('100008')), ('100006', np.str_('100005')), ('100005', np.str_('100006')), ('100007', np.str_('100008')), ('100006', np.str_('100005')), ('100006', np.str_('100005')), ('100007', np.str_('100008')), ('100005', np.str_('100007')), ('100005', np.str_('100003')), ('100008', np.str_('100003')), ('100007', np.str_('100008')), ('100008', np.str_('100007')), ('100005', np.str_('100006')), ('100007', np.str_('100003')), ('100003', np.str_('100006')), ('100006', np.str_('100005')), ('100006', np.str_('100005')), ('100003', np.str_('100007')), ('100007', np.str_('100003')), ('100005', np.str_('100007')), ('100003', np.str_('100008')), ('100003', np.str_('100007')), ('100008', np.str_('100007')), ('100003', np.str_('100008')), ('100003', np.str_('100008')), ('100003', np.str_('100007')), ('100008', np.str_('100007')), ('100007', np.str_('100003')), ('100003', np.str_('100005')), ('100009', np.str_('100007')), ('100003', np.str_('100010')), ('100007', np.str_('100009')), ('100007', np.str_('100009')), ('100006', np.str_('100003')), ('100003', np.str_('100010')), ('100007', np.str_('100005')), ('100006', np.str_('100005')), ('100005', np.str_('100007')), ('100010', np.str_('100005')), ('100007', np.str_('100009')), ('100010', np.str_('100009')), ('100006', np.str_('100007')), ('100009', np.str_('100003')), ('100003', np.str_('100007')), ('100005', np.str_('100010')), ('100006', np.str_('100011')), ('100010', np.str_('100009')), ('100003', np.str_('100009')), ('100010', np.str_('100006')), ('100007', np.str_('100010')), ('100011', np.str_('100003')), ('100010', np.str_('100009')), ('100003', np.str_('100006')), ('100007', np.str_('100012')), ('100012', np.str_('100011')), ('100010', np.str_('100009')), ('100003', np.str_('100006')), ('100003', np.str_('100009')), ('100012', np.str_('100011')), ('100003', np.str_('100010')), ('100009', np.str_('100007')), ('100013', np.str_('100009')), ('100014', np.str_('100007')), ('100012', np.str_('100013')), ('100007', np.str_('100012')), ('100003', np.str_('100006')), ('100009', np.str_('100014')), ('100006', np.str_('100012')), ('100011', np.str_('100006')), ('100006', np.str_('100011')), ('100013', np.str_('100006')), ('100009', np.str_('100011')), ('100007', np.str_('100003')), ('100011', np.str_('100012')), ('100003', np.str_('100013')), ('100011', np.str_('100012')), ('100011', np.str_('100012')), ('100011', np.str_('100012')), ('100007', np.str_('100009')), ('100013', np.str_('100009')), ('100003', np.str_('100006')), ('100007', np.str_('100011')), ('100014', np.str_('100003')), ('100014', np.str_('100007')), ('100012', np.str_('100011')), ('100012', np.str_('100011')), ('100009', np.str_('100007')), ('100012', np.str_('100011')), ('100013', np.str_('100009')), ('100012', np.str_('100011')), ('100013', np.str_('100009')), ('100006', np.str_('100012')), ('100013', np.str_('100009')), ('100007', np.str_('100006')), ('100009', np.str_('100014')), ('100013', np.str_('100007')), ('100009', np.str_('100007')), ('100014', np.str_('100009')), ('100012', np.str_('100011')), ('100007', np.str_('100006')), ('100014', np.str_('100013')), ('100014', np.str_('100013')), ('100007', np.str_('100014')), ('100006', np.str_('100009')), ('100011', np.str_('100007')), ('100013', np.str_('100014')), ('100007', np.str_('100013')), ('100011', np.str_('100014')), ('100012', np.str_('100013')), ('100012', np.str_('100006')), ('100007', np.str_('100003')), ('100003', np.str_('100012')), ('100011', np.str_('100012')), ('100007', np.str_('100013')), ('100015', np.str_('100014')), ('100018', np.str_('100011')), ('100015', np.str_('100011')), ('100014', np.str_('100013')), ('100016', np.str_('100012')), ('100013', np.str_('100009')), ('100018', np.str_('100014')), ('100016', np.str_('100012')), ('100014', np.str_('100015')), ('100012', np.str_('100011')), ('100007', np.str_('100013')), ('100013', np.str_('100009')), ('100011', np.str_('100007')), ('100012', np.str_('100020')), ('100007', np.str_('100022')), ('100018', np.str_('100022')), ('100013', np.str_('100019')), ('100013', np.str_('100020')), ('100013', np.str_('100019')), ('100014', np.str_('100017')), ('100017', np.str_('100011')), ('100014', np.str_('100007')), ('100012', np.str_('100014')), ('100017', np.str_('100018')), ('100016', np.str_('100024')), ('100024', np.str_('100019')), ('100026', np.str_('100014')), ('100012', np.str_('100011')), ('100019', np.str_('100020')), ('100017', np.str_('100014')), ('100013', np.str_('100027')), ('100022', np.str_('100025')), ('100011', np.str_('100017')), ('100025', np.str_('100022')), ('100028', np.str_('100016')), ('100020', np.str_('100012')), ('100022', np.str_('100014')), ('100024', np.str_('100020')), ('100024', np.str_('100020')), ('100028', np.str_('100012')), ('100018', np.str_('100022')), ('100013', np.str_('100027')), ('100025', np.str_('100016')), ('100023', np.str_('100018')), ('100025', np.str_('100031')), ('100027', np.str_('100019')), ('100019', np.str_('100020')), ('100019', np.str_('100014')), ('100014', np.str_('100013')), ('100029', np.str_('100012')), ('100031', np.str_('100012')), ('100032', np.str_('100020')), ('100013', np.str_('100025')), ('100028', np.str_('100027')), ('100028', np.str_('100029')), ('100031', np.str_('100029')), ('100013', np.str_('100032')), ('100016', np.str_('100020')), ('100032', np.str_('100019')), ('100014', np.str_('100020')), ('100031', np.str_('100027')), ('100025', np.str_('100032')), ('100023', np.str_('100033')), ('100012', np.str_('100018')), ('100025', np.str_('100020')), ('100032', np.str_('100028')), ('100032', np.str_('100031')), ('100019', np.str_('100014')), ('100025', np.str_('100018')), ('100031', np.str_('100033')), ('100034', np.str_('100027')), ('100016', np.str_('100031')), ('100029', np.str_('100031')), ('100028', np.str_('100018')), ('100028', np.str_('100018')), ('100030', np.str_('100023')), ('100034', np.str_('100023')), ('100034', np.str_('100036')), ('100035', np.str_('100034')), ('100028', np.str_('100019')), ('100029', np.str_('100034')), ('100014', np.str_('100025')), ('100019', np.str_('100029')), ('100031', np.str_('100025')), ('100037', np.str_('100022')), ('100018', np.str_('100016')), ('100032', np.str_('100013')), ('100016', np.str_('100036')), ('100022', np.str_('100020')), ('100025', np.str_('100019')), ('100016', np.str_('100023')), ('100030', np.str_('100013')), ('100037', np.str_('100014')), ('100020', np.str_('100013')), ('100035', np.str_('100019')), ('100029', np.str_('100022')), ('100031', np.str_('100013')), ('100012', np.str_('100032')), ('100029', np.str_('100018')), ('100018', np.str_('100031')), ('100037', np.str_('100038')), ('100035', np.str_('100023')), ('100012', np.str_('100035')), ('100036', np.str_('100035')), ('100028', np.str_('100018')), ('100034', np.str_('100019')), ('100035', np.str_('100020')), ('100034', np.str_('100023')), ('100028', np.str_('100031')), ('100014', np.str_('100018'))]\n"
   ]
  },
  {
   "cell_type": "code",
   "execution_count": 318,
   "metadata": {},
   "outputs": [
    {
     "data": {
      "text/plain": [
       "True"
      ]
     },
     "execution_count": 318,
     "metadata": {},
     "output_type": "execute_result"
    }
   ],
   "source": [
    "l1 == l2"
   ]
  },
  {
   "cell_type": "code",
   "execution_count": 297,
   "metadata": {},
   "outputs": [
    {
     "data": {
      "text/plain": [
       "False"
      ]
     },
     "execution_count": 297,
     "metadata": {},
     "output_type": "execute_result"
    }
   ],
   "source": [
    "[x[0] for x in l1] == [x[0] for x in l2]"
   ]
  },
  {
   "cell_type": "code",
   "execution_count": 368,
   "metadata": {},
   "outputs": [
    {
     "data": {
      "application/vnd.microsoft.datawrangler.viewer.v0+json": {
       "columns": [
        {
         "name": "index",
         "rawType": "int64",
         "type": "integer"
        },
        {
         "name": "TIME",
         "rawType": "float64",
         "type": "float"
        },
        {
         "name": "EVENT",
         "rawType": "object",
         "type": "string"
        },
        {
         "name": "NODES",
         "rawType": "object",
         "type": "string"
        },
        {
         "name": "filename",
         "rawType": "object",
         "type": "string"
        }
       ],
       "conversionMethod": "pd.DataFrame",
       "ref": "8fcb337e-cc9b-44ce-97bc-86fb7cbdc20a",
       "rows": [
        [
         "289",
         "1.5355563595301929",
         "T",
         "100002;3;100002;4;100001;5",
         "4"
        ],
        [
         "753",
         "1.5639265553679922",
         "T",
         "100001;2;100001;4;100002;5",
         "7"
        ],
        [
         "175",
         "1.5654000699869188",
         "T",
         "100001;2;100001;4;100002;5",
         "1"
        ],
        [
         "81",
         "1.6032594628119723",
         "T",
         "100001;2;100001;4;100002;5",
         "2"
        ],
        [
         "83",
         "1.6355502518405762",
         "T",
         "100002;5;100002;6;100001;7",
         "2"
        ],
        [
         "755",
         "1.6377471826687473",
         "T",
         "100001;4;100001;6;100002;7",
         "7"
        ],
        [
         "757",
         "1.6598043778178315",
         "T",
         "100001;6;100001;8;100002;9",
         "7"
        ],
        [
         "860",
         "1.7043183333118086",
         "T",
         "100004;5;100004;6;100003;7",
         "10"
        ],
        [
         "178",
         "1.7056929289078804",
         "T",
         "100004;7;100004;8;100003;9",
         "1"
        ],
        [
         "498",
         "1.7060542734286062",
         "T",
         "100001;2;100001;6;100004;7",
         "5"
        ],
        [
         "660",
         "1.7098616067381214",
         "T",
         "100001;2;100001;6;100004;7",
         "6"
        ],
        [
         "388",
         "1.7168781872787957",
         "T",
         "100001;2;100001;6;100004;7",
         "3"
        ],
        [
         "862",
         "1.7264651378717213",
         "T",
         "100001;2;100001;8;100003;9",
         "10"
        ],
        [
         "572",
         "1.7572561928674613",
         "T",
         "100003;4;100003;6;100004;7",
         "8"
        ],
        [
         "390",
         "1.7682377844626662",
         "T",
         "100001;6;100001;8;100003;9",
         "3"
        ],
        [
         "392",
         "1.7912267821619556",
         "T",
         "100003;9;100003;10;100004;11",
         "3"
        ],
        [
         "761",
         "1.8008119604006734",
         "T",
         "100004;11;100004;14;100003;15",
         "7"
        ],
        [
         "664",
         "1.8135283048279045",
         "T",
         "100003;4;100003;12;100007;13",
         "6"
        ],
        [
         "294",
         "1.8175727392552592",
         "T",
         "100003;6;100003;12;100007;13",
         "4"
        ],
        [
         "88",
         "1.831506432751556",
         "T",
         "100006;11;100006;14;100005;15",
         "2"
        ],
        [
         "296",
         "1.8418986020471533",
         "T",
         "100003;12;100003;14;100007;15",
         "4"
        ],
        [
         "576",
         "1.8514269266278136",
         "T",
         "100006;9;100006;12;100007;13",
         "8"
        ],
        [
         "6",
         "1.8519164157393484",
         "T",
         "100003;4;100003;10;100007;11",
         "9"
        ],
        [
         "182",
         "1.864556253060465",
         "T",
         "100006;11;100006;14;100005;15",
         "1"
        ],
        [
         "90",
         "1.8881841627358509",
         "T",
         "100008;13;100008;16;100007;17",
         "2"
        ],
        [
         "866",
         "1.9226197959436824",
         "T",
         "100007;12;100007;14;100005;15",
         "10"
        ],
        [
         "8",
         "1.9265313920839424",
         "T",
         "100007;11;100007;12;100003;13",
         "9"
        ],
        [
         "764",
         "1.937408983180388",
         "T",
         "100006;13;100006;18;100007;19",
         "7"
        ],
        [
         "92",
         "1.9444721359725496",
         "T",
         "100003;8;100003;18;100005;19",
         "2"
        ],
        [
         "868",
         "1.946676184416973",
         "T",
         "100008;13;100008;16;100006;17",
         "10"
        ],
        [
         "502",
         "1.9487729049653115",
         "T",
         "100006;9;100006;12;100005;13",
         "5"
        ],
        [
         "396",
         "1.954951846740761",
         "T",
         "100007;14;100007;16;100006;17",
         "3"
        ],
        [
         "766",
         "1.9611817241866476",
         "T",
         "100008;17;100008;20;100007;21",
         "7"
        ],
        [
         "298",
         "1.965668048617736",
         "T",
         "100007;15;100007;16;100008;17",
         "4"
        ],
        [
         "768",
         "1.9695300189981968",
         "T",
         "100008;20;100008;22;100007;23",
         "7"
        ],
        [
         "94",
         "1.996807208625439",
         "T",
         "100007;17;100007;20;100008;21",
         "2"
        ],
        [
         "504",
         "1.9981001183646616",
         "T",
         "100005;13;100005;14;100008;15",
         "5"
        ],
        [
         "666",
         "1.9987101309269737",
         "T",
         "100005;8;100005;14;100006;15",
         "6"
        ],
        [
         "184",
         "1.9988124881316551",
         "T",
         "100005;15;100005;16;100003;17",
         "1"
        ],
        [
         "398",
         "2.0010617660831818",
         "T",
         "100008;15;100008;18;100007;19",
         "3"
        ],
        [
         "300",
         "2.002678998703382",
         "T",
         "100005;8;100005;18;100006;19",
         "4"
        ],
        [
         "506",
         "2.003741788205124",
         "T",
         "100005;14;100005;16;100006;17",
         "5"
        ],
        [
         "96",
         "2.00746166935679",
         "T",
         "100003;18;100003;22;100006;23",
         "2"
        ],
        [
         "668",
         "2.0104047099440936",
         "T",
         "100007;13;100007;16;100008;17",
         "6"
        ],
        [
         "870",
         "2.01268153374521",
         "T",
         "100006;17;100006;18;100005;19",
         "10"
        ],
        [
         "578",
         "2.0134059463317766",
         "T",
         "100005;8;100005;14;100003;15",
         "8"
        ],
        [
         "508",
         "2.0171648378350957",
         "T",
         "100005;16;100005;18;100008;19",
         "5"
        ],
        [
         "302",
         "2.0179976436047364",
         "T",
         "100006;19;100006;20;100007;21",
         "4"
        ],
        [
         "670",
         "2.025663437666217",
         "T",
         "100003;12;100003;18;100006;19",
         "6"
        ],
        [
         "580",
         "2.028388218219168",
         "T",
         "100008;11;100008;16;100007;17",
         "8"
        ]
       ],
       "shape": {
        "columns": 4,
        "rows": 285
       }
      },
      "text/html": [
       "<div>\n",
       "<style scoped>\n",
       "    .dataframe tbody tr th:only-of-type {\n",
       "        vertical-align: middle;\n",
       "    }\n",
       "\n",
       "    .dataframe tbody tr th {\n",
       "        vertical-align: top;\n",
       "    }\n",
       "\n",
       "    .dataframe thead th {\n",
       "        text-align: right;\n",
       "    }\n",
       "</style>\n",
       "<table border=\"1\" class=\"dataframe\">\n",
       "  <thead>\n",
       "    <tr style=\"text-align: right;\">\n",
       "      <th></th>\n",
       "      <th>TIME</th>\n",
       "      <th>EVENT</th>\n",
       "      <th>NODES</th>\n",
       "      <th>filename</th>\n",
       "    </tr>\n",
       "  </thead>\n",
       "  <tbody>\n",
       "    <tr>\n",
       "      <th>289</th>\n",
       "      <td>1.535556</td>\n",
       "      <td>T</td>\n",
       "      <td>100002;3;100002;4;100001;5</td>\n",
       "      <td>4</td>\n",
       "    </tr>\n",
       "    <tr>\n",
       "      <th>753</th>\n",
       "      <td>1.563927</td>\n",
       "      <td>T</td>\n",
       "      <td>100001;2;100001;4;100002;5</td>\n",
       "      <td>7</td>\n",
       "    </tr>\n",
       "    <tr>\n",
       "      <th>175</th>\n",
       "      <td>1.565400</td>\n",
       "      <td>T</td>\n",
       "      <td>100001;2;100001;4;100002;5</td>\n",
       "      <td>1</td>\n",
       "    </tr>\n",
       "    <tr>\n",
       "      <th>81</th>\n",
       "      <td>1.603259</td>\n",
       "      <td>T</td>\n",
       "      <td>100001;2;100001;4;100002;5</td>\n",
       "      <td>2</td>\n",
       "    </tr>\n",
       "    <tr>\n",
       "      <th>83</th>\n",
       "      <td>1.635550</td>\n",
       "      <td>T</td>\n",
       "      <td>100002;5;100002;6;100001;7</td>\n",
       "      <td>2</td>\n",
       "    </tr>\n",
       "    <tr>\n",
       "      <th>...</th>\n",
       "      <td>...</td>\n",
       "      <td>...</td>\n",
       "      <td>...</td>\n",
       "      <td>...</td>\n",
       "    </tr>\n",
       "    <tr>\n",
       "      <th>835</th>\n",
       "      <td>3.021590</td>\n",
       "      <td>T</td>\n",
       "      <td>100034;87;100034;104;100019;105</td>\n",
       "      <td>7</td>\n",
       "    </tr>\n",
       "    <tr>\n",
       "      <th>265</th>\n",
       "      <td>3.021679</td>\n",
       "      <td>T</td>\n",
       "      <td>100035;111;100035;112;100020;113</td>\n",
       "      <td>1</td>\n",
       "    </tr>\n",
       "    <tr>\n",
       "      <th>363</th>\n",
       "      <td>3.026598</td>\n",
       "      <td>T</td>\n",
       "      <td>100034;91;100034;96;100023;97</td>\n",
       "      <td>4</td>\n",
       "    </tr>\n",
       "    <tr>\n",
       "      <th>949</th>\n",
       "      <td>3.027679</td>\n",
       "      <td>T</td>\n",
       "      <td>100028;75;100028;112;100031;113</td>\n",
       "      <td>10</td>\n",
       "    </tr>\n",
       "    <tr>\n",
       "      <th>151</th>\n",
       "      <td>3.027735</td>\n",
       "      <td>T</td>\n",
       "      <td>100014;71;100014;92;100018;93</td>\n",
       "      <td>2</td>\n",
       "    </tr>\n",
       "  </tbody>\n",
       "</table>\n",
       "<p>285 rows × 4 columns</p>\n",
       "</div>"
      ],
      "text/plain": [
       "         TIME EVENT                             NODES filename\n",
       "289  1.535556     T        100002;3;100002;4;100001;5        4\n",
       "753  1.563927     T        100001;2;100001;4;100002;5        7\n",
       "175  1.565400     T        100001;2;100001;4;100002;5        1\n",
       "81   1.603259     T        100001;2;100001;4;100002;5        2\n",
       "83   1.635550     T        100002;5;100002;6;100001;7        2\n",
       "..        ...   ...                               ...      ...\n",
       "835  3.021590     T   100034;87;100034;104;100019;105        7\n",
       "265  3.021679     T  100035;111;100035;112;100020;113        1\n",
       "363  3.026598     T     100034;91;100034;96;100023;97        4\n",
       "949  3.027679     T   100028;75;100028;112;100031;113       10\n",
       "151  3.027735     T     100014;71;100014;92;100018;93        2\n",
       "\n",
       "[285 rows x 4 columns]"
      ]
     },
     "execution_count": 368,
     "metadata": {},
     "output_type": "execute_result"
    }
   ],
   "source": [
    "# Maintenant, on génère l'arbre d'espèces\n",
    "from IPython.display import clear_output\n",
    "import subprocess\n",
    "from pathlib import Path\n",
    "OUTPUT_FOLDER = Path(\"/home/enzo/Documents/git/WP1/DeepGhosts/Output_test\") \n",
    "sp_tree_index = 0\n",
    "tree_output_folder = str(OUTPUT_FOLDER / f\"species_tree_{sp_tree_index}\")\n",
    "command = f\"python3 /home/enzo/Documents/git/Zombi_ale_friendly/Zombi.py T /home/enzo/Documents/git/WP1/DeepGhosts/bin/zombi_configs/SpeciesTreeParameters_2.tsv {tree_output_folder}\"\n",
    "subprocess.run(command, shell=True)\n",
    "command = f\"python3 /home/enzo/Documents/git/Zombi_ale_friendly/Zombi.py G /home/enzo/Documents/git/WP1/DeepGhosts/bin/zombi_configs/GenomeParameters_2.tsv {tree_output_folder}\"\n",
    "subprocess.run(command, shell=True)\n",
    "clear_output()\n",
    "import pandas as pd\n",
    "from glob import glob\n",
    "import os\n",
    "species_tree_index = 0\n",
    "# open every tsv file of the form *_branchevents.tsv in the folder, and concatenate them into a single dataframe with a new columns containing the * part of the filename.\n",
    "folder_path = f\"/home/enzo/Documents/git/WP1/DeepGhosts/Output_test/species_tree_{species_tree_index}/G/Gene_families/\"\n",
    "all_files = glob(os.path.join(folder_path, \"*_events.tsv\"))\n",
    "df_from_each_file = (pd.read_csv(f, sep=\"\\t\").assign(filename=os.path.basename(f).split(\"_\")[0]) for f in all_files)\n",
    "events_df_0 = pd.concat(df_from_each_file, ignore_index=True)\n",
    "events_df_0[events_df_0[\"EVENT\"]==\"T\"].sort_values(by=\"TIME\")"
   ]
  },
  {
   "cell_type": "code",
   "execution_count": 369,
   "metadata": {},
   "outputs": [
    {
     "data": {
      "application/vnd.microsoft.datawrangler.viewer.v0+json": {
       "columns": [
        {
         "name": "index",
         "rawType": "int64",
         "type": "integer"
        },
        {
         "name": "TIME",
         "rawType": "float64",
         "type": "float"
        },
        {
         "name": "EVENT",
         "rawType": "object",
         "type": "string"
        },
        {
         "name": "NODES",
         "rawType": "object",
         "type": "string"
        },
        {
         "name": "filename",
         "rawType": "object",
         "type": "string"
        }
       ],
       "conversionMethod": "pd.DataFrame",
       "ref": "708e54a6-cc12-4a8a-b7ca-456fcb1399c6",
       "rows": [
        [
         "289",
         "1.5355563595301929",
         "T",
         "100002;3;100002;4;100001;5",
         "4"
        ],
        [
         "753",
         "1.5639265553679922",
         "T",
         "100001;2;100001;4;100002;5",
         "7"
        ],
        [
         "175",
         "1.5654000699869188",
         "T",
         "100001;2;100001;4;100002;5",
         "1"
        ],
        [
         "81",
         "1.6032594628119723",
         "T",
         "100001;2;100001;4;100002;5",
         "2"
        ],
        [
         "83",
         "1.6355502518405762",
         "T",
         "100002;5;100002;6;100001;7",
         "2"
        ],
        [
         "755",
         "1.6377471826687473",
         "T",
         "100001;4;100001;6;100002;7",
         "7"
        ],
        [
         "757",
         "1.6598043778178315",
         "T",
         "100001;6;100001;8;100002;9",
         "7"
        ],
        [
         "860",
         "1.7043183333118086",
         "T",
         "100004;5;100004;6;100003;7",
         "10"
        ],
        [
         "178",
         "1.7056929289078804",
         "T",
         "100004;7;100004;8;100003;9",
         "1"
        ],
        [
         "498",
         "1.7060542734286062",
         "T",
         "100001;2;100001;6;100004;7",
         "5"
        ],
        [
         "660",
         "1.7098616067381214",
         "T",
         "100001;2;100001;6;100004;7",
         "6"
        ],
        [
         "388",
         "1.7168781872787957",
         "T",
         "100001;2;100001;6;100004;7",
         "3"
        ],
        [
         "862",
         "1.7264651378717213",
         "T",
         "100001;2;100001;8;100003;9",
         "10"
        ],
        [
         "572",
         "1.7572561928674613",
         "T",
         "100003;4;100003;6;100004;7",
         "8"
        ],
        [
         "390",
         "1.7682377844626662",
         "T",
         "100001;6;100001;8;100003;9",
         "3"
        ],
        [
         "392",
         "1.7912267821619556",
         "T",
         "100003;9;100003;10;100004;11",
         "3"
        ],
        [
         "761",
         "1.8008119604006734",
         "T",
         "100004;11;100004;14;100003;15",
         "7"
        ],
        [
         "664",
         "1.8135283048279045",
         "T",
         "100003;4;100003;12;100007;13",
         "6"
        ],
        [
         "294",
         "1.8175727392552592",
         "T",
         "100003;6;100003;12;100007;13",
         "4"
        ],
        [
         "88",
         "1.831506432751556",
         "T",
         "100006;11;100006;14;100005;15",
         "2"
        ],
        [
         "296",
         "1.8418986020471533",
         "T",
         "100003;12;100003;14;100007;15",
         "4"
        ],
        [
         "576",
         "1.8514269266278136",
         "T",
         "100006;9;100006;12;100007;13",
         "8"
        ],
        [
         "6",
         "1.8519164157393484",
         "T",
         "100003;4;100003;10;100007;11",
         "9"
        ],
        [
         "182",
         "1.864556253060465",
         "T",
         "100006;11;100006;14;100005;15",
         "1"
        ],
        [
         "90",
         "1.8881841627358509",
         "T",
         "100008;13;100008;16;100007;17",
         "2"
        ],
        [
         "866",
         "1.9226197959436824",
         "T",
         "100007;12;100007;14;100005;15",
         "10"
        ],
        [
         "8",
         "1.9265313920839424",
         "T",
         "100007;11;100007;12;100003;13",
         "9"
        ],
        [
         "764",
         "1.937408983180388",
         "T",
         "100006;13;100006;18;100007;19",
         "7"
        ],
        [
         "92",
         "1.9444721359725496",
         "T",
         "100003;8;100003;18;100005;19",
         "2"
        ],
        [
         "868",
         "1.946676184416973",
         "T",
         "100008;13;100008;16;100006;17",
         "10"
        ],
        [
         "502",
         "1.9487729049653115",
         "T",
         "100006;9;100006;12;100005;13",
         "5"
        ],
        [
         "396",
         "1.954951846740761",
         "T",
         "100007;14;100007;16;100006;17",
         "3"
        ],
        [
         "766",
         "1.9611817241866476",
         "T",
         "100008;17;100008;20;100007;21",
         "7"
        ],
        [
         "298",
         "1.965668048617736",
         "T",
         "100007;15;100007;16;100008;17",
         "4"
        ],
        [
         "768",
         "1.9695300189981968",
         "T",
         "100008;20;100008;22;100007;23",
         "7"
        ],
        [
         "94",
         "1.996807208625439",
         "T",
         "100007;17;100007;20;100008;21",
         "2"
        ],
        [
         "504",
         "1.9981001183646616",
         "T",
         "100005;13;100005;14;100008;15",
         "5"
        ],
        [
         "666",
         "1.9987101309269737",
         "T",
         "100005;8;100005;14;100006;15",
         "6"
        ],
        [
         "184",
         "1.9988124881316551",
         "T",
         "100005;15;100005;16;100003;17",
         "1"
        ],
        [
         "398",
         "2.0010617660831818",
         "T",
         "100008;15;100008;18;100007;19",
         "3"
        ],
        [
         "300",
         "2.002678998703382",
         "T",
         "100005;8;100005;18;100006;19",
         "4"
        ],
        [
         "506",
         "2.003741788205124",
         "T",
         "100005;14;100005;16;100006;17",
         "5"
        ],
        [
         "96",
         "2.00746166935679",
         "T",
         "100003;18;100003;22;100006;23",
         "2"
        ],
        [
         "668",
         "2.0104047099440936",
         "T",
         "100007;13;100007;16;100008;17",
         "6"
        ],
        [
         "870",
         "2.01268153374521",
         "T",
         "100006;17;100006;18;100005;19",
         "10"
        ],
        [
         "578",
         "2.0134059463317766",
         "T",
         "100005;8;100005;14;100003;15",
         "8"
        ],
        [
         "508",
         "2.0171648378350957",
         "T",
         "100005;16;100005;18;100008;19",
         "5"
        ],
        [
         "302",
         "2.0179976436047364",
         "T",
         "100006;19;100006;20;100007;21",
         "4"
        ],
        [
         "670",
         "2.025663437666217",
         "T",
         "100003;12;100003;18;100006;19",
         "6"
        ],
        [
         "580",
         "2.028388218219168",
         "T",
         "100008;11;100008;16;100007;17",
         "8"
        ]
       ],
       "shape": {
        "columns": 4,
        "rows": 285
       }
      },
      "text/html": [
       "<div>\n",
       "<style scoped>\n",
       "    .dataframe tbody tr th:only-of-type {\n",
       "        vertical-align: middle;\n",
       "    }\n",
       "\n",
       "    .dataframe tbody tr th {\n",
       "        vertical-align: top;\n",
       "    }\n",
       "\n",
       "    .dataframe thead th {\n",
       "        text-align: right;\n",
       "    }\n",
       "</style>\n",
       "<table border=\"1\" class=\"dataframe\">\n",
       "  <thead>\n",
       "    <tr style=\"text-align: right;\">\n",
       "      <th></th>\n",
       "      <th>TIME</th>\n",
       "      <th>EVENT</th>\n",
       "      <th>NODES</th>\n",
       "      <th>filename</th>\n",
       "    </tr>\n",
       "  </thead>\n",
       "  <tbody>\n",
       "    <tr>\n",
       "      <th>289</th>\n",
       "      <td>1.535556</td>\n",
       "      <td>T</td>\n",
       "      <td>100002;3;100002;4;100001;5</td>\n",
       "      <td>4</td>\n",
       "    </tr>\n",
       "    <tr>\n",
       "      <th>753</th>\n",
       "      <td>1.563927</td>\n",
       "      <td>T</td>\n",
       "      <td>100001;2;100001;4;100002;5</td>\n",
       "      <td>7</td>\n",
       "    </tr>\n",
       "    <tr>\n",
       "      <th>175</th>\n",
       "      <td>1.565400</td>\n",
       "      <td>T</td>\n",
       "      <td>100001;2;100001;4;100002;5</td>\n",
       "      <td>1</td>\n",
       "    </tr>\n",
       "    <tr>\n",
       "      <th>81</th>\n",
       "      <td>1.603259</td>\n",
       "      <td>T</td>\n",
       "      <td>100001;2;100001;4;100002;5</td>\n",
       "      <td>2</td>\n",
       "    </tr>\n",
       "    <tr>\n",
       "      <th>83</th>\n",
       "      <td>1.635550</td>\n",
       "      <td>T</td>\n",
       "      <td>100002;5;100002;6;100001;7</td>\n",
       "      <td>2</td>\n",
       "    </tr>\n",
       "    <tr>\n",
       "      <th>...</th>\n",
       "      <td>...</td>\n",
       "      <td>...</td>\n",
       "      <td>...</td>\n",
       "      <td>...</td>\n",
       "    </tr>\n",
       "    <tr>\n",
       "      <th>835</th>\n",
       "      <td>3.021590</td>\n",
       "      <td>T</td>\n",
       "      <td>100034;87;100034;104;100019;105</td>\n",
       "      <td>7</td>\n",
       "    </tr>\n",
       "    <tr>\n",
       "      <th>265</th>\n",
       "      <td>3.021679</td>\n",
       "      <td>T</td>\n",
       "      <td>100035;111;100035;112;100020;113</td>\n",
       "      <td>1</td>\n",
       "    </tr>\n",
       "    <tr>\n",
       "      <th>363</th>\n",
       "      <td>3.026598</td>\n",
       "      <td>T</td>\n",
       "      <td>100034;91;100034;96;100023;97</td>\n",
       "      <td>4</td>\n",
       "    </tr>\n",
       "    <tr>\n",
       "      <th>949</th>\n",
       "      <td>3.027679</td>\n",
       "      <td>T</td>\n",
       "      <td>100028;75;100028;112;100031;113</td>\n",
       "      <td>10</td>\n",
       "    </tr>\n",
       "    <tr>\n",
       "      <th>151</th>\n",
       "      <td>3.027735</td>\n",
       "      <td>T</td>\n",
       "      <td>100014;71;100014;92;100018;93</td>\n",
       "      <td>2</td>\n",
       "    </tr>\n",
       "  </tbody>\n",
       "</table>\n",
       "<p>285 rows × 4 columns</p>\n",
       "</div>"
      ],
      "text/plain": [
       "         TIME EVENT                             NODES filename\n",
       "289  1.535556     T        100002;3;100002;4;100001;5        4\n",
       "753  1.563927     T        100001;2;100001;4;100002;5        7\n",
       "175  1.565400     T        100001;2;100001;4;100002;5        1\n",
       "81   1.603259     T        100001;2;100001;4;100002;5        2\n",
       "83   1.635550     T        100002;5;100002;6;100001;7        2\n",
       "..        ...   ...                               ...      ...\n",
       "835  3.021590     T   100034;87;100034;104;100019;105        7\n",
       "265  3.021679     T  100035;111;100035;112;100020;113        1\n",
       "363  3.026598     T     100034;91;100034;96;100023;97        4\n",
       "949  3.027679     T   100028;75;100028;112;100031;113       10\n",
       "151  3.027735     T     100014;71;100014;92;100018;93        2\n",
       "\n",
       "[285 rows x 4 columns]"
      ]
     },
     "execution_count": 369,
     "metadata": {},
     "output_type": "execute_result"
    }
   ],
   "source": [
    "# Maintenant, on génère l'arbre d'espèces\n",
    "from IPython.display import clear_output\n",
    "import subprocess\n",
    "from pathlib import Path\n",
    "OUTPUT_FOLDER = Path(\"/home/enzo/Documents/git/WP1/DeepGhosts/Output_test\") \n",
    "sp_tree_index = 1\n",
    "tree_output_folder = str(OUTPUT_FOLDER / f\"species_tree_{sp_tree_index}\")\n",
    "command = f\"python3 /home/enzo/Documents/git/Zombi_ale_friendly/Zombi.py T /home/enzo/Documents/git/WP1/DeepGhosts/bin/zombi_configs/SpeciesTreeParameters_2.tsv {tree_output_folder}\"\n",
    "subprocess.run(command, shell=True)\n",
    "command = f\"python3 /home/enzo/Documents/git/Zombi_ale_friendly/Zombi.py G /home/enzo/Documents/git/WP1/DeepGhosts/bin/zombi_configs/GenomeParameters_2.tsv {tree_output_folder}\"\n",
    "subprocess.run(command, shell=True)\n",
    "clear_output()\n",
    "import pandas as pd\n",
    "from glob import glob\n",
    "import os\n",
    "species_tree_index = 1\n",
    "# open every tsv file of the form *_branchevents.tsv in the folder, and concatenate them into a single dataframe with a new columns containing the * part of the filename.\n",
    "folder_path = f\"/home/enzo/Documents/git/WP1/DeepGhosts/Output_test/species_tree_{species_tree_index}/G/Gene_families/\"\n",
    "all_files = glob(os.path.join(folder_path, \"*_events.tsv\"))\n",
    "df_from_each_file = (pd.read_csv(f, sep=\"\\t\").assign(filename=os.path.basename(f).split(\"_\")[0]) for f in all_files)\n",
    "events_df_1 = pd.concat(df_from_each_file, ignore_index=True)\n",
    "events_df_1[events_df_1[\"EVENT\"]==\"T\"].sort_values(by=\"TIME\")"
   ]
  },
  {
   "cell_type": "code",
   "execution_count": 359,
   "metadata": {},
   "outputs": [
    {
     "data": {
      "application/vnd.microsoft.datawrangler.viewer.v0+json": {
       "columns": [
        {
         "name": "index",
         "rawType": "int64",
         "type": "integer"
        },
        {
         "name": "TIME",
         "rawType": "float64",
         "type": "float"
        },
        {
         "name": "EVENT",
         "rawType": "object",
         "type": "string"
        },
        {
         "name": "NODES",
         "rawType": "object",
         "type": "string"
        },
        {
         "name": "filename",
         "rawType": "object",
         "type": "string"
        }
       ],
       "conversionMethod": "pd.DataFrame",
       "ref": "63977e47-b55e-4788-a044-c11f66357c48",
       "rows": [
        [
         "289",
         "1.5355563595301929",
         "T",
         "100002;3;100002;4;100001;5",
         "4"
        ],
        [
         "753",
         "1.5639265553679922",
         "T",
         "100001;2;100001;4;100002;5",
         "7"
        ],
        [
         "175",
         "1.5654000699869188",
         "T",
         "100001;2;100001;4;100002;5",
         "1"
        ],
        [
         "81",
         "1.6032594628119723",
         "T",
         "100001;2;100001;4;100002;5",
         "2"
        ],
        [
         "83",
         "1.6355502518405762",
         "T",
         "100002;5;100002;6;100001;7",
         "2"
        ],
        [
         "755",
         "1.6377471826687473",
         "T",
         "100001;4;100001;6;100002;7",
         "7"
        ],
        [
         "757",
         "1.6598043778178315",
         "T",
         "100001;6;100001;8;100002;9",
         "7"
        ],
        [
         "860",
         "1.7043183333118086",
         "T",
         "100004;5;100004;6;100003;7",
         "10"
        ],
        [
         "178",
         "1.7056929289078804",
         "T",
         "100004;7;100004;8;100003;9",
         "1"
        ],
        [
         "498",
         "1.7060542734286062",
         "T",
         "100001;2;100001;6;100004;7",
         "5"
        ],
        [
         "660",
         "1.7098616067381214",
         "T",
         "100001;2;100001;6;100004;7",
         "6"
        ],
        [
         "388",
         "1.7168781872787957",
         "T",
         "100001;2;100001;6;100004;7",
         "3"
        ],
        [
         "862",
         "1.7264651378717213",
         "T",
         "100001;2;100001;8;100003;9",
         "10"
        ],
        [
         "572",
         "1.7572561928674613",
         "T",
         "100003;4;100003;6;100004;7",
         "8"
        ],
        [
         "390",
         "1.7682377844626662",
         "T",
         "100001;6;100001;8;100003;9",
         "3"
        ],
        [
         "392",
         "1.7912267821619556",
         "T",
         "100003;9;100003;10;100004;11",
         "3"
        ],
        [
         "761",
         "1.8008119604006734",
         "T",
         "100004;11;100004;14;100003;15",
         "7"
        ],
        [
         "664",
         "1.8135283048279045",
         "T",
         "100003;4;100003;12;100007;13",
         "6"
        ],
        [
         "294",
         "1.8175727392552592",
         "T",
         "100003;6;100003;12;100007;13",
         "4"
        ],
        [
         "88",
         "1.831506432751556",
         "T",
         "100006;11;100006;14;100005;15",
         "2"
        ],
        [
         "296",
         "1.8418986020471533",
         "T",
         "100003;12;100003;14;100007;15",
         "4"
        ],
        [
         "576",
         "1.8514269266278136",
         "T",
         "100006;9;100006;12;100007;13",
         "8"
        ],
        [
         "6",
         "1.8519164157393484",
         "T",
         "100003;4;100003;10;100007;11",
         "9"
        ],
        [
         "182",
         "1.864556253060465",
         "T",
         "100006;11;100006;14;100005;15",
         "1"
        ],
        [
         "90",
         "1.8881841627358509",
         "T",
         "100008;13;100008;16;100007;17",
         "2"
        ],
        [
         "866",
         "1.9226197959436824",
         "T",
         "100007;12;100007;14;100005;15",
         "10"
        ],
        [
         "8",
         "1.9265313920839424",
         "T",
         "100007;11;100007;12;100003;13",
         "9"
        ],
        [
         "764",
         "1.937408983180388",
         "T",
         "100006;13;100006;18;100007;19",
         "7"
        ],
        [
         "92",
         "1.9444721359725496",
         "T",
         "100003;8;100003;18;100005;19",
         "2"
        ],
        [
         "868",
         "1.946676184416973",
         "T",
         "100008;13;100008;16;100006;17",
         "10"
        ],
        [
         "502",
         "1.9487729049653115",
         "T",
         "100006;9;100006;12;100005;13",
         "5"
        ],
        [
         "396",
         "1.954951846740761",
         "T",
         "100007;14;100007;16;100006;17",
         "3"
        ],
        [
         "766",
         "1.9611817241866476",
         "T",
         "100008;17;100008;20;100007;21",
         "7"
        ],
        [
         "298",
         "1.965668048617736",
         "T",
         "100007;15;100007;16;100008;17",
         "4"
        ],
        [
         "768",
         "1.9695300189981968",
         "T",
         "100008;20;100008;22;100007;23",
         "7"
        ],
        [
         "94",
         "1.996807208625439",
         "T",
         "100007;17;100007;20;100008;21",
         "2"
        ],
        [
         "504",
         "1.9981001183646616",
         "T",
         "100005;13;100005;14;100008;15",
         "5"
        ],
        [
         "666",
         "1.9987101309269737",
         "T",
         "100005;8;100005;14;100006;15",
         "6"
        ],
        [
         "184",
         "1.9988124881316551",
         "T",
         "100005;15;100005;16;100003;17",
         "1"
        ],
        [
         "398",
         "2.0010617660831818",
         "T",
         "100008;15;100008;18;100007;19",
         "3"
        ],
        [
         "300",
         "2.002678998703382",
         "T",
         "100005;8;100005;18;100006;19",
         "4"
        ],
        [
         "506",
         "2.003741788205124",
         "T",
         "100005;14;100005;16;100006;17",
         "5"
        ],
        [
         "96",
         "2.00746166935679",
         "T",
         "100003;18;100003;22;100006;23",
         "2"
        ],
        [
         "668",
         "2.0104047099440936",
         "T",
         "100007;13;100007;16;100008;17",
         "6"
        ],
        [
         "870",
         "2.01268153374521",
         "T",
         "100006;17;100006;18;100005;19",
         "10"
        ],
        [
         "578",
         "2.0134059463317766",
         "T",
         "100005;8;100005;14;100003;15",
         "8"
        ],
        [
         "508",
         "2.0171648378350957",
         "T",
         "100005;16;100005;18;100008;19",
         "5"
        ],
        [
         "302",
         "2.0179976436047364",
         "T",
         "100006;19;100006;20;100007;21",
         "4"
        ],
        [
         "670",
         "2.025663437666217",
         "T",
         "100003;12;100003;18;100006;19",
         "6"
        ],
        [
         "580",
         "2.028388218219168",
         "T",
         "100008;11;100008;16;100007;17",
         "8"
        ]
       ],
       "shape": {
        "columns": 4,
        "rows": 285
       }
      },
      "text/html": [
       "<div>\n",
       "<style scoped>\n",
       "    .dataframe tbody tr th:only-of-type {\n",
       "        vertical-align: middle;\n",
       "    }\n",
       "\n",
       "    .dataframe tbody tr th {\n",
       "        vertical-align: top;\n",
       "    }\n",
       "\n",
       "    .dataframe thead th {\n",
       "        text-align: right;\n",
       "    }\n",
       "</style>\n",
       "<table border=\"1\" class=\"dataframe\">\n",
       "  <thead>\n",
       "    <tr style=\"text-align: right;\">\n",
       "      <th></th>\n",
       "      <th>TIME</th>\n",
       "      <th>EVENT</th>\n",
       "      <th>NODES</th>\n",
       "      <th>filename</th>\n",
       "    </tr>\n",
       "  </thead>\n",
       "  <tbody>\n",
       "    <tr>\n",
       "      <th>289</th>\n",
       "      <td>1.535556</td>\n",
       "      <td>T</td>\n",
       "      <td>100002;3;100002;4;100001;5</td>\n",
       "      <td>4</td>\n",
       "    </tr>\n",
       "    <tr>\n",
       "      <th>753</th>\n",
       "      <td>1.563927</td>\n",
       "      <td>T</td>\n",
       "      <td>100001;2;100001;4;100002;5</td>\n",
       "      <td>7</td>\n",
       "    </tr>\n",
       "    <tr>\n",
       "      <th>175</th>\n",
       "      <td>1.565400</td>\n",
       "      <td>T</td>\n",
       "      <td>100001;2;100001;4;100002;5</td>\n",
       "      <td>1</td>\n",
       "    </tr>\n",
       "    <tr>\n",
       "      <th>81</th>\n",
       "      <td>1.603259</td>\n",
       "      <td>T</td>\n",
       "      <td>100001;2;100001;4;100002;5</td>\n",
       "      <td>2</td>\n",
       "    </tr>\n",
       "    <tr>\n",
       "      <th>83</th>\n",
       "      <td>1.635550</td>\n",
       "      <td>T</td>\n",
       "      <td>100002;5;100002;6;100001;7</td>\n",
       "      <td>2</td>\n",
       "    </tr>\n",
       "    <tr>\n",
       "      <th>...</th>\n",
       "      <td>...</td>\n",
       "      <td>...</td>\n",
       "      <td>...</td>\n",
       "      <td>...</td>\n",
       "    </tr>\n",
       "    <tr>\n",
       "      <th>835</th>\n",
       "      <td>3.021590</td>\n",
       "      <td>T</td>\n",
       "      <td>100034;87;100034;104;100019;105</td>\n",
       "      <td>7</td>\n",
       "    </tr>\n",
       "    <tr>\n",
       "      <th>265</th>\n",
       "      <td>3.021679</td>\n",
       "      <td>T</td>\n",
       "      <td>100035;111;100035;112;100020;113</td>\n",
       "      <td>1</td>\n",
       "    </tr>\n",
       "    <tr>\n",
       "      <th>363</th>\n",
       "      <td>3.026598</td>\n",
       "      <td>T</td>\n",
       "      <td>100034;91;100034;96;100023;97</td>\n",
       "      <td>4</td>\n",
       "    </tr>\n",
       "    <tr>\n",
       "      <th>949</th>\n",
       "      <td>3.027679</td>\n",
       "      <td>T</td>\n",
       "      <td>100028;75;100028;112;100031;113</td>\n",
       "      <td>10</td>\n",
       "    </tr>\n",
       "    <tr>\n",
       "      <th>151</th>\n",
       "      <td>3.027735</td>\n",
       "      <td>T</td>\n",
       "      <td>100014;71;100014;92;100018;93</td>\n",
       "      <td>2</td>\n",
       "    </tr>\n",
       "  </tbody>\n",
       "</table>\n",
       "<p>285 rows × 4 columns</p>\n",
       "</div>"
      ],
      "text/plain": [
       "         TIME EVENT                             NODES filename\n",
       "289  1.535556     T        100002;3;100002;4;100001;5        4\n",
       "753  1.563927     T        100001;2;100001;4;100002;5        7\n",
       "175  1.565400     T        100001;2;100001;4;100002;5        1\n",
       "81   1.603259     T        100001;2;100001;4;100002;5        2\n",
       "83   1.635550     T        100002;5;100002;6;100001;7        2\n",
       "..        ...   ...                               ...      ...\n",
       "835  3.021590     T   100034;87;100034;104;100019;105        7\n",
       "265  3.021679     T  100035;111;100035;112;100020;113        1\n",
       "363  3.026598     T     100034;91;100034;96;100023;97        4\n",
       "949  3.027679     T   100028;75;100028;112;100031;113       10\n",
       "151  3.027735     T     100014;71;100014;92;100018;93        2\n",
       "\n",
       "[285 rows x 4 columns]"
      ]
     },
     "execution_count": 359,
     "metadata": {},
     "output_type": "execute_result"
    }
   ],
   "source": [
    "events_df_0[events_df_0[\"EVENT\"]==\"T\"].sort_values(by=\"TIME\")"
   ]
  },
  {
   "cell_type": "code",
   "execution_count": 371,
   "metadata": {},
   "outputs": [
    {
     "data": {
      "application/vnd.microsoft.datawrangler.viewer.v0+json": {
       "columns": [
        {
         "name": "index",
         "rawType": "int64",
         "type": "integer"
        },
        {
         "name": "TIME",
         "rawType": "bool",
         "type": "boolean"
        },
        {
         "name": "EVENT",
         "rawType": "bool",
         "type": "boolean"
        },
        {
         "name": "NODES",
         "rawType": "bool",
         "type": "boolean"
        },
        {
         "name": "filename",
         "rawType": "bool",
         "type": "boolean"
        }
       ],
       "conversionMethod": "pd.DataFrame",
       "ref": "0a5a9230-3e99-4644-aa09-798bb5684ce5",
       "rows": [
        [
         "289",
         "True",
         "True",
         "True",
         "True"
        ],
        [
         "753",
         "True",
         "True",
         "True",
         "True"
        ],
        [
         "175",
         "True",
         "True",
         "True",
         "True"
        ],
        [
         "81",
         "True",
         "True",
         "True",
         "True"
        ],
        [
         "83",
         "True",
         "True",
         "True",
         "True"
        ],
        [
         "755",
         "True",
         "True",
         "True",
         "True"
        ],
        [
         "757",
         "True",
         "True",
         "True",
         "True"
        ],
        [
         "860",
         "True",
         "True",
         "True",
         "True"
        ],
        [
         "178",
         "True",
         "True",
         "True",
         "True"
        ],
        [
         "498",
         "True",
         "True",
         "True",
         "True"
        ],
        [
         "660",
         "True",
         "True",
         "True",
         "True"
        ],
        [
         "388",
         "True",
         "True",
         "True",
         "True"
        ],
        [
         "862",
         "True",
         "True",
         "True",
         "True"
        ],
        [
         "572",
         "True",
         "True",
         "True",
         "True"
        ],
        [
         "390",
         "True",
         "True",
         "True",
         "True"
        ],
        [
         "392",
         "True",
         "True",
         "True",
         "True"
        ],
        [
         "761",
         "True",
         "True",
         "True",
         "True"
        ],
        [
         "664",
         "True",
         "True",
         "True",
         "True"
        ],
        [
         "294",
         "True",
         "True",
         "True",
         "True"
        ],
        [
         "88",
         "True",
         "True",
         "True",
         "True"
        ],
        [
         "296",
         "True",
         "True",
         "True",
         "True"
        ],
        [
         "576",
         "True",
         "True",
         "True",
         "True"
        ],
        [
         "6",
         "True",
         "True",
         "True",
         "True"
        ],
        [
         "182",
         "True",
         "True",
         "True",
         "True"
        ],
        [
         "90",
         "True",
         "True",
         "True",
         "True"
        ],
        [
         "866",
         "True",
         "True",
         "True",
         "True"
        ],
        [
         "8",
         "True",
         "True",
         "True",
         "True"
        ],
        [
         "764",
         "True",
         "True",
         "True",
         "True"
        ],
        [
         "92",
         "True",
         "True",
         "True",
         "True"
        ],
        [
         "868",
         "True",
         "True",
         "True",
         "True"
        ],
        [
         "502",
         "True",
         "True",
         "True",
         "True"
        ],
        [
         "396",
         "True",
         "True",
         "True",
         "True"
        ],
        [
         "766",
         "True",
         "True",
         "True",
         "True"
        ],
        [
         "298",
         "True",
         "True",
         "True",
         "True"
        ],
        [
         "768",
         "True",
         "True",
         "True",
         "True"
        ],
        [
         "94",
         "True",
         "True",
         "True",
         "True"
        ],
        [
         "504",
         "True",
         "True",
         "True",
         "True"
        ],
        [
         "666",
         "True",
         "True",
         "True",
         "True"
        ],
        [
         "184",
         "True",
         "True",
         "True",
         "True"
        ],
        [
         "398",
         "True",
         "True",
         "True",
         "True"
        ],
        [
         "300",
         "True",
         "True",
         "True",
         "True"
        ],
        [
         "506",
         "True",
         "True",
         "True",
         "True"
        ],
        [
         "96",
         "True",
         "True",
         "True",
         "True"
        ],
        [
         "668",
         "True",
         "True",
         "True",
         "True"
        ],
        [
         "870",
         "True",
         "True",
         "True",
         "True"
        ],
        [
         "578",
         "True",
         "True",
         "True",
         "True"
        ],
        [
         "508",
         "True",
         "True",
         "True",
         "True"
        ],
        [
         "302",
         "True",
         "True",
         "True",
         "True"
        ],
        [
         "670",
         "True",
         "True",
         "True",
         "True"
        ],
        [
         "580",
         "True",
         "True",
         "True",
         "True"
        ]
       ],
       "shape": {
        "columns": 4,
        "rows": 285
       }
      },
      "text/html": [
       "<div>\n",
       "<style scoped>\n",
       "    .dataframe tbody tr th:only-of-type {\n",
       "        vertical-align: middle;\n",
       "    }\n",
       "\n",
       "    .dataframe tbody tr th {\n",
       "        vertical-align: top;\n",
       "    }\n",
       "\n",
       "    .dataframe thead th {\n",
       "        text-align: right;\n",
       "    }\n",
       "</style>\n",
       "<table border=\"1\" class=\"dataframe\">\n",
       "  <thead>\n",
       "    <tr style=\"text-align: right;\">\n",
       "      <th></th>\n",
       "      <th>TIME</th>\n",
       "      <th>EVENT</th>\n",
       "      <th>NODES</th>\n",
       "      <th>filename</th>\n",
       "    </tr>\n",
       "  </thead>\n",
       "  <tbody>\n",
       "    <tr>\n",
       "      <th>289</th>\n",
       "      <td>True</td>\n",
       "      <td>True</td>\n",
       "      <td>True</td>\n",
       "      <td>True</td>\n",
       "    </tr>\n",
       "    <tr>\n",
       "      <th>753</th>\n",
       "      <td>True</td>\n",
       "      <td>True</td>\n",
       "      <td>True</td>\n",
       "      <td>True</td>\n",
       "    </tr>\n",
       "    <tr>\n",
       "      <th>175</th>\n",
       "      <td>True</td>\n",
       "      <td>True</td>\n",
       "      <td>True</td>\n",
       "      <td>True</td>\n",
       "    </tr>\n",
       "    <tr>\n",
       "      <th>81</th>\n",
       "      <td>True</td>\n",
       "      <td>True</td>\n",
       "      <td>True</td>\n",
       "      <td>True</td>\n",
       "    </tr>\n",
       "    <tr>\n",
       "      <th>83</th>\n",
       "      <td>True</td>\n",
       "      <td>True</td>\n",
       "      <td>True</td>\n",
       "      <td>True</td>\n",
       "    </tr>\n",
       "    <tr>\n",
       "      <th>...</th>\n",
       "      <td>...</td>\n",
       "      <td>...</td>\n",
       "      <td>...</td>\n",
       "      <td>...</td>\n",
       "    </tr>\n",
       "    <tr>\n",
       "      <th>835</th>\n",
       "      <td>True</td>\n",
       "      <td>True</td>\n",
       "      <td>True</td>\n",
       "      <td>True</td>\n",
       "    </tr>\n",
       "    <tr>\n",
       "      <th>265</th>\n",
       "      <td>True</td>\n",
       "      <td>True</td>\n",
       "      <td>True</td>\n",
       "      <td>True</td>\n",
       "    </tr>\n",
       "    <tr>\n",
       "      <th>363</th>\n",
       "      <td>True</td>\n",
       "      <td>True</td>\n",
       "      <td>True</td>\n",
       "      <td>True</td>\n",
       "    </tr>\n",
       "    <tr>\n",
       "      <th>949</th>\n",
       "      <td>True</td>\n",
       "      <td>True</td>\n",
       "      <td>True</td>\n",
       "      <td>True</td>\n",
       "    </tr>\n",
       "    <tr>\n",
       "      <th>151</th>\n",
       "      <td>True</td>\n",
       "      <td>True</td>\n",
       "      <td>True</td>\n",
       "      <td>True</td>\n",
       "    </tr>\n",
       "  </tbody>\n",
       "</table>\n",
       "<p>285 rows × 4 columns</p>\n",
       "</div>"
      ],
      "text/plain": [
       "     TIME  EVENT  NODES  filename\n",
       "289  True   True   True      True\n",
       "753  True   True   True      True\n",
       "175  True   True   True      True\n",
       "81   True   True   True      True\n",
       "83   True   True   True      True\n",
       "..    ...    ...    ...       ...\n",
       "835  True   True   True      True\n",
       "265  True   True   True      True\n",
       "363  True   True   True      True\n",
       "949  True   True   True      True\n",
       "151  True   True   True      True\n",
       "\n",
       "[285 rows x 4 columns]"
      ]
     },
     "execution_count": 371,
     "metadata": {},
     "output_type": "execute_result"
    }
   ],
   "source": [
    "events_df_0_T = events_df_0[events_df_0[\"EVENT\"]==\"T\"].sort_values(by=\"TIME\")\n",
    "events_df_1_T = events_df_1[events_df_1[\"EVENT\"]==\"T\"].sort_values(by=\"TIME\")\n",
    "events_df_0_T == events_df_1_T"
   ]
  },
  {
   "cell_type": "code",
   "execution_count": 372,
   "metadata": {},
   "outputs": [
    {
     "data": {
      "text/plain": [
       "True"
      ]
     },
     "execution_count": 372,
     "metadata": {},
     "output_type": "execute_result"
    }
   ],
   "source": [
    "events_df_0_T.equals(events_df_1_T)"
   ]
  },
  {
   "cell_type": "code",
   "execution_count": 360,
   "metadata": {},
   "outputs": [
    {
     "data": {
      "text/plain": [
       "np.True_"
      ]
     },
     "execution_count": 360,
     "metadata": {},
     "output_type": "execute_result"
    }
   ],
   "source": [
    "(events_df_0[\"TIME\"] == events_df_1[\"TIME\"]).all()"
   ]
  },
  {
   "cell_type": "code",
   "execution_count": 373,
   "metadata": {},
   "outputs": [
    {
     "data": {
      "application/vnd.microsoft.datawrangler.viewer.v0+json": {
       "columns": [
        {
         "name": "index",
         "rawType": "int64",
         "type": "integer"
        },
        {
         "name": "TIME",
         "rawType": "bool",
         "type": "boolean"
        },
        {
         "name": "EVENT",
         "rawType": "bool",
         "type": "boolean"
        },
        {
         "name": "NODES",
         "rawType": "bool",
         "type": "boolean"
        },
        {
         "name": "filename",
         "rawType": "bool",
         "type": "boolean"
        }
       ],
       "conversionMethod": "pd.DataFrame",
       "ref": "f9859727-8724-4e7c-aa85-0a925462eb4d",
       "rows": [
        [
         "0",
         "True",
         "True",
         "True",
         "True"
        ],
        [
         "1",
         "True",
         "True",
         "True",
         "True"
        ],
        [
         "2",
         "True",
         "True",
         "True",
         "True"
        ],
        [
         "3",
         "True",
         "True",
         "True",
         "True"
        ],
        [
         "4",
         "True",
         "True",
         "True",
         "True"
        ],
        [
         "5",
         "True",
         "True",
         "True",
         "True"
        ],
        [
         "6",
         "True",
         "True",
         "True",
         "True"
        ],
        [
         "7",
         "True",
         "True",
         "True",
         "True"
        ],
        [
         "8",
         "True",
         "True",
         "True",
         "True"
        ],
        [
         "9",
         "True",
         "True",
         "True",
         "True"
        ],
        [
         "10",
         "True",
         "True",
         "True",
         "True"
        ],
        [
         "11",
         "True",
         "True",
         "True",
         "True"
        ],
        [
         "12",
         "True",
         "True",
         "True",
         "True"
        ],
        [
         "13",
         "True",
         "True",
         "True",
         "True"
        ],
        [
         "14",
         "True",
         "True",
         "True",
         "True"
        ],
        [
         "15",
         "True",
         "True",
         "True",
         "True"
        ],
        [
         "16",
         "True",
         "True",
         "True",
         "True"
        ],
        [
         "17",
         "True",
         "True",
         "True",
         "True"
        ],
        [
         "18",
         "True",
         "True",
         "True",
         "True"
        ],
        [
         "19",
         "True",
         "True",
         "True",
         "True"
        ],
        [
         "20",
         "True",
         "True",
         "True",
         "True"
        ],
        [
         "21",
         "True",
         "True",
         "True",
         "True"
        ],
        [
         "22",
         "True",
         "True",
         "True",
         "True"
        ],
        [
         "23",
         "True",
         "True",
         "True",
         "True"
        ],
        [
         "24",
         "True",
         "True",
         "True",
         "True"
        ],
        [
         "25",
         "True",
         "True",
         "True",
         "True"
        ],
        [
         "26",
         "True",
         "True",
         "True",
         "True"
        ],
        [
         "27",
         "True",
         "True",
         "True",
         "True"
        ],
        [
         "28",
         "True",
         "True",
         "True",
         "True"
        ],
        [
         "29",
         "True",
         "True",
         "True",
         "True"
        ],
        [
         "30",
         "True",
         "True",
         "True",
         "True"
        ],
        [
         "31",
         "True",
         "True",
         "True",
         "True"
        ],
        [
         "32",
         "True",
         "True",
         "True",
         "True"
        ],
        [
         "33",
         "True",
         "True",
         "True",
         "True"
        ],
        [
         "34",
         "True",
         "True",
         "True",
         "True"
        ],
        [
         "35",
         "True",
         "True",
         "True",
         "True"
        ],
        [
         "36",
         "True",
         "True",
         "True",
         "True"
        ],
        [
         "37",
         "True",
         "True",
         "True",
         "True"
        ],
        [
         "38",
         "True",
         "True",
         "True",
         "True"
        ],
        [
         "39",
         "True",
         "True",
         "True",
         "True"
        ],
        [
         "40",
         "True",
         "True",
         "True",
         "True"
        ],
        [
         "41",
         "True",
         "True",
         "True",
         "True"
        ],
        [
         "42",
         "True",
         "True",
         "True",
         "True"
        ],
        [
         "43",
         "True",
         "True",
         "True",
         "True"
        ],
        [
         "44",
         "True",
         "True",
         "True",
         "True"
        ],
        [
         "45",
         "True",
         "True",
         "True",
         "True"
        ],
        [
         "46",
         "True",
         "True",
         "True",
         "True"
        ],
        [
         "47",
         "True",
         "True",
         "True",
         "True"
        ],
        [
         "48",
         "True",
         "True",
         "True",
         "True"
        ],
        [
         "49",
         "True",
         "True",
         "True",
         "True"
        ]
       ],
       "shape": {
        "columns": 4,
        "rows": 970
       }
      },
      "text/html": [
       "<div>\n",
       "<style scoped>\n",
       "    .dataframe tbody tr th:only-of-type {\n",
       "        vertical-align: middle;\n",
       "    }\n",
       "\n",
       "    .dataframe tbody tr th {\n",
       "        vertical-align: top;\n",
       "    }\n",
       "\n",
       "    .dataframe thead th {\n",
       "        text-align: right;\n",
       "    }\n",
       "</style>\n",
       "<table border=\"1\" class=\"dataframe\">\n",
       "  <thead>\n",
       "    <tr style=\"text-align: right;\">\n",
       "      <th></th>\n",
       "      <th>TIME</th>\n",
       "      <th>EVENT</th>\n",
       "      <th>NODES</th>\n",
       "      <th>filename</th>\n",
       "    </tr>\n",
       "  </thead>\n",
       "  <tbody>\n",
       "    <tr>\n",
       "      <th>0</th>\n",
       "      <td>True</td>\n",
       "      <td>True</td>\n",
       "      <td>True</td>\n",
       "      <td>True</td>\n",
       "    </tr>\n",
       "    <tr>\n",
       "      <th>1</th>\n",
       "      <td>True</td>\n",
       "      <td>True</td>\n",
       "      <td>True</td>\n",
       "      <td>True</td>\n",
       "    </tr>\n",
       "    <tr>\n",
       "      <th>2</th>\n",
       "      <td>True</td>\n",
       "      <td>True</td>\n",
       "      <td>True</td>\n",
       "      <td>True</td>\n",
       "    </tr>\n",
       "    <tr>\n",
       "      <th>3</th>\n",
       "      <td>True</td>\n",
       "      <td>True</td>\n",
       "      <td>True</td>\n",
       "      <td>True</td>\n",
       "    </tr>\n",
       "    <tr>\n",
       "      <th>4</th>\n",
       "      <td>True</td>\n",
       "      <td>True</td>\n",
       "      <td>True</td>\n",
       "      <td>True</td>\n",
       "    </tr>\n",
       "    <tr>\n",
       "      <th>...</th>\n",
       "      <td>...</td>\n",
       "      <td>...</td>\n",
       "      <td>...</td>\n",
       "      <td>...</td>\n",
       "    </tr>\n",
       "    <tr>\n",
       "      <th>965</th>\n",
       "      <td>True</td>\n",
       "      <td>True</td>\n",
       "      <td>False</td>\n",
       "      <td>True</td>\n",
       "    </tr>\n",
       "    <tr>\n",
       "      <th>966</th>\n",
       "      <td>True</td>\n",
       "      <td>True</td>\n",
       "      <td>False</td>\n",
       "      <td>True</td>\n",
       "    </tr>\n",
       "    <tr>\n",
       "      <th>967</th>\n",
       "      <td>True</td>\n",
       "      <td>True</td>\n",
       "      <td>False</td>\n",
       "      <td>True</td>\n",
       "    </tr>\n",
       "    <tr>\n",
       "      <th>968</th>\n",
       "      <td>True</td>\n",
       "      <td>True</td>\n",
       "      <td>False</td>\n",
       "      <td>True</td>\n",
       "    </tr>\n",
       "    <tr>\n",
       "      <th>969</th>\n",
       "      <td>True</td>\n",
       "      <td>True</td>\n",
       "      <td>False</td>\n",
       "      <td>True</td>\n",
       "    </tr>\n",
       "  </tbody>\n",
       "</table>\n",
       "<p>970 rows × 4 columns</p>\n",
       "</div>"
      ],
      "text/plain": [
       "     TIME  EVENT  NODES  filename\n",
       "0    True   True   True      True\n",
       "1    True   True   True      True\n",
       "2    True   True   True      True\n",
       "3    True   True   True      True\n",
       "4    True   True   True      True\n",
       "..    ...    ...    ...       ...\n",
       "965  True   True  False      True\n",
       "966  True   True  False      True\n",
       "967  True   True  False      True\n",
       "968  True   True  False      True\n",
       "969  True   True  False      True\n",
       "\n",
       "[970 rows x 4 columns]"
      ]
     },
     "execution_count": 373,
     "metadata": {},
     "output_type": "execute_result"
    }
   ],
   "source": [
    "events_df_0 == events_df_1"
   ]
  },
  {
   "cell_type": "code",
   "execution_count": 377,
   "metadata": {},
   "outputs": [
    {
     "data": {
      "application/vnd.microsoft.datawrangler.viewer.v0+json": {
       "columns": [
        {
         "name": "index",
         "rawType": "int64",
         "type": "integer"
        },
        {
         "name": "TIME",
         "rawType": "float64",
         "type": "float"
        },
        {
         "name": "EVENT",
         "rawType": "object",
         "type": "string"
        },
        {
         "name": "NODES",
         "rawType": "object",
         "type": "string"
        },
        {
         "name": "filename",
         "rawType": "object",
         "type": "string"
        }
       ],
       "conversionMethod": "pd.DataFrame",
       "ref": "ba792be3-b3f6-478f-b0b4-8a008459a7a6",
       "rows": [
        [
         "0",
         "0.0",
         "O",
         "100000",
         "9"
        ],
        [
         "1",
         "1.5317010186723925",
         "S",
         "100000;1;100001;2;100002;3",
         "9"
        ],
        [
         "2",
         "1.6749045225291077",
         "S",
         "100002;3;100003;4;100004;5",
         "9"
        ],
        [
         "3",
         "1.8000821828124178",
         "S",
         "100001;2;100005;6;100006;7",
         "9"
        ],
        [
         "4",
         "1.8110350078321689",
         "S",
         "100004;5;100007;8;100008;9",
         "9"
        ],
        [
         "5",
         "1.8519164157393484",
         "L",
         "100007;8",
         "9"
        ],
        [
         "6",
         "1.8519164157393484",
         "T",
         "100003;4;100003;10;100007;11",
         "9"
        ],
        [
         "7",
         "1.9265313920839424",
         "L",
         "100003;10",
         "9"
        ],
        [
         "8",
         "1.9265313920839424",
         "T",
         "100007;11;100007;12;100003;13",
         "9"
        ],
        [
         "9",
         "2.0361266144058034",
         "L",
         "100007;12",
         "9"
        ],
        [
         "10",
         "2.0361266144058034",
         "T",
         "100008;9;100008;14;100007;15",
         "9"
        ],
        [
         "11",
         "2.050322814646278",
         "L",
         "100005;6",
         "9"
        ],
        [
         "12",
         "2.050322814646278",
         "T",
         "100006;7;100006;16;100005;17",
         "9"
        ],
        [
         "13",
         "2.2027451408403063",
         "L",
         "100006;16",
         "9"
        ],
        [
         "14",
         "2.2027451408403063",
         "T",
         "100005;17;100005;18;100006;19",
         "9"
        ],
        [
         "15",
         "2.2723503255353035",
         "L",
         "100007;15",
         "9"
        ],
        [
         "16",
         "2.2723503255353035",
         "T",
         "100003;13;100003;20;100007;21",
         "9"
        ],
        [
         "17",
         "2.2987670427233544",
         "S",
         "100008;14;100009;22;100010;23",
         "9"
        ],
        [
         "18",
         "2.416957562313341",
         "S",
         "100005;18;100011;24;100012;25",
         "9"
        ],
        [
         "19",
         "2.4963483423872908",
         "S",
         "100010;23;100013;26;100014;27",
         "9"
        ],
        [
         "20",
         "2.5440159152712387",
         "L",
         "100012;25",
         "9"
        ],
        [
         "21",
         "2.5440159152712387",
         "T",
         "100011;24;100011;28;100012;29",
         "9"
        ],
        [
         "22",
         "2.585437351074315",
         "L",
         "100007;21",
         "9"
        ],
        [
         "23",
         "2.585437351074315",
         "T",
         "100014;27;100014;30;100007;31",
         "9"
        ],
        [
         "24",
         "2.619192057045624",
         "L",
         "100011;28",
         "9"
        ],
        [
         "25",
         "2.619192057045624",
         "T",
         "100012;29;100012;32;100011;33",
         "9"
        ],
        [
         "26",
         "2.6586871074513163",
         "L",
         "100007;31",
         "9"
        ],
        [
         "27",
         "2.6586871074513163",
         "T",
         "100009;22;100009;34;100007;35",
         "9"
        ],
        [
         "28",
         "2.687923145451136",
         "L",
         "100013;26",
         "9"
        ],
        [
         "29",
         "2.687923145451136",
         "T",
         "100014;30;100014;36;100013;37",
         "9"
        ],
        [
         "30",
         "2.7073909276314256",
         "L",
         "100014;36",
         "9"
        ],
        [
         "31",
         "2.7073909276314256",
         "T",
         "100013;37;100013;38;100014;39",
         "9"
        ],
        [
         "32",
         "2.7281419374149647",
         "L",
         "100003;20",
         "9"
        ],
        [
         "33",
         "2.7281419374149647",
         "T",
         "100007;35;100007;40;100003;41",
         "9"
        ],
        [
         "34",
         "2.7486006342848714",
         "S",
         "100003;41;100015;42;100016;43",
         "9"
        ],
        [
         "35",
         "2.760811512303798",
         "S",
         "100006;19;100017;44;100018;45",
         "9"
        ],
        [
         "36",
         "2.8110364212609986",
         "S",
         "100009;34;100019;46;100020;47",
         "9"
        ],
        [
         "37",
         "2.814368430370956",
         "S",
         "100015;42;100021;48;100022;49",
         "9"
        ],
        [
         "38",
         "2.8184372674874054",
         "S",
         "100021;48;100023;50;100024;51",
         "9"
        ],
        [
         "39",
         "2.841850668217005",
         "S",
         "100007;40;100025;52;100026;53",
         "9"
        ],
        [
         "40",
         "2.877762603546515",
         "S",
         "100026;53;100027;54;100028;55",
         "9"
        ],
        [
         "41",
         "2.8906736983380408",
         "L",
         "100020;47",
         "9"
        ],
        [
         "42",
         "2.8906736983380408",
         "T",
         "100024;51;100024;56;100020;57",
         "9"
        ],
        [
         "43",
         "2.8944208748779",
         "S",
         "100011;33;100029;58;100030;59",
         "9"
        ],
        [
         "44",
         "2.8981469697585287",
         "S",
         "100017;44;100031;60;100032;61",
         "9"
        ],
        [
         "45",
         "2.9126453498706564",
         "L",
         "100020;57",
         "9"
        ],
        [
         "46",
         "2.9126453498706564",
         "T",
         "100032;61;100032;62;100020;63",
         "9"
        ],
        [
         "47",
         "2.9134455546170406",
         "L",
         "100025;52",
         "9"
        ],
        [
         "48",
         "2.9134455546170406",
         "T",
         "100013;38;100013;64;100025;65",
         "9"
        ],
        [
         "49",
         "2.9139007696645494",
         "S",
         "100024;56;100033;66;100034;67",
         "9"
        ]
       ],
       "shape": {
        "columns": 4,
        "rows": 970
       }
      },
      "text/html": [
       "<div>\n",
       "<style scoped>\n",
       "    .dataframe tbody tr th:only-of-type {\n",
       "        vertical-align: middle;\n",
       "    }\n",
       "\n",
       "    .dataframe tbody tr th {\n",
       "        vertical-align: top;\n",
       "    }\n",
       "\n",
       "    .dataframe thead th {\n",
       "        text-align: right;\n",
       "    }\n",
       "</style>\n",
       "<table border=\"1\" class=\"dataframe\">\n",
       "  <thead>\n",
       "    <tr style=\"text-align: right;\">\n",
       "      <th></th>\n",
       "      <th>TIME</th>\n",
       "      <th>EVENT</th>\n",
       "      <th>NODES</th>\n",
       "      <th>filename</th>\n",
       "    </tr>\n",
       "  </thead>\n",
       "  <tbody>\n",
       "    <tr>\n",
       "      <th>0</th>\n",
       "      <td>0.000000</td>\n",
       "      <td>O</td>\n",
       "      <td>100000</td>\n",
       "      <td>9</td>\n",
       "    </tr>\n",
       "    <tr>\n",
       "      <th>1</th>\n",
       "      <td>1.531701</td>\n",
       "      <td>S</td>\n",
       "      <td>100000;1;100001;2;100002;3</td>\n",
       "      <td>9</td>\n",
       "    </tr>\n",
       "    <tr>\n",
       "      <th>2</th>\n",
       "      <td>1.674905</td>\n",
       "      <td>S</td>\n",
       "      <td>100002;3;100003;4;100004;5</td>\n",
       "      <td>9</td>\n",
       "    </tr>\n",
       "    <tr>\n",
       "      <th>3</th>\n",
       "      <td>1.800082</td>\n",
       "      <td>S</td>\n",
       "      <td>100001;2;100005;6;100006;7</td>\n",
       "      <td>9</td>\n",
       "    </tr>\n",
       "    <tr>\n",
       "      <th>4</th>\n",
       "      <td>1.811035</td>\n",
       "      <td>S</td>\n",
       "      <td>100004;5;100007;8;100008;9</td>\n",
       "      <td>9</td>\n",
       "    </tr>\n",
       "    <tr>\n",
       "      <th>...</th>\n",
       "      <td>...</td>\n",
       "      <td>...</td>\n",
       "      <td>...</td>\n",
       "      <td>...</td>\n",
       "    </tr>\n",
       "    <tr>\n",
       "      <th>965</th>\n",
       "      <td>3.027820</td>\n",
       "      <td>F</td>\n",
       "      <td>100037;106</td>\n",
       "      <td>10</td>\n",
       "    </tr>\n",
       "    <tr>\n",
       "      <th>966</th>\n",
       "      <td>3.027820</td>\n",
       "      <td>F</td>\n",
       "      <td>100022;57</td>\n",
       "      <td>10</td>\n",
       "    </tr>\n",
       "    <tr>\n",
       "      <th>967</th>\n",
       "      <td>3.027820</td>\n",
       "      <td>F</td>\n",
       "      <td>100025;84</td>\n",
       "      <td>10</td>\n",
       "    </tr>\n",
       "    <tr>\n",
       "      <th>968</th>\n",
       "      <td>3.027820</td>\n",
       "      <td>F</td>\n",
       "      <td>100014;101</td>\n",
       "      <td>10</td>\n",
       "    </tr>\n",
       "    <tr>\n",
       "      <th>969</th>\n",
       "      <td>3.027820</td>\n",
       "      <td>F</td>\n",
       "      <td>100023;111</td>\n",
       "      <td>10</td>\n",
       "    </tr>\n",
       "  </tbody>\n",
       "</table>\n",
       "<p>970 rows × 4 columns</p>\n",
       "</div>"
      ],
      "text/plain": [
       "         TIME EVENT                       NODES filename\n",
       "0    0.000000     O                      100000        9\n",
       "1    1.531701     S  100000;1;100001;2;100002;3        9\n",
       "2    1.674905     S  100002;3;100003;4;100004;5        9\n",
       "3    1.800082     S  100001;2;100005;6;100006;7        9\n",
       "4    1.811035     S  100004;5;100007;8;100008;9        9\n",
       "..        ...   ...                         ...      ...\n",
       "965  3.027820     F                  100037;106       10\n",
       "966  3.027820     F                   100022;57       10\n",
       "967  3.027820     F                   100025;84       10\n",
       "968  3.027820     F                  100014;101       10\n",
       "969  3.027820     F                  100023;111       10\n",
       "\n",
       "[970 rows x 4 columns]"
      ]
     },
     "execution_count": 377,
     "metadata": {},
     "output_type": "execute_result"
    }
   ],
   "source": [
    "events_df_0"
   ]
  },
  {
   "cell_type": "code",
   "execution_count": 375,
   "metadata": {},
   "outputs": [
    {
     "data": {
      "application/vnd.microsoft.datawrangler.viewer.v0+json": {
       "columns": [
        {
         "name": "index",
         "rawType": "int64",
         "type": "integer"
        },
        {
         "name": "TIME",
         "rawType": "float64",
         "type": "float"
        },
        {
         "name": "EVENT",
         "rawType": "object",
         "type": "string"
        },
        {
         "name": "NODES",
         "rawType": "object",
         "type": "string"
        },
        {
         "name": "filename",
         "rawType": "object",
         "type": "string"
        }
       ],
       "conversionMethod": "pd.DataFrame",
       "ref": "6daa138b-d180-4334-83ea-b373b79de8bd",
       "rows": [
        [
         "0",
         "0.0",
         "O",
         "100000",
         "9"
        ],
        [
         "1",
         "1.5317010186723925",
         "S",
         "100000;1;100001;2;100002;3",
         "9"
        ],
        [
         "2",
         "1.6749045225291077",
         "S",
         "100002;3;100003;4;100004;5",
         "9"
        ],
        [
         "3",
         "1.8000821828124178",
         "S",
         "100001;2;100005;6;100006;7",
         "9"
        ],
        [
         "4",
         "1.8110350078321689",
         "S",
         "100004;5;100007;8;100008;9",
         "9"
        ],
        [
         "5",
         "1.8519164157393484",
         "L",
         "100007;8",
         "9"
        ],
        [
         "6",
         "1.8519164157393484",
         "T",
         "100003;4;100003;10;100007;11",
         "9"
        ],
        [
         "7",
         "1.9265313920839424",
         "L",
         "100003;10",
         "9"
        ],
        [
         "8",
         "1.9265313920839424",
         "T",
         "100007;11;100007;12;100003;13",
         "9"
        ],
        [
         "9",
         "2.0361266144058034",
         "L",
         "100007;12",
         "9"
        ],
        [
         "10",
         "2.0361266144058034",
         "T",
         "100008;9;100008;14;100007;15",
         "9"
        ],
        [
         "11",
         "2.050322814646278",
         "L",
         "100005;6",
         "9"
        ],
        [
         "12",
         "2.050322814646278",
         "T",
         "100006;7;100006;16;100005;17",
         "9"
        ],
        [
         "13",
         "2.2027451408403063",
         "L",
         "100006;16",
         "9"
        ],
        [
         "14",
         "2.2027451408403063",
         "T",
         "100005;17;100005;18;100006;19",
         "9"
        ],
        [
         "15",
         "2.2723503255353035",
         "L",
         "100007;15",
         "9"
        ],
        [
         "16",
         "2.2723503255353035",
         "T",
         "100003;13;100003;20;100007;21",
         "9"
        ],
        [
         "17",
         "2.2987670427233544",
         "S",
         "100008;14;100009;22;100010;23",
         "9"
        ],
        [
         "18",
         "2.416957562313341",
         "S",
         "100005;18;100011;24;100012;25",
         "9"
        ],
        [
         "19",
         "2.4963483423872908",
         "S",
         "100010;23;100013;26;100014;27",
         "9"
        ],
        [
         "20",
         "2.5440159152712387",
         "L",
         "100012;25",
         "9"
        ],
        [
         "21",
         "2.5440159152712387",
         "T",
         "100011;24;100011;28;100012;29",
         "9"
        ],
        [
         "22",
         "2.585437351074315",
         "L",
         "100007;21",
         "9"
        ],
        [
         "23",
         "2.585437351074315",
         "T",
         "100014;27;100014;30;100007;31",
         "9"
        ],
        [
         "24",
         "2.619192057045624",
         "L",
         "100011;28",
         "9"
        ],
        [
         "25",
         "2.619192057045624",
         "T",
         "100012;29;100012;32;100011;33",
         "9"
        ],
        [
         "26",
         "2.6586871074513163",
         "L",
         "100007;31",
         "9"
        ],
        [
         "27",
         "2.6586871074513163",
         "T",
         "100009;22;100009;34;100007;35",
         "9"
        ],
        [
         "28",
         "2.687923145451136",
         "L",
         "100013;26",
         "9"
        ],
        [
         "29",
         "2.687923145451136",
         "T",
         "100014;30;100014;36;100013;37",
         "9"
        ],
        [
         "30",
         "2.7073909276314256",
         "L",
         "100014;36",
         "9"
        ],
        [
         "31",
         "2.7073909276314256",
         "T",
         "100013;37;100013;38;100014;39",
         "9"
        ],
        [
         "32",
         "2.7281419374149647",
         "L",
         "100003;20",
         "9"
        ],
        [
         "33",
         "2.7281419374149647",
         "T",
         "100007;35;100007;40;100003;41",
         "9"
        ],
        [
         "34",
         "2.7486006342848714",
         "S",
         "100003;41;100015;42;100016;43",
         "9"
        ],
        [
         "35",
         "2.760811512303798",
         "S",
         "100006;19;100017;44;100018;45",
         "9"
        ],
        [
         "36",
         "2.8110364212609986",
         "S",
         "100009;34;100019;46;100020;47",
         "9"
        ],
        [
         "37",
         "2.814368430370956",
         "S",
         "100015;42;100021;48;100022;49",
         "9"
        ],
        [
         "38",
         "2.8184372674874054",
         "S",
         "100021;48;100023;50;100024;51",
         "9"
        ],
        [
         "39",
         "2.841850668217005",
         "S",
         "100007;40;100025;52;100026;53",
         "9"
        ],
        [
         "40",
         "2.877762603546515",
         "S",
         "100026;53;100027;54;100028;55",
         "9"
        ],
        [
         "41",
         "2.8906736983380408",
         "L",
         "100020;47",
         "9"
        ],
        [
         "42",
         "2.8906736983380408",
         "T",
         "100024;51;100024;56;100020;57",
         "9"
        ],
        [
         "43",
         "2.8944208748779",
         "S",
         "100011;33;100029;58;100030;59",
         "9"
        ],
        [
         "44",
         "2.8981469697585287",
         "S",
         "100017;44;100031;60;100032;61",
         "9"
        ],
        [
         "45",
         "2.9126453498706564",
         "L",
         "100020;57",
         "9"
        ],
        [
         "46",
         "2.9126453498706564",
         "T",
         "100032;61;100032;62;100020;63",
         "9"
        ],
        [
         "47",
         "2.9134455546170406",
         "L",
         "100025;52",
         "9"
        ],
        [
         "48",
         "2.9134455546170406",
         "T",
         "100013;38;100013;64;100025;65",
         "9"
        ],
        [
         "49",
         "2.9139007696645494",
         "S",
         "100024;56;100033;66;100034;67",
         "9"
        ]
       ],
       "shape": {
        "columns": 4,
        "rows": 970
       }
      },
      "text/html": [
       "<div>\n",
       "<style scoped>\n",
       "    .dataframe tbody tr th:only-of-type {\n",
       "        vertical-align: middle;\n",
       "    }\n",
       "\n",
       "    .dataframe tbody tr th {\n",
       "        vertical-align: top;\n",
       "    }\n",
       "\n",
       "    .dataframe thead th {\n",
       "        text-align: right;\n",
       "    }\n",
       "</style>\n",
       "<table border=\"1\" class=\"dataframe\">\n",
       "  <thead>\n",
       "    <tr style=\"text-align: right;\">\n",
       "      <th></th>\n",
       "      <th>TIME</th>\n",
       "      <th>EVENT</th>\n",
       "      <th>NODES</th>\n",
       "      <th>filename</th>\n",
       "    </tr>\n",
       "  </thead>\n",
       "  <tbody>\n",
       "    <tr>\n",
       "      <th>0</th>\n",
       "      <td>0.000000</td>\n",
       "      <td>O</td>\n",
       "      <td>100000</td>\n",
       "      <td>9</td>\n",
       "    </tr>\n",
       "    <tr>\n",
       "      <th>1</th>\n",
       "      <td>1.531701</td>\n",
       "      <td>S</td>\n",
       "      <td>100000;1;100001;2;100002;3</td>\n",
       "      <td>9</td>\n",
       "    </tr>\n",
       "    <tr>\n",
       "      <th>2</th>\n",
       "      <td>1.674905</td>\n",
       "      <td>S</td>\n",
       "      <td>100002;3;100003;4;100004;5</td>\n",
       "      <td>9</td>\n",
       "    </tr>\n",
       "    <tr>\n",
       "      <th>3</th>\n",
       "      <td>1.800082</td>\n",
       "      <td>S</td>\n",
       "      <td>100001;2;100005;6;100006;7</td>\n",
       "      <td>9</td>\n",
       "    </tr>\n",
       "    <tr>\n",
       "      <th>4</th>\n",
       "      <td>1.811035</td>\n",
       "      <td>S</td>\n",
       "      <td>100004;5;100007;8;100008;9</td>\n",
       "      <td>9</td>\n",
       "    </tr>\n",
       "    <tr>\n",
       "      <th>...</th>\n",
       "      <td>...</td>\n",
       "      <td>...</td>\n",
       "      <td>...</td>\n",
       "      <td>...</td>\n",
       "    </tr>\n",
       "    <tr>\n",
       "      <th>965</th>\n",
       "      <td>3.027820</td>\n",
       "      <td>F</td>\n",
       "      <td>100016;43</td>\n",
       "      <td>10</td>\n",
       "    </tr>\n",
       "    <tr>\n",
       "      <th>966</th>\n",
       "      <td>3.027820</td>\n",
       "      <td>F</td>\n",
       "      <td>100032;97</td>\n",
       "      <td>10</td>\n",
       "    </tr>\n",
       "    <tr>\n",
       "      <th>967</th>\n",
       "      <td>3.027820</td>\n",
       "      <td>F</td>\n",
       "      <td>100028;112</td>\n",
       "      <td>10</td>\n",
       "    </tr>\n",
       "    <tr>\n",
       "      <th>968</th>\n",
       "      <td>3.027820</td>\n",
       "      <td>F</td>\n",
       "      <td>100013;109</td>\n",
       "      <td>10</td>\n",
       "    </tr>\n",
       "    <tr>\n",
       "      <th>969</th>\n",
       "      <td>3.027820</td>\n",
       "      <td>F</td>\n",
       "      <td>100012;98</td>\n",
       "      <td>10</td>\n",
       "    </tr>\n",
       "  </tbody>\n",
       "</table>\n",
       "<p>970 rows × 4 columns</p>\n",
       "</div>"
      ],
      "text/plain": [
       "         TIME EVENT                       NODES filename\n",
       "0    0.000000     O                      100000        9\n",
       "1    1.531701     S  100000;1;100001;2;100002;3        9\n",
       "2    1.674905     S  100002;3;100003;4;100004;5        9\n",
       "3    1.800082     S  100001;2;100005;6;100006;7        9\n",
       "4    1.811035     S  100004;5;100007;8;100008;9        9\n",
       "..        ...   ...                         ...      ...\n",
       "965  3.027820     F                   100016;43       10\n",
       "966  3.027820     F                   100032;97       10\n",
       "967  3.027820     F                  100028;112       10\n",
       "968  3.027820     F                  100013;109       10\n",
       "969  3.027820     F                   100012;98       10\n",
       "\n",
       "[970 rows x 4 columns]"
      ]
     },
     "execution_count": 375,
     "metadata": {},
     "output_type": "execute_result"
    }
   ],
   "source": [
    "events_df_1"
   ]
  },
  {
   "cell_type": "code",
   "execution_count": 378,
   "metadata": {},
   "outputs": [
    {
     "data": {
      "text/plain": [
       "True"
      ]
     },
     "execution_count": 378,
     "metadata": {},
     "output_type": "execute_result"
    }
   ],
   "source": [
    "import pandas as pd\n",
    "\n",
    "# Assuming events_df_0 and events_df_1 are already defined\n",
    "# Sorting the DataFrames by the specified columns\n",
    "sorted_df_0 = events_df_0.sort_values(by=[\"TIME\", \"EVENT\", \"NODES\", \"filename\"]).reset_index(drop=True)\n",
    "sorted_df_1 = events_df_1.sort_values(by=[\"TIME\", \"EVENT\", \"NODES\", \"filename\"]).reset_index(drop=True)\n",
    "\n",
    "# Checking equality\n",
    "dataframes_are_equal = sorted_df_0.equals(sorted_df_1)\n",
    "\n",
    "dataframes_are_equal\n"
   ]
  },
  {
   "cell_type": "code",
   "execution_count": 379,
   "metadata": {},
   "outputs": [
    {
     "data": {
      "application/vnd.microsoft.datawrangler.viewer.v0+json": {
       "columns": [
        {
         "name": "index",
         "rawType": "int64",
         "type": "integer"
        },
        {
         "name": "TIME",
         "rawType": "float64",
         "type": "float"
        },
        {
         "name": "EVENT",
         "rawType": "object",
         "type": "string"
        },
        {
         "name": "NODES",
         "rawType": "object",
         "type": "string"
        },
        {
         "name": "filename",
         "rawType": "object",
         "type": "string"
        }
       ],
       "conversionMethod": "pd.DataFrame",
       "ref": "89670e1e-aaa4-4ac3-a168-ba7e26e0841e",
       "rows": [
        [
         "0",
         "0.0",
         "O",
         "100000",
         "1"
        ],
        [
         "1",
         "0.0",
         "O",
         "100000",
         "10"
        ],
        [
         "2",
         "0.0",
         "O",
         "100000",
         "2"
        ],
        [
         "3",
         "0.0",
         "O",
         "100000",
         "3"
        ],
        [
         "4",
         "0.0",
         "O",
         "100000",
         "4"
        ],
        [
         "5",
         "0.0",
         "O",
         "100000",
         "5"
        ],
        [
         "6",
         "0.0",
         "O",
         "100000",
         "6"
        ],
        [
         "7",
         "0.0",
         "O",
         "100000",
         "7"
        ],
        [
         "8",
         "0.0",
         "O",
         "100000",
         "8"
        ],
        [
         "9",
         "0.0",
         "O",
         "100000",
         "9"
        ],
        [
         "10",
         "1.5317010186723925",
         "S",
         "100000;1;100001;2;100002;3",
         "1"
        ],
        [
         "11",
         "1.5317010186723925",
         "S",
         "100000;1;100001;2;100002;3",
         "10"
        ],
        [
         "12",
         "1.5317010186723925",
         "S",
         "100000;1;100001;2;100002;3",
         "2"
        ],
        [
         "13",
         "1.5317010186723925",
         "S",
         "100000;1;100001;2;100002;3",
         "3"
        ],
        [
         "14",
         "1.5317010186723925",
         "S",
         "100000;1;100001;2;100002;3",
         "4"
        ],
        [
         "15",
         "1.5317010186723925",
         "S",
         "100000;1;100001;2;100002;3",
         "5"
        ],
        [
         "16",
         "1.5317010186723925",
         "S",
         "100000;1;100001;2;100002;3",
         "6"
        ],
        [
         "17",
         "1.5317010186723925",
         "S",
         "100000;1;100001;2;100002;3",
         "7"
        ],
        [
         "18",
         "1.5317010186723925",
         "S",
         "100000;1;100001;2;100002;3",
         "8"
        ],
        [
         "19",
         "1.5317010186723925",
         "S",
         "100000;1;100001;2;100002;3",
         "9"
        ],
        [
         "20",
         "1.5355563595301929",
         "L",
         "100001;2",
         "4"
        ],
        [
         "21",
         "1.5355563595301929",
         "T",
         "100002;3;100002;4;100001;5",
         "4"
        ],
        [
         "22",
         "1.5639265553679922",
         "L",
         "100002;3",
         "7"
        ],
        [
         "23",
         "1.5639265553679922",
         "T",
         "100001;2;100001;4;100002;5",
         "7"
        ],
        [
         "24",
         "1.5654000699869188",
         "L",
         "100002;3",
         "1"
        ],
        [
         "25",
         "1.5654000699869188",
         "T",
         "100001;2;100001;4;100002;5",
         "1"
        ],
        [
         "26",
         "1.6032594628119723",
         "L",
         "100002;3",
         "2"
        ],
        [
         "27",
         "1.6032594628119723",
         "T",
         "100001;2;100001;4;100002;5",
         "2"
        ],
        [
         "28",
         "1.6355502518405762",
         "L",
         "100001;4",
         "2"
        ],
        [
         "29",
         "1.6355502518405762",
         "T",
         "100002;5;100002;6;100001;7",
         "2"
        ],
        [
         "30",
         "1.6377471826687473",
         "L",
         "100002;5",
         "7"
        ],
        [
         "31",
         "1.6377471826687473",
         "T",
         "100001;4;100001;6;100002;7",
         "7"
        ],
        [
         "32",
         "1.6598043778178315",
         "L",
         "100002;7",
         "7"
        ],
        [
         "33",
         "1.6598043778178315",
         "T",
         "100001;6;100001;8;100002;9",
         "7"
        ],
        [
         "34",
         "1.6749045225291077",
         "S",
         "100002;3;100003;4;100004;5",
         "10"
        ],
        [
         "35",
         "1.6749045225291077",
         "S",
         "100002;3;100003;4;100004;5",
         "3"
        ],
        [
         "36",
         "1.6749045225291077",
         "S",
         "100002;3;100003;4;100004;5",
         "5"
        ],
        [
         "37",
         "1.6749045225291077",
         "S",
         "100002;3;100003;4;100004;5",
         "6"
        ],
        [
         "38",
         "1.6749045225291077",
         "S",
         "100002;3;100003;4;100004;5",
         "8"
        ],
        [
         "39",
         "1.6749045225291077",
         "S",
         "100002;3;100003;4;100004;5",
         "9"
        ],
        [
         "40",
         "1.6749045225291077",
         "S",
         "100002;4;100003;6;100004;7",
         "4"
        ],
        [
         "41",
         "1.6749045225291077",
         "S",
         "100002;5;100003;6;100004;7",
         "1"
        ],
        [
         "42",
         "1.6749045225291077",
         "S",
         "100002;6;100003;8;100004;9",
         "2"
        ],
        [
         "43",
         "1.6749045225291077",
         "S",
         "100002;9;100003;10;100004;11",
         "7"
        ],
        [
         "44",
         "1.7043183333118086",
         "L",
         "100003;4",
         "10"
        ],
        [
         "45",
         "1.7043183333118086",
         "T",
         "100004;5;100004;6;100003;7",
         "10"
        ],
        [
         "46",
         "1.7056929289078804",
         "L",
         "100003;6",
         "1"
        ],
        [
         "47",
         "1.7056929289078804",
         "T",
         "100004;7;100004;8;100003;9",
         "1"
        ],
        [
         "48",
         "1.7060542734286062",
         "L",
         "100004;5",
         "5"
        ],
        [
         "49",
         "1.7060542734286062",
         "T",
         "100001;2;100001;6;100004;7",
         "5"
        ]
       ],
       "shape": {
        "columns": 4,
        "rows": 970
       }
      },
      "text/html": [
       "<div>\n",
       "<style scoped>\n",
       "    .dataframe tbody tr th:only-of-type {\n",
       "        vertical-align: middle;\n",
       "    }\n",
       "\n",
       "    .dataframe tbody tr th {\n",
       "        vertical-align: top;\n",
       "    }\n",
       "\n",
       "    .dataframe thead th {\n",
       "        text-align: right;\n",
       "    }\n",
       "</style>\n",
       "<table border=\"1\" class=\"dataframe\">\n",
       "  <thead>\n",
       "    <tr style=\"text-align: right;\">\n",
       "      <th></th>\n",
       "      <th>TIME</th>\n",
       "      <th>EVENT</th>\n",
       "      <th>NODES</th>\n",
       "      <th>filename</th>\n",
       "    </tr>\n",
       "  </thead>\n",
       "  <tbody>\n",
       "    <tr>\n",
       "      <th>0</th>\n",
       "      <td>0.00000</td>\n",
       "      <td>O</td>\n",
       "      <td>100000</td>\n",
       "      <td>1</td>\n",
       "    </tr>\n",
       "    <tr>\n",
       "      <th>1</th>\n",
       "      <td>0.00000</td>\n",
       "      <td>O</td>\n",
       "      <td>100000</td>\n",
       "      <td>10</td>\n",
       "    </tr>\n",
       "    <tr>\n",
       "      <th>2</th>\n",
       "      <td>0.00000</td>\n",
       "      <td>O</td>\n",
       "      <td>100000</td>\n",
       "      <td>2</td>\n",
       "    </tr>\n",
       "    <tr>\n",
       "      <th>3</th>\n",
       "      <td>0.00000</td>\n",
       "      <td>O</td>\n",
       "      <td>100000</td>\n",
       "      <td>3</td>\n",
       "    </tr>\n",
       "    <tr>\n",
       "      <th>4</th>\n",
       "      <td>0.00000</td>\n",
       "      <td>O</td>\n",
       "      <td>100000</td>\n",
       "      <td>4</td>\n",
       "    </tr>\n",
       "    <tr>\n",
       "      <th>...</th>\n",
       "      <td>...</td>\n",
       "      <td>...</td>\n",
       "      <td>...</td>\n",
       "      <td>...</td>\n",
       "    </tr>\n",
       "    <tr>\n",
       "      <th>965</th>\n",
       "      <td>3.02782</td>\n",
       "      <td>F</td>\n",
       "      <td>100038;75</td>\n",
       "      <td>8</td>\n",
       "    </tr>\n",
       "    <tr>\n",
       "      <th>966</th>\n",
       "      <td>3.02782</td>\n",
       "      <td>F</td>\n",
       "      <td>100038;89</td>\n",
       "      <td>2</td>\n",
       "    </tr>\n",
       "    <tr>\n",
       "      <th>967</th>\n",
       "      <td>3.02782</td>\n",
       "      <td>F</td>\n",
       "      <td>100038;93</td>\n",
       "      <td>4</td>\n",
       "    </tr>\n",
       "    <tr>\n",
       "      <th>968</th>\n",
       "      <td>3.02782</td>\n",
       "      <td>F</td>\n",
       "      <td>100038;93</td>\n",
       "      <td>6</td>\n",
       "    </tr>\n",
       "    <tr>\n",
       "      <th>969</th>\n",
       "      <td>3.02782</td>\n",
       "      <td>F</td>\n",
       "      <td>100038;99</td>\n",
       "      <td>7</td>\n",
       "    </tr>\n",
       "  </tbody>\n",
       "</table>\n",
       "<p>970 rows × 4 columns</p>\n",
       "</div>"
      ],
      "text/plain": [
       "        TIME EVENT      NODES filename\n",
       "0    0.00000     O     100000        1\n",
       "1    0.00000     O     100000       10\n",
       "2    0.00000     O     100000        2\n",
       "3    0.00000     O     100000        3\n",
       "4    0.00000     O     100000        4\n",
       "..       ...   ...        ...      ...\n",
       "965  3.02782     F  100038;75        8\n",
       "966  3.02782     F  100038;89        2\n",
       "967  3.02782     F  100038;93        4\n",
       "968  3.02782     F  100038;93        6\n",
       "969  3.02782     F  100038;99        7\n",
       "\n",
       "[970 rows x 4 columns]"
      ]
     },
     "execution_count": 379,
     "metadata": {},
     "output_type": "execute_result"
    }
   ],
   "source": [
    "sorted_df_1"
   ]
  },
  {
   "cell_type": "code",
   "execution_count": null,
   "metadata": {},
   "outputs": [],
   "source": [
    "events_df"
   ]
  },
  {
   "cell_type": "code",
   "execution_count": null,
   "metadata": {},
   "outputs": [],
   "source": [
    "events_df[\"filename\"].unique()"
   ]
  },
  {
   "cell_type": "code",
   "execution_count": null,
   "metadata": {},
   "outputs": [],
   "source": [
    "events_df[events_df[\"EVENT\"] == \"T\"]"
   ]
  },
  {
   "cell_type": "code",
   "execution_count": null,
   "metadata": {},
   "outputs": [],
   "source": [
    "from ete3 import Tree\n",
    "tree = Tree(\"/home/enzo/Documents/git/WP1/DeepGhosts/Output_test/species_tree_0/T/CompleteTree.nwk\", format=1)\n",
    "sum([node.dist for node in tree.traverse()])"
   ]
  },
  {
   "cell_type": "markdown",
   "metadata": {},
   "source": [
    "Test avec le Zombi de base"
   ]
  },
  {
   "cell_type": "code",
   "execution_count": null,
   "metadata": {},
   "outputs": [],
   "source": [
    "!pip install pyvolve"
   ]
  },
  {
   "cell_type": "code",
   "execution_count": null,
   "metadata": {},
   "outputs": [],
   "source": [
    "# Maintenant, on génère l'arbre d'espèces\n",
    "import subprocess\n",
    "from pathlib import Path\n",
    "OUTPUT_FOLDER = Path(\"/home/enzo/Documents/git/WP1/DeepGhosts/Output_test\") \n",
    "sp_tree_index = 1\n",
    "tree_output_folder = str(OUTPUT_FOLDER / f\"species_tree_{sp_tree_index}\")\n",
    "command = f\"python3 /home/enzo/Documents/git/deeprec/Zombi/Zombi.py T /home/enzo/Documents/git/WP1/DeepGhosts/bin/zombi_configs/SpeciesTreeParameters_2.tsv {tree_output_folder}\"\n",
    "subprocess.run(command, shell=True)"
   ]
  },
  {
   "cell_type": "code",
   "execution_count": null,
   "metadata": {},
   "outputs": [],
   "source": [
    "command = f\"python3 /home/enzo/Documents/git/deeprec/Zombi/Zombi.py Gm /home/enzo/Documents/git/WP1/DeepGhosts/bin/zombi_configs/GenomeParameters_2.tsv {tree_output_folder}\"\n",
    "subprocess.run(command, shell=True)"
   ]
  }
 ],
 "metadata": {
  "kernelspec": {
   "display_name": "DeepGhosts",
   "language": "python",
   "name": "python3"
  },
  "language_info": {
   "codemirror_mode": {
    "name": "ipython",
    "version": 3
   },
   "file_extension": ".py",
   "mimetype": "text/x-python",
   "name": "python",
   "nbconvert_exporter": "python",
   "pygments_lexer": "ipython3",
   "version": "3.12.8"
  }
 },
 "nbformat": 4,
 "nbformat_minor": 2
}
